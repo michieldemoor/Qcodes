{
 "cells": [
  {
   "cell_type": "markdown",
   "metadata": {},
   "source": [
    "# QCoDeS config\n",
    "\n",
    "The QCoDeS config module uses JSON files to store QCoDeS configuration modeled after the module structure with some high-level switches. \n",
    "\n",
    "The config file controls various options to QCoDeS such as the default path and name of the database in which your data is stored and logging level of the debug output. QCoDeS is shipped with a default configuration. As we describe below, you may overwrite these default values to customize QCoDeS for your nanoelectronics research. \n",
    "\n",
    "You may want to do something as simple as changing the default path of your database to something complex as including your own configuration variables. In this example notebook, we will explore some of the configuration variables, demonstrate how configuration values may be changed at runtime and saved to files, and explore using custom configuration values to suit your own needs.   \n"
   ]
  },
  {
   "cell_type": "markdown",
   "metadata": {},
   "source": [
    "QCoDeS loads both the defaults and the active configuration at the module import so that you can directly inspect them"
   ]
  },
  {
   "cell_type": "code",
   "execution_count": 1,
   "metadata": {
    "execution": {
     "iopub.execute_input": "2022-10-31T09:09:15.501470Z",
     "iopub.status.busy": "2022-10-31T09:09:15.501177Z",
     "iopub.status.idle": "2022-10-31T09:09:15.808312Z",
     "shell.execute_reply": "2022-10-31T09:09:15.807599Z"
    }
   },
   "outputs": [],
   "source": [
    "import qcodes as qc"
   ]
  },
  {
   "cell_type": "code",
   "execution_count": 2,
   "metadata": {
    "execution": {
     "iopub.execute_input": "2022-10-31T09:09:15.812613Z",
     "iopub.status.busy": "2022-10-31T09:09:15.811826Z",
     "iopub.status.idle": "2022-10-31T09:09:15.823404Z",
     "shell.execute_reply": "2022-10-31T09:09:15.822726Z"
    }
   },
   "outputs": [
    {
     "data": {
      "text/plain": [
       "{'core': {'default_fmt': 'data/{date}/#{counter}_{name}_{time}',\n",
       "  'register_magic': False,\n",
       "  'import_legacy_api': False,\n",
       "  'db_location': '~/experiments.db',\n",
       "  'db_debug': False,\n",
       "  'loglevel': 'WARNING',\n",
       "  'file_loglevel': 'INFO'},\n",
       " 'logger': {'start_logging_on_import': 'if_telemetry_set_up',\n",
       "  'console_level': 'WARNING',\n",
       "  'file_level': 'INFO',\n",
       "  'logger_levels': {'pyvisa': 'INFO'}},\n",
       " 'subscription': {'subscribers': {'QCPlot': {'factory': 'qcplotutils.qcodes_dataset.QCPlotDatasetSubscriber',\n",
       "    'factory_kwargs': {'log': False},\n",
       "    'subscription_kwargs': {'min_wait': 0,\n",
       "     'min_count': 1,\n",
       "     'callback_kwargs': {}}}},\n",
       "  'default_subscribers': []},\n",
       " 'gui': {'notebook': True,\n",
       "  'plotlib': None,\n",
       "  'pyqtmaxplots': 100,\n",
       "  'defaultcolormap': 'hot'},\n",
       " 'plotting': {'default_color_map': 'viridis',\n",
       "  'rasterize_threshold': 5000,\n",
       "  'auto_color_scale': {'enabled': False,\n",
       "   'cutoff_percentile': [0.5, 0.5],\n",
       "   'color_over': '#a1c4fc',\n",
       "   'color_under': '#017000'}},\n",
       " 'user': {'scriptfolder': '.', 'mainfolder': '.'},\n",
       " 'station': {'enable_forced_reconnect': False,\n",
       "  'default_folder': '.',\n",
       "  'default_file': None,\n",
       "  'use_monitor': False},\n",
       " 'GUID_components': {'GUID_type': 'explicit_sample',\n",
       "  'location': 0,\n",
       "  'work_station': 0,\n",
       "  'sample': 0},\n",
       " 'dataset': {'write_in_background': False,\n",
       "  'write_period': 5.0,\n",
       "  'use_threads': False,\n",
       "  'dond_plot': False,\n",
       "  'dond_show_progress': False,\n",
       "  'export_automatic': False,\n",
       "  'export_type': None,\n",
       "  'export_prefix': 'qcodes_',\n",
       "  'export_path': '~',\n",
       "  'export_name_elements': ['captured_run_id', 'guid']},\n",
       " 'telemetry': {'enabled': False,\n",
       "  'instrumentation_key': '00000000-0000-0000-0000-000000000000'}}"
      ]
     },
     "execution_count": 2,
     "metadata": {},
     "output_type": "execute_result"
    }
   ],
   "source": [
    "qc.config.current_config"
   ]
  },
  {
   "cell_type": "markdown",
   "metadata": {},
   "source": [
    "The current config is build from multiple config files.\n",
    "\n",
    "The config files are read in the following order:\n",
    "\n",
    "* Package defaults\n",
    "* User's home directory\n",
    "* QCODES_CONFIG environment variable\n",
    "* Current working directory\n",
    "\n",
    "Meaning that any value set in a config file in the package default is overwritten by the same value in the users home dir and so on. \n",
    "\n",
    "Note: A change in the configuration requires reimporting the package, or restarting the notebook kernel."
   ]
  },
  {
   "cell_type": "code",
   "execution_count": 3,
   "metadata": {
    "execution": {
     "iopub.execute_input": "2022-10-31T09:09:15.826692Z",
     "iopub.status.busy": "2022-10-31T09:09:15.826456Z",
     "iopub.status.idle": "2022-10-31T09:09:15.832491Z",
     "shell.execute_reply": "2022-10-31T09:09:15.831798Z"
    }
   },
   "outputs": [
    {
     "data": {
      "text/plain": [
       "{'core': {'default_fmt': 'data/{date}/#{counter}_{name}_{time}',\n",
       "  'register_magic': False,\n",
       "  'import_legacy_api': False,\n",
       "  'db_location': '~/experiments.db',\n",
       "  'db_debug': False,\n",
       "  'loglevel': 'WARNING',\n",
       "  'file_loglevel': 'INFO'},\n",
       " 'logger': {'start_logging_on_import': 'if_telemetry_set_up',\n",
       "  'console_level': 'WARNING',\n",
       "  'file_level': 'INFO',\n",
       "  'logger_levels': {'pyvisa': 'INFO'}},\n",
       " 'subscription': {'subscribers': {'QCPlot': {'factory': 'qcplotutils.qcodes_dataset.QCPlotDatasetSubscriber',\n",
       "    'factory_kwargs': {'log': False},\n",
       "    'subscription_kwargs': {'min_wait': 0,\n",
       "     'min_count': 1,\n",
       "     'callback_kwargs': {}}}},\n",
       "  'default_subscribers': []},\n",
       " 'gui': {'notebook': True,\n",
       "  'plotlib': None,\n",
       "  'pyqtmaxplots': 100,\n",
       "  'defaultcolormap': 'hot'},\n",
       " 'plotting': {'default_color_map': 'viridis',\n",
       "  'rasterize_threshold': 5000,\n",
       "  'auto_color_scale': {'enabled': False,\n",
       "   'cutoff_percentile': [0.5, 0.5],\n",
       "   'color_over': '#a1c4fc',\n",
       "   'color_under': '#017000'}},\n",
       " 'user': {'scriptfolder': '.', 'mainfolder': '.'},\n",
       " 'station': {'enable_forced_reconnect': False,\n",
       "  'default_folder': '.',\n",
       "  'default_file': None,\n",
       "  'use_monitor': False},\n",
       " 'GUID_components': {'GUID_type': 'explicit_sample',\n",
       "  'location': 0,\n",
       "  'work_station': 0,\n",
       "  'sample': 0},\n",
       " 'dataset': {'write_in_background': False,\n",
       "  'write_period': 5.0,\n",
       "  'use_threads': False,\n",
       "  'dond_plot': False,\n",
       "  'dond_show_progress': False,\n",
       "  'export_automatic': False,\n",
       "  'export_type': None,\n",
       "  'export_prefix': 'qcodes_',\n",
       "  'export_path': '~',\n",
       "  'export_name_elements': ['captured_run_id', 'guid']},\n",
       " 'telemetry': {'enabled': False,\n",
       "  'instrumentation_key': '00000000-0000-0000-0000-000000000000'}}"
      ]
     },
     "execution_count": 3,
     "metadata": {},
     "output_type": "execute_result"
    }
   ],
   "source": [
    "qc.config.defaults"
   ]
  },
  {
   "cell_type": "markdown",
   "metadata": {},
   "source": [
    "One can inspect what the configuration options mean at runtime"
   ]
  },
  {
   "cell_type": "code",
   "execution_count": 4,
   "metadata": {
    "execution": {
     "iopub.execute_input": "2022-10-31T09:09:15.836866Z",
     "iopub.status.busy": "2022-10-31T09:09:15.836642Z",
     "iopub.status.idle": "2022-10-31T09:09:15.840273Z",
     "shell.execute_reply": "2022-10-31T09:09:15.839580Z"
    }
   },
   "outputs": [
    {
     "name": "stdout",
     "output_type": "stream",
     "text": [
      "controls core settings of qcodes.\n",
      "Current value: {'default_fmt': 'data/{date}/#{counter}_{name}_{time}', 'register_magic': False, 'import_legacy_api': False, 'db_location': '~/experiments.db', 'db_debug': False, 'loglevel': 'WARNING', 'file_loglevel': 'INFO'}. Type: object. Default: Not defined.\n"
     ]
    }
   ],
   "source": [
    "print(qc.config.describe('core'))"
   ]
  },
  {
   "cell_type": "markdown",
   "metadata": {},
   "source": [
    "The default configuration is explained in more detail in the [api docs](../api/configuration/index.rst#qcodes-default-configuration)"
   ]
  },
  {
   "cell_type": "markdown",
   "metadata": {},
   "source": [
    "## Configuring QCoDeS"
   ]
  },
  {
   "cell_type": "markdown",
   "metadata": {},
   "source": [
    "Defaults are the settings that are shipped with the package, which you can overwrite programmatically."
   ]
  },
  {
   "cell_type": "markdown",
   "metadata": {},
   "source": [
    "A way to customize QCoDeS is to write your own JSON files, they are expected to be in the directories printed below and documented above.\n",
    "One will be empty because one needs to define first the environment variable in the OS. \n",
    "\n",
    "They are ordered by \"weight\", meaning that the last file always wins if it's overwriting any preconfigured defaults or values in the other files.\n",
    "\n",
    "Simply copy the file to the directories and you are good to go."
   ]
  },
  {
   "cell_type": "code",
   "execution_count": 5,
   "metadata": {
    "execution": {
     "iopub.execute_input": "2022-10-31T09:09:15.844478Z",
     "iopub.status.busy": "2022-10-31T09:09:15.844252Z",
     "iopub.status.idle": "2022-10-31T09:09:15.847989Z",
     "shell.execute_reply": "2022-10-31T09:09:15.847309Z"
    }
   },
   "outputs": [
    {
     "name": "stdout",
     "output_type": "stream",
     "text": [
      "/home/runner/qcodesrc.json\n",
      "\n",
      "/home/runner/work/Qcodes/Qcodes/docs/examples/qcodesrc.json\n"
     ]
    }
   ],
   "source": [
    "print(\"\\n\".join([qc.config.home_file_name, qc.config.env_file_name, qc.config.cwd_file_name]))"
   ]
  },
  {
   "cell_type": "markdown",
   "metadata": {},
   "source": [
    "The easiest way to add something to the configuration is to use the provided helper:"
   ]
  },
  {
   "cell_type": "code",
   "execution_count": 6,
   "metadata": {
    "execution": {
     "iopub.execute_input": "2022-10-31T09:09:15.851963Z",
     "iopub.status.busy": "2022-10-31T09:09:15.851735Z",
     "iopub.status.idle": "2022-10-31T09:09:15.862648Z",
     "shell.execute_reply": "2022-10-31T09:09:15.861960Z"
    }
   },
   "outputs": [],
   "source": [
    "qc.config.add(\"base_location\", \"/dev/random\", value_type=\"string\", description=\"Location of data\", default=\"/dev/random\")"
   ]
  },
  {
   "cell_type": "markdown",
   "metadata": {},
   "source": [
    "This will add a `base_location` with value `/dev/random` to the current configuration, and validate it's value to be of type string, will also set the description and what one would want to have as default.\n",
    "The new entry is saved in the 'user' part of the configuration."
   ]
  },
  {
   "cell_type": "code",
   "execution_count": 7,
   "metadata": {
    "execution": {
     "iopub.execute_input": "2022-10-31T09:09:15.865852Z",
     "iopub.status.busy": "2022-10-31T09:09:15.865625Z",
     "iopub.status.idle": "2022-10-31T09:09:15.869129Z",
     "shell.execute_reply": "2022-10-31T09:09:15.868446Z"
    }
   },
   "outputs": [
    {
     "name": "stdout",
     "output_type": "stream",
     "text": [
      "Location of data.\n",
      "Current value: /dev/random. Type: string. Default: /dev/random.\n"
     ]
    }
   ],
   "source": [
    "print(qc.config.describe('user.base_location'))"
   ]
  },
  {
   "cell_type": "markdown",
   "metadata": {},
   "source": [
    "You can also manually update the configuration from a specific file by supplying the path of the directory as the argument of `qc.config.update_config` method as follows: "
   ]
  },
  {
   "cell_type": "code",
   "execution_count": 8,
   "metadata": {
    "execution": {
     "iopub.execute_input": "2022-10-31T09:09:15.873091Z",
     "iopub.status.busy": "2022-10-31T09:09:15.872863Z",
     "iopub.status.idle": "2022-10-31T09:09:15.879860Z",
     "shell.execute_reply": "2022-10-31T09:09:15.879197Z"
    }
   },
   "outputs": [
    {
     "data": {
      "text/plain": [
       "{'core': {'default_fmt': 'data/{date}/#{counter}_{name}_{time}',\n",
       "  'register_magic': False,\n",
       "  'import_legacy_api': False,\n",
       "  'db_location': '~/experiments.db',\n",
       "  'db_debug': False,\n",
       "  'loglevel': 'WARNING',\n",
       "  'file_loglevel': 'INFO'},\n",
       " 'logger': {'start_logging_on_import': 'if_telemetry_set_up',\n",
       "  'console_level': 'WARNING',\n",
       "  'file_level': 'INFO',\n",
       "  'logger_levels': {'pyvisa': 'INFO'}},\n",
       " 'subscription': {'subscribers': {'QCPlot': {'factory': 'qcplotutils.qcodes_dataset.QCPlotDatasetSubscriber',\n",
       "    'factory_kwargs': {'log': False},\n",
       "    'subscription_kwargs': {'min_wait': 0,\n",
       "     'min_count': 1,\n",
       "     'callback_kwargs': {}}}},\n",
       "  'default_subscribers': []},\n",
       " 'gui': {'notebook': True,\n",
       "  'plotlib': None,\n",
       "  'pyqtmaxplots': 100,\n",
       "  'defaultcolormap': 'hot'},\n",
       " 'plotting': {'default_color_map': 'viridis',\n",
       "  'rasterize_threshold': 5000,\n",
       "  'auto_color_scale': {'enabled': False,\n",
       "   'cutoff_percentile': [0.5, 0.5],\n",
       "   'color_over': '#a1c4fc',\n",
       "   'color_under': '#017000'}},\n",
       " 'user': {'scriptfolder': '.', 'mainfolder': '.'},\n",
       " 'station': {'enable_forced_reconnect': False,\n",
       "  'default_folder': '.',\n",
       "  'default_file': None,\n",
       "  'use_monitor': False},\n",
       " 'GUID_components': {'GUID_type': 'explicit_sample',\n",
       "  'location': 0,\n",
       "  'work_station': 0,\n",
       "  'sample': 0},\n",
       " 'dataset': {'write_in_background': False,\n",
       "  'write_period': 5.0,\n",
       "  'use_threads': False,\n",
       "  'dond_plot': False,\n",
       "  'dond_show_progress': False,\n",
       "  'export_automatic': False,\n",
       "  'export_type': None,\n",
       "  'export_prefix': 'qcodes_',\n",
       "  'export_path': '~',\n",
       "  'export_name_elements': ['captured_run_id', 'guid']},\n",
       " 'telemetry': {'enabled': False,\n",
       "  'instrumentation_key': '00000000-0000-0000-0000-000000000000'}}"
      ]
     },
     "execution_count": 8,
     "metadata": {},
     "output_type": "execute_result"
    }
   ],
   "source": [
    "qc.config.update_config(path=\"C:\\\\Users\\\\jenielse\\\\\")"
   ]
  },
  {
   "cell_type": "markdown",
   "metadata": {},
   "source": [
    "## Saving changes"
   ]
  },
  {
   "cell_type": "markdown",
   "metadata": {},
   "source": [
    "All the changes made to the defaults are stored, and one can then decide to save them to the desired location."
   ]
  },
  {
   "cell_type": "code",
   "execution_count": 9,
   "metadata": {
    "execution": {
     "iopub.execute_input": "2022-10-31T09:09:15.883789Z",
     "iopub.status.busy": "2022-10-31T09:09:15.883568Z",
     "iopub.status.idle": "2022-10-31T09:09:15.887248Z",
     "shell.execute_reply": "2022-10-31T09:09:15.886576Z"
    }
   },
   "outputs": [
    {
     "name": "stdout",
     "output_type": "stream",
     "text": [
      "Help on method save_to_cwd in module qcodes.configuration.config:\n",
      "\n",
      "save_to_cwd() -> 'None' method of qcodes.configuration.config.Config instance\n",
      "    Save config and schema to files in current working dir\n",
      "\n"
     ]
    }
   ],
   "source": [
    "help(qc.config.save_to_cwd)"
   ]
  },
  {
   "cell_type": "code",
   "execution_count": 10,
   "metadata": {
    "execution": {
     "iopub.execute_input": "2022-10-31T09:09:15.890995Z",
     "iopub.status.busy": "2022-10-31T09:09:15.890777Z",
     "iopub.status.idle": "2022-10-31T09:09:15.894283Z",
     "shell.execute_reply": "2022-10-31T09:09:15.893603Z"
    }
   },
   "outputs": [
    {
     "name": "stdout",
     "output_type": "stream",
     "text": [
      "Help on method save_to_env in module qcodes.configuration.config:\n",
      "\n",
      "save_to_env() -> 'None' method of qcodes.configuration.config.Config instance\n",
      "    Save config and schema to files in path specified in env variable\n",
      "\n"
     ]
    }
   ],
   "source": [
    "help(qc.config.save_to_env)"
   ]
  },
  {
   "cell_type": "code",
   "execution_count": 11,
   "metadata": {
    "execution": {
     "iopub.execute_input": "2022-10-31T09:09:15.897826Z",
     "iopub.status.busy": "2022-10-31T09:09:15.897604Z",
     "iopub.status.idle": "2022-10-31T09:09:15.901046Z",
     "shell.execute_reply": "2022-10-31T09:09:15.900363Z"
    },
    "scrolled": true
   },
   "outputs": [
    {
     "name": "stdout",
     "output_type": "stream",
     "text": [
      "Help on method save_to_home in module qcodes.configuration.config:\n",
      "\n",
      "save_to_home() -> 'None' method of qcodes.configuration.config.Config instance\n",
      "    Save config and schema to files in home dir\n",
      "\n"
     ]
    }
   ],
   "source": [
    "help(qc.config.save_to_home)"
   ]
  },
  {
   "cell_type": "markdown",
   "metadata": {},
   "source": [
    "### Using custom variables in your experiment:\n",
    "\n",
    "Simply get the value you have set before with dot notation.\n",
    "For example:"
   ]
  },
  {
   "cell_type": "code",
   "execution_count": 12,
   "metadata": {
    "execution": {
     "iopub.execute_input": "2022-10-31T09:09:15.904726Z",
     "iopub.status.busy": "2022-10-31T09:09:15.904503Z",
     "iopub.status.idle": "2022-10-31T09:09:15.918162Z",
     "shell.execute_reply": "2022-10-31T09:09:15.917480Z"
    }
   },
   "outputs": [
    {
     "data": {
      "text/plain": [
       "{'core': {'default_fmt': 'data/{date}/#{counter}_{name}_{time}',\n",
       "  'register_magic': False,\n",
       "  'import_legacy_api': False,\n",
       "  'db_location': '~/experiments.db',\n",
       "  'db_debug': False,\n",
       "  'loglevel': 'WARNING',\n",
       "  'file_loglevel': 'INFO'},\n",
       " 'logger': {'start_logging_on_import': 'if_telemetry_set_up',\n",
       "  'console_level': 'WARNING',\n",
       "  'file_level': 'INFO',\n",
       "  'logger_levels': {'pyvisa': 'INFO'}},\n",
       " 'subscription': {'subscribers': {'QCPlot': {'factory': 'qcplotutils.qcodes_dataset.QCPlotDatasetSubscriber',\n",
       "    'factory_kwargs': {'log': False},\n",
       "    'subscription_kwargs': {'min_wait': 0,\n",
       "     'min_count': 1,\n",
       "     'callback_kwargs': {}}}},\n",
       "  'default_subscribers': []},\n",
       " 'gui': {'notebook': True,\n",
       "  'plotlib': None,\n",
       "  'pyqtmaxplots': 100,\n",
       "  'defaultcolormap': 'hot'},\n",
       " 'plotting': {'default_color_map': 'viridis',\n",
       "  'rasterize_threshold': 5000,\n",
       "  'auto_color_scale': {'enabled': False,\n",
       "   'cutoff_percentile': [0.5, 0.5],\n",
       "   'color_over': '#a1c4fc',\n",
       "   'color_under': '#017000'}},\n",
       " 'user': {'scriptfolder': '.',\n",
       "  'mainfolder': '.',\n",
       "  'base_location': '/dev/random'},\n",
       " 'station': {'enable_forced_reconnect': False,\n",
       "  'default_folder': '.',\n",
       "  'default_file': None,\n",
       "  'use_monitor': False},\n",
       " 'GUID_components': {'GUID_type': 'explicit_sample',\n",
       "  'location': 0,\n",
       "  'work_station': 0,\n",
       "  'sample': 0},\n",
       " 'dataset': {'write_in_background': False,\n",
       "  'write_period': 5.0,\n",
       "  'use_threads': False,\n",
       "  'dond_plot': False,\n",
       "  'dond_show_progress': False,\n",
       "  'export_automatic': False,\n",
       "  'export_type': None,\n",
       "  'export_prefix': 'qcodes_',\n",
       "  'export_path': '~',\n",
       "  'export_name_elements': ['captured_run_id', 'guid']},\n",
       " 'telemetry': {'enabled': False,\n",
       "  'instrumentation_key': '00000000-0000-0000-0000-000000000000'}}"
      ]
     },
     "execution_count": 12,
     "metadata": {},
     "output_type": "execute_result"
    }
   ],
   "source": [
    "qc.config.add(\"base_location\", \"/dev/random\", value_type=\"string\", description=\"Location of data\", default=\"/dev/random\")\n",
    "\n",
    "qc.config.current_config"
   ]
  },
  {
   "cell_type": "markdown",
   "metadata": {},
   "source": [
    "## Changing core values"
   ]
  },
  {
   "cell_type": "markdown",
   "metadata": {},
   "source": [
    "One can change the core values at runtime, but there is no guarantee that they are going to be valid.\n",
    "Since user configuration shadows the default one that comes with QCoDeS, apply care when changing the values under `core` section. This section is, primarily, meant for the settings that are determined by QCoDeS core developers. "
   ]
  },
  {
   "cell_type": "code",
   "execution_count": 13,
   "metadata": {
    "execution": {
     "iopub.execute_input": "2022-10-31T09:09:15.921629Z",
     "iopub.status.busy": "2022-10-31T09:09:15.921399Z",
     "iopub.status.idle": "2022-10-31T09:09:15.924501Z",
     "shell.execute_reply": "2022-10-31T09:09:15.923784Z"
    }
   },
   "outputs": [],
   "source": [
    "qc.config.current_config.core.loglevel = 'INFO'"
   ]
  },
  {
   "cell_type": "markdown",
   "metadata": {},
   "source": [
    "But one can manually validate via "
   ]
  },
  {
   "cell_type": "code",
   "execution_count": 14,
   "metadata": {
    "execution": {
     "iopub.execute_input": "2022-10-31T09:09:15.927607Z",
     "iopub.status.busy": "2022-10-31T09:09:15.927386Z",
     "iopub.status.idle": "2022-10-31T09:09:15.937336Z",
     "shell.execute_reply": "2022-10-31T09:09:15.936640Z"
    }
   },
   "outputs": [],
   "source": [
    "qc.config.validate()"
   ]
  },
  {
   "cell_type": "markdown",
   "metadata": {},
   "source": [
    "Which will raise an exception in case of bad inputs"
   ]
  },
  {
   "cell_type": "code",
   "execution_count": 15,
   "metadata": {
    "execution": {
     "iopub.execute_input": "2022-10-31T09:09:15.940608Z",
     "iopub.status.busy": "2022-10-31T09:09:15.940382Z",
     "iopub.status.idle": "2022-10-31T09:09:16.685707Z",
     "shell.execute_reply": "2022-10-31T09:09:16.684916Z"
    }
   },
   "outputs": [
    {
     "ename": "ValidationError",
     "evalue": "'YOLO' is not one of ['CRITICAL', 'ERROR', 'WARNING', 'INFO', 'DEBUG']\n\nFailed validating 'enum' in schema['properties']['core']['properties']['loglevel']:\n    {'default': 'DEBUG',\n     'description': 'deprecated - use logger.console_level',\n     'enum': ['CRITICAL', 'ERROR', 'WARNING', 'INFO', 'DEBUG'],\n     'type': 'string'}\n\nOn instance['core']['loglevel']:\n    'YOLO'",
     "output_type": "error",
     "traceback": [
      "\u001b[0;31m---------------------------------------------------------------------------\u001b[0m",
      "\u001b[0;31mValidationError\u001b[0m                           Traceback (most recent call last)",
      "Cell \u001b[0;32mIn [15], line 2\u001b[0m\n\u001b[1;32m      1\u001b[0m qc\u001b[38;5;241m.\u001b[39mconfig\u001b[38;5;241m.\u001b[39mcurrent_config\u001b[38;5;241m.\u001b[39mcore\u001b[38;5;241m.\u001b[39mloglevel \u001b[38;5;241m=\u001b[39m \u001b[38;5;124m'\u001b[39m\u001b[38;5;124mYOLO\u001b[39m\u001b[38;5;124m'\u001b[39m\n\u001b[0;32m----> 2\u001b[0m \u001b[43mqc\u001b[49m\u001b[38;5;241;43m.\u001b[39;49m\u001b[43mconfig\u001b[49m\u001b[38;5;241;43m.\u001b[39;49m\u001b[43mvalidate\u001b[49m\u001b[43m(\u001b[49m\u001b[43m)\u001b[49m\n",
      "File \u001b[0;32m/opt/hostedtoolcache/Python/3.10.8/x64/lib/python3.10/site-packages/qcodes/configuration/config.py:216\u001b[0m, in \u001b[0;36mConfig.validate\u001b[0;34m(self, json_config, schema, extra_schema_path)\u001b[0m\n\u001b[1;32m    213\u001b[0m     \u001b[38;5;28;01melse\u001b[39;00m:\n\u001b[1;32m    214\u001b[0m         logger\u001b[38;5;241m.\u001b[39mwarning(EMPTY_USER_SCHEMA\u001b[38;5;241m.\u001b[39mformat(extra_schema_path))\n\u001b[0;32m--> 216\u001b[0m \u001b[43mjsonschema\u001b[49m\u001b[38;5;241;43m.\u001b[39;49m\u001b[43mvalidate\u001b[49m\u001b[43m(\u001b[49m\u001b[43mjson_config\u001b[49m\u001b[43m,\u001b[49m\u001b[43m \u001b[49m\u001b[43mschema\u001b[49m\u001b[43m)\u001b[49m\n",
      "File \u001b[0;32m/opt/hostedtoolcache/Python/3.10.8/x64/lib/python3.10/site-packages/jsonschema/validators.py:1110\u001b[0m, in \u001b[0;36mvalidate\u001b[0;34m(instance, schema, cls, *args, **kwargs)\u001b[0m\n\u001b[1;32m   1108\u001b[0m error \u001b[38;5;241m=\u001b[39m exceptions\u001b[38;5;241m.\u001b[39mbest_match(validator\u001b[38;5;241m.\u001b[39miter_errors(instance))\n\u001b[1;32m   1109\u001b[0m \u001b[38;5;28;01mif\u001b[39;00m error \u001b[38;5;129;01mis\u001b[39;00m \u001b[38;5;129;01mnot\u001b[39;00m \u001b[38;5;28;01mNone\u001b[39;00m:\n\u001b[0;32m-> 1110\u001b[0m     \u001b[38;5;28;01mraise\u001b[39;00m error\n",
      "\u001b[0;31mValidationError\u001b[0m: 'YOLO' is not one of ['CRITICAL', 'ERROR', 'WARNING', 'INFO', 'DEBUG']\n\nFailed validating 'enum' in schema['properties']['core']['properties']['loglevel']:\n    {'default': 'DEBUG',\n     'description': 'deprecated - use logger.console_level',\n     'enum': ['CRITICAL', 'ERROR', 'WARNING', 'INFO', 'DEBUG'],\n     'type': 'string'}\n\nOn instance['core']['loglevel']:\n    'YOLO'"
     ]
    }
   ],
   "source": [
    "qc.config.current_config.core.loglevel = 'YOLO'\n",
    "qc.config.validate()\n",
    "# NOTE that you how have a broken config! "
   ]
  },
  {
   "cell_type": "code",
   "execution_count": null,
   "metadata": {},
   "outputs": [],
   "source": []
  }
 ],
 "metadata": {
  "kernelspec": {
   "display_name": "Python 3 (ipykernel)",
   "language": "python",
   "name": "python3"
  },
  "language_info": {
   "codemirror_mode": {
    "name": "ipython",
    "version": 3
   },
   "file_extension": ".py",
   "mimetype": "text/x-python",
   "name": "python",
   "nbconvert_exporter": "python",
   "pygments_lexer": "ipython3",
   "version": "3.10.8"
  },
  "nbsphinx": {
   "allow_errors": true
  }
 },
 "nbformat": 4,
 "nbformat_minor": 4
}
