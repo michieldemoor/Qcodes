{
 "cells": [
  {
   "cell_type": "markdown",
   "metadata": {},
   "source": [
    "# DataSet Performance\n",
    "\n",
    "This notebook shows the trade-off between inserting data into a database row-by-row and as binary blobs. Inserting the data row-by-row means that we have direct access to all the data and may perform queries directly on the values of the data. On the other hand, as we shall see, this is much slower than inserting the data directly as binary blobs."
   ]
  },
  {
   "cell_type": "markdown",
   "metadata": {},
   "source": [
    "First, we choose a new location for the database to ensure that we don't add a bunch of benchmarking data to the default one."
   ]
  },
  {
   "cell_type": "code",
   "execution_count": 1,
   "metadata": {
    "execution": {
     "iopub.execute_input": "2022-10-31T09:10:15.942433Z",
     "iopub.status.busy": "2022-10-31T09:10:15.942016Z",
     "iopub.status.idle": "2022-10-31T09:10:16.250749Z",
     "shell.execute_reply": "2022-10-31T09:10:16.250014Z"
    }
   },
   "outputs": [],
   "source": [
    "import os\n",
    "cwd = os.getcwd()\n",
    "import qcodes as qc\n",
    "qc.config[\"core\"][\"db_location\"] = os.path.join(cwd, 'testing.db')\n"
   ]
  },
  {
   "cell_type": "code",
   "execution_count": 2,
   "metadata": {
    "execution": {
     "iopub.execute_input": "2022-10-31T09:10:16.254688Z",
     "iopub.status.busy": "2022-10-31T09:10:16.254343Z",
     "iopub.status.idle": "2022-10-31T09:10:16.633742Z",
     "shell.execute_reply": "2022-10-31T09:10:16.632980Z"
    }
   },
   "outputs": [],
   "source": [
    "%matplotlib inline\n",
    "import time\n",
    "import matplotlib.pyplot as plt\n",
    "import numpy as np\n",
    "\n",
    "import qcodes as qc\n",
    "from qcodes.instrument.parameter import ManualParameter\n",
    "from qcodes.dataset.experiment_container import (Experiment,\n",
    "                                                 load_last_experiment,\n",
    "                                                 new_experiment)\n",
    "from qcodes.dataset.sqlite.database import initialise_database\n",
    "from qcodes import load_or_create_experiment\n",
    "from qcodes.dataset.measurements import Measurement"
   ]
  },
  {
   "cell_type": "code",
   "execution_count": 3,
   "metadata": {
    "execution": {
     "iopub.execute_input": "2022-10-31T09:10:16.637593Z",
     "iopub.status.busy": "2022-10-31T09:10:16.637236Z",
     "iopub.status.idle": "2022-10-31T09:10:16.670287Z",
     "shell.execute_reply": "2022-10-31T09:10:16.669578Z"
    }
   },
   "outputs": [],
   "source": [
    "initialise_database()\n",
    "exp = load_or_create_experiment(experiment_name='tutorial_exp', sample_name=\"no sample\")"
   ]
  },
  {
   "cell_type": "markdown",
   "metadata": {},
   "source": [
    "Here, we define a simple function to benchmark the time it takes to insert n points with either numeric or array data type.\n",
    "We will compare both the time used to call ``add_result`` and the time used for the full measurement."
   ]
  },
  {
   "cell_type": "code",
   "execution_count": 4,
   "metadata": {
    "execution": {
     "iopub.execute_input": "2022-10-31T09:10:16.674001Z",
     "iopub.status.busy": "2022-10-31T09:10:16.673525Z",
     "iopub.status.idle": "2022-10-31T09:10:16.681643Z",
     "shell.execute_reply": "2022-10-31T09:10:16.680981Z"
    }
   },
   "outputs": [],
   "source": [
    "def insert_data(paramtype, npoints, nreps=1):\n",
    "\n",
    "    meas = Measurement(exp=exp)\n",
    "\n",
    "    x1 = ManualParameter('x1')\n",
    "    x2 = ManualParameter('x2')\n",
    "    x3 = ManualParameter('x3')\n",
    "    y1 = ManualParameter('y1')\n",
    "    y2 = ManualParameter('y2')\n",
    "\n",
    "    meas.register_parameter(x1, paramtype=paramtype)\n",
    "    meas.register_parameter(x2, paramtype=paramtype)\n",
    "    meas.register_parameter(x3, paramtype=paramtype)\n",
    "    meas.register_parameter(y1, setpoints=[x1, x2, x3],\n",
    "                            paramtype=paramtype)\n",
    "    meas.register_parameter(y2, setpoints=[x1, x2, x3],\n",
    "                            paramtype=paramtype)\n",
    "    start = time.perf_counter()\n",
    "    with meas.run() as datasaver:\n",
    "        start_adding = time.perf_counter()\n",
    "        for i in range(nreps):\n",
    "            datasaver.add_result((x1, np.random.rand(npoints)),\n",
    "                                 (x2, np.random.rand(npoints)),\n",
    "                                 (x3, np.random.rand(npoints)),\n",
    "                                 (y1, np.random.rand(npoints)),\n",
    "                                 (y2, np.random.rand(npoints)))\n",
    "        stop_adding = time.perf_counter()\n",
    "        run_id = datasaver.run_id\n",
    "    stop = time.perf_counter()\n",
    "    tot_time = stop - start\n",
    "    add_time = stop_adding - start_adding\n",
    "    return tot_time, add_time, run_id"
   ]
  },
  {
   "cell_type": "markdown",
   "metadata": {},
   "source": [
    "## Comparison between numeric/array data and binary blob"
   ]
  },
  {
   "cell_type": "markdown",
   "metadata": {},
   "source": [
    "### Case1: Short experiment time"
   ]
  },
  {
   "cell_type": "code",
   "execution_count": 5,
   "metadata": {
    "execution": {
     "iopub.execute_input": "2022-10-31T09:10:16.685090Z",
     "iopub.status.busy": "2022-10-31T09:10:16.684638Z",
     "iopub.status.idle": "2022-10-31T09:10:17.125797Z",
     "shell.execute_reply": "2022-10-31T09:10:17.125218Z"
    }
   },
   "outputs": [
    {
     "name": "stdout",
     "output_type": "stream",
     "text": [
      "Starting experimental run with id: 1. \n",
      "Starting experimental run with id: 2. \n",
      "Starting experimental run with id: 3. \n",
      "Starting experimental run with id: 4. \n",
      "Starting experimental run with id: 5. \n",
      "Starting experimental run with id: 6. \n",
      "Starting experimental run with id: 7. \n",
      "Starting experimental run with id: 8. \n",
      "Starting experimental run with id: 9. \n"
     ]
    },
    {
     "name": "stdout",
     "output_type": "stream",
     "text": [
      "Starting experimental run with id: 10. \n",
      "Starting experimental run with id: 11. \n",
      "Starting experimental run with id: 12. \n",
      "Starting experimental run with id: 13. \n",
      "Starting experimental run with id: 14. \n"
     ]
    }
   ],
   "source": [
    "sizes = [1,500,1000,2000,3000,4000,5000]\n",
    "t_numeric = []\n",
    "t_numeric_add = []\n",
    "t_array = []\n",
    "t_array_add = []\n",
    "for size in sizes:\n",
    "    tn, tna, run_id_n =  insert_data('numeric', size)\n",
    "    t_numeric.append(tn)\n",
    "    t_numeric_add.append(tna)\n",
    "\n",
    "    ta, taa, run_id_a =  insert_data('array', size)\n",
    "    t_array.append(ta)\n",
    "    t_array_add.append(taa)"
   ]
  },
  {
   "cell_type": "code",
   "execution_count": 6,
   "metadata": {
    "execution": {
     "iopub.execute_input": "2022-10-31T09:10:17.129204Z",
     "iopub.status.busy": "2022-10-31T09:10:17.128962Z",
     "iopub.status.idle": "2022-10-31T09:10:17.329625Z",
     "shell.execute_reply": "2022-10-31T09:10:17.328842Z"
    }
   },
   "outputs": [
    {
     "data": {
      "image/png": "[encoded data removed]",
      "text/plain": [
       "<Figure size 640x480 with 1 Axes>"
      ]
     },
     "metadata": {},
     "output_type": "display_data"
    }
   ],
   "source": [
    "fig, ax = plt.subplots(1,1)\n",
    "ax.plot(sizes, t_numeric, 'o-', label='Inserting row-by-row')\n",
    "ax.plot(sizes, t_numeric_add, 'o-', label='Inserting row-by-row: add_result only')\n",
    "ax.plot(sizes, t_array, 'd-', label='Inserting as binary blob')\n",
    "ax.plot(sizes, t_array_add, 'd-', label='Inserting as binary blob: add_result only')\n",
    "ax.legend()\n",
    "ax.set_xlabel('Array length')\n",
    "ax.set_ylabel('Time (s)')\n",
    "fig.tight_layout()"
   ]
  },
  {
   "cell_type": "markdown",
   "metadata": {},
   "source": [
    "As shown in the latter figure, the time to setup and and close the experiment is approximately 0.4 sec. In case of small array sizes, the difference between inserting values of data as arrays and inserting them row-by-row is relatively unimportant. At larger array sizes, i.e. above 10000 points, the cost of writing data as individual datapoints starts to become important.\n"
   ]
  },
  {
   "cell_type": "markdown",
   "metadata": {},
   "source": [
    "### Case2: Long experiment time "
   ]
  },
  {
   "cell_type": "code",
   "execution_count": 7,
   "metadata": {
    "execution": {
     "iopub.execute_input": "2022-10-31T09:10:17.333341Z",
     "iopub.status.busy": "2022-10-31T09:10:17.332845Z",
     "iopub.status.idle": "2022-10-31T09:10:45.036372Z",
     "shell.execute_reply": "2022-10-31T09:10:45.035603Z"
    }
   },
   "outputs": [
    {
     "name": "stdout",
     "output_type": "stream",
     "text": [
      "Starting experimental run with id: 15. \n",
      "Starting experimental run with id: 16. \n",
      "Starting experimental run with id: 17. \n"
     ]
    },
    {
     "name": "stdout",
     "output_type": "stream",
     "text": [
      "Starting experimental run with id: 18. \n",
      "Starting experimental run with id: 19. \n"
     ]
    },
    {
     "name": "stdout",
     "output_type": "stream",
     "text": [
      "Starting experimental run with id: 20. \n",
      "Starting experimental run with id: 21. \n"
     ]
    },
    {
     "name": "stdout",
     "output_type": "stream",
     "text": [
      "Starting experimental run with id: 22. \n"
     ]
    },
    {
     "name": "stdout",
     "output_type": "stream",
     "text": [
      "Starting experimental run with id: 23. \n"
     ]
    },
    {
     "name": "stdout",
     "output_type": "stream",
     "text": [
      "Starting experimental run with id: 24. \n"
     ]
    },
    {
     "name": "stdout",
     "output_type": "stream",
     "text": [
      "Starting experimental run with id: 25. \n"
     ]
    },
    {
     "name": "stdout",
     "output_type": "stream",
     "text": [
      "Starting experimental run with id: 26. \n"
     ]
    },
    {
     "name": "stdout",
     "output_type": "stream",
     "text": [
      "Starting experimental run with id: 27. \n"
     ]
    },
    {
     "name": "stdout",
     "output_type": "stream",
     "text": [
      "Starting experimental run with id: 28. \n"
     ]
    }
   ],
   "source": [
    "sizes = [1,500,1000,2000,3000,4000,5000]\n",
    "nreps = 100\n",
    "t_numeric = []\n",
    "t_numeric_add = []\n",
    "t_numeric_run_ids = []\n",
    "t_array = []\n",
    "t_array_add = []\n",
    "t_array_run_ids = []\n",
    "for size in sizes:\n",
    "    tn, tna, run_id_n =  insert_data('numeric', size, nreps=nreps)\n",
    "    t_numeric.append(tn)\n",
    "    t_numeric_add.append(tna)\n",
    "    t_numeric_run_ids.append(run_id_n)\n",
    "\n",
    "    ta, taa, run_id_a =  insert_data('array', size, nreps=nreps)\n",
    "    t_array.append(ta)\n",
    "    t_array_add.append(taa)\n",
    "    t_array_run_ids.append(run_id_a)"
   ]
  },
  {
   "cell_type": "code",
   "execution_count": 8,
   "metadata": {
    "execution": {
     "iopub.execute_input": "2022-10-31T09:10:45.040755Z",
     "iopub.status.busy": "2022-10-31T09:10:45.040358Z",
     "iopub.status.idle": "2022-10-31T09:10:45.228477Z",
     "shell.execute_reply": "2022-10-31T09:10:45.227746Z"
    },
    "scrolled": true
   },
   "outputs": [
    {
     "data": {
      "image/png": "[encoded data removed]",
      "text/plain": [
       "<Figure size 640x480 with 1 Axes>"
      ]
     },
     "metadata": {},
     "output_type": "display_data"
    }
   ],
   "source": [
    "fig, ax = plt.subplots(1,1)\n",
    "ax.plot(sizes, t_numeric, 'o-', label='Inserting row-by-row')\n",
    "ax.plot(sizes, t_numeric_add, 'o-', label='Inserting row-by-row: add_result only')\n",
    "ax.plot(sizes, t_array, 'd-', label='Inserting as binary blob')\n",
    "ax.plot(sizes, t_array_add, 'd-', label='Inserting as binary blob: add_result only')\n",
    "ax.legend()\n",
    "ax.set_xlabel('Array length')\n",
    "ax.set_ylabel('Time (s)')\n",
    "fig.tight_layout()"
   ]
  },
  {
   "cell_type": "markdown",
   "metadata": {},
   "source": [
    "However, as we increase the length of the experiment, as seen here by repeating the insertion 100 times, we see a big difference between inserting values of the data row-by-row and inserting it as a binary blob."
   ]
  },
  {
   "cell_type": "markdown",
   "metadata": {},
   "source": [
    "## Loading the data "
   ]
  },
  {
   "cell_type": "code",
   "execution_count": 9,
   "metadata": {
    "execution": {
     "iopub.execute_input": "2022-10-31T09:10:45.231984Z",
     "iopub.status.busy": "2022-10-31T09:10:45.231744Z",
     "iopub.status.idle": "2022-10-31T09:10:45.236497Z",
     "shell.execute_reply": "2022-10-31T09:10:45.235861Z"
    }
   },
   "outputs": [],
   "source": [
    "from qcodes.dataset.data_set import load_by_id"
   ]
  },
  {
   "cell_type": "markdown",
   "metadata": {},
   "source": [
    "As usual you can load the data by using the ``load_by_id`` function but you will notice that the different storage methods\n",
    "are reflected in shape of the data as it is retrieved. "
   ]
  },
  {
   "cell_type": "code",
   "execution_count": 10,
   "metadata": {
    "execution": {
     "iopub.execute_input": "2022-10-31T09:10:45.239528Z",
     "iopub.status.busy": "2022-10-31T09:10:45.239094Z",
     "iopub.status.idle": "2022-10-31T09:10:45.242428Z",
     "shell.execute_reply": "2022-10-31T09:10:45.241761Z"
    }
   },
   "outputs": [],
   "source": [
    "run_id_n = t_numeric_run_ids[0]\n",
    "run_id_a = t_array_run_ids[0]"
   ]
  },
  {
   "cell_type": "code",
   "execution_count": 11,
   "metadata": {
    "execution": {
     "iopub.execute_input": "2022-10-31T09:10:45.245311Z",
     "iopub.status.busy": "2022-10-31T09:10:45.244884Z",
     "iopub.status.idle": "2022-10-31T09:10:45.253374Z",
     "shell.execute_reply": "2022-10-31T09:10:45.252728Z"
    },
    "scrolled": true
   },
   "outputs": [
    {
     "data": {
      "text/plain": [
       "{'x1': {'x1': array([0.84171656, 0.84171656, 0.38447633, 0.38447633, 0.95654053,\n",
       "         0.95654053, 0.90338421, 0.90338421, 0.7441671 , 0.7441671 ,\n",
       "         0.47720805, 0.47720805, 0.17517877, 0.17517877, 0.26579125,\n",
       "         0.26579125, 0.37091815, 0.37091815, 0.305032  , 0.305032  ,\n",
       "         0.26090771, 0.26090771, 0.16701743, 0.16701743, 0.65285777,\n",
       "         0.65285777, 0.33605713, 0.33605713, 0.7769055 , 0.7769055 ,\n",
       "         0.98474353, 0.98474353, 0.35308266, 0.35308266, 0.82914139,\n",
       "         0.82914139, 0.02601699, 0.02601699, 0.577714  , 0.577714  ,\n",
       "         0.53965393, 0.53965393, 0.48628389, 0.48628389, 0.10858198,\n",
       "         0.10858198, 0.19432133, 0.19432133, 0.93344532, 0.93344532,\n",
       "         0.39861059, 0.39861059, 0.98693275, 0.98693275, 0.49000703,\n",
       "         0.49000703, 0.04925793, 0.04925793, 0.56395881, 0.56395881,\n",
       "         0.52957867, 0.52957867, 0.07171031, 0.07171031, 0.22370775,\n",
       "         0.22370775, 0.18783311, 0.18783311, 0.86623509, 0.86623509,\n",
       "         0.40464352, 0.40464352, 0.51659726, 0.51659726, 0.88542296,\n",
       "         0.88542296, 0.39313492, 0.39313492, 0.5731049 , 0.5731049 ,\n",
       "         0.56283345, 0.56283345, 0.78433139, 0.78433139, 0.50410211,\n",
       "         0.50410211, 0.4336016 , 0.4336016 , 0.5813884 , 0.5813884 ,\n",
       "         0.26490081, 0.26490081, 0.2560847 , 0.2560847 , 0.40460871,\n",
       "         0.40460871, 0.24690675, 0.24690675, 0.38703285, 0.38703285,\n",
       "         0.94516258, 0.94516258, 0.40579635, 0.40579635, 0.88556167,\n",
       "         0.88556167, 0.70100987, 0.70100987, 0.33373052, 0.33373052,\n",
       "         0.05505164, 0.05505164, 0.44124113, 0.44124113, 0.00688669,\n",
       "         0.00688669, 0.41981906, 0.41981906, 0.97269088, 0.97269088,\n",
       "         0.97728957, 0.97728957, 0.60742413, 0.60742413, 0.54204596,\n",
       "         0.54204596, 0.71043015, 0.71043015, 0.81757608, 0.81757608,\n",
       "         0.12724702, 0.12724702, 0.28742465, 0.28742465, 0.50787157,\n",
       "         0.50787157, 0.00767692, 0.00767692, 0.52714064, 0.52714064,\n",
       "         0.73327997, 0.73327997, 0.83896964, 0.83896964, 0.2684554 ,\n",
       "         0.2684554 , 0.93633654, 0.93633654, 0.89315823, 0.89315823,\n",
       "         0.27540303, 0.27540303, 0.73752749, 0.73752749, 0.83942483,\n",
       "         0.83942483, 0.64232941, 0.64232941, 0.15803541, 0.15803541,\n",
       "         0.48899313, 0.48899313, 0.24536777, 0.24536777, 0.55493488,\n",
       "         0.55493488, 0.33867712, 0.33867712, 0.66253648, 0.66253648,\n",
       "         0.18894954, 0.18894954, 0.70302267, 0.70302267, 0.24873643,\n",
       "         0.24873643, 0.5195375 , 0.5195375 , 0.24213904, 0.24213904,\n",
       "         0.97584239, 0.97584239, 0.47799617, 0.47799617, 0.55963468,\n",
       "         0.55963468, 0.29111421, 0.29111421, 0.1596322 , 0.1596322 ,\n",
       "         0.31895672, 0.31895672, 0.63450342, 0.63450342, 0.49882914,\n",
       "         0.49882914, 0.96377666, 0.96377666, 0.35129374, 0.35129374])}}"
      ]
     },
     "execution_count": 11,
     "metadata": {},
     "output_type": "execute_result"
    }
   ],
   "source": [
    "ds = load_by_id(run_id_n)\n",
    "ds.get_parameter_data('x1')"
   ]
  },
  {
   "cell_type": "markdown",
   "metadata": {},
   "source": [
    "And a dataset stored as binary arrays"
   ]
  },
  {
   "cell_type": "code",
   "execution_count": 12,
   "metadata": {
    "execution": {
     "iopub.execute_input": "2022-10-31T09:10:45.256278Z",
     "iopub.status.busy": "2022-10-31T09:10:45.255907Z",
     "iopub.status.idle": "2022-10-31T09:10:45.276582Z",
     "shell.execute_reply": "2022-10-31T09:10:45.275912Z"
    },
    "scrolled": true
   },
   "outputs": [
    {
     "data": {
      "text/plain": [
       "{'x1': {'x1': array([[6.21136058e-01],\n",
       "         [6.21136058e-01],\n",
       "         [4.83401218e-01],\n",
       "         [4.83401218e-01],\n",
       "         [1.72837844e-01],\n",
       "         [1.72837844e-01],\n",
       "         [3.33325207e-01],\n",
       "         [3.33325207e-01],\n",
       "         [2.88247508e-01],\n",
       "         [2.88247508e-01],\n",
       "         [1.39133200e-01],\n",
       "         [1.39133200e-01],\n",
       "         [4.75505683e-02],\n",
       "         [4.75505683e-02],\n",
       "         [1.37889992e-01],\n",
       "         [1.37889992e-01],\n",
       "         [4.64185913e-01],\n",
       "         [4.64185913e-01],\n",
       "         [2.98574988e-01],\n",
       "         [2.98574988e-01],\n",
       "         [3.27345623e-01],\n",
       "         [3.27345623e-01],\n",
       "         [5.23985099e-01],\n",
       "         [5.23985099e-01],\n",
       "         [4.19948136e-02],\n",
       "         [4.19948136e-02],\n",
       "         [1.78777139e-01],\n",
       "         [1.78777139e-01],\n",
       "         [7.77844527e-01],\n",
       "         [7.77844527e-01],\n",
       "         [2.92531706e-01],\n",
       "         [2.92531706e-01],\n",
       "         [9.69008837e-01],\n",
       "         [9.69008837e-01],\n",
       "         [7.65458304e-01],\n",
       "         [7.65458304e-01],\n",
       "         [2.93765705e-01],\n",
       "         [2.93765705e-01],\n",
       "         [2.12477121e-01],\n",
       "         [2.12477121e-01],\n",
       "         [3.72232857e-01],\n",
       "         [3.72232857e-01],\n",
       "         [8.71933541e-01],\n",
       "         [8.71933541e-01],\n",
       "         [4.82839408e-01],\n",
       "         [4.82839408e-01],\n",
       "         [5.04521504e-01],\n",
       "         [5.04521504e-01],\n",
       "         [8.04789674e-01],\n",
       "         [8.04789674e-01],\n",
       "         [2.95218420e-01],\n",
       "         [2.95218420e-01],\n",
       "         [3.36576760e-01],\n",
       "         [3.36576760e-01],\n",
       "         [5.07750377e-04],\n",
       "         [5.07750377e-04],\n",
       "         [3.96683776e-01],\n",
       "         [3.96683776e-01],\n",
       "         [1.14324998e-01],\n",
       "         [1.14324998e-01],\n",
       "         [5.49704792e-01],\n",
       "         [5.49704792e-01],\n",
       "         [9.72391711e-01],\n",
       "         [9.72391711e-01],\n",
       "         [5.34471323e-01],\n",
       "         [5.34471323e-01],\n",
       "         [8.42903723e-01],\n",
       "         [8.42903723e-01],\n",
       "         [7.72904486e-01],\n",
       "         [7.72904486e-01],\n",
       "         [1.74764677e-01],\n",
       "         [1.74764677e-01],\n",
       "         [2.83502198e-01],\n",
       "         [2.83502198e-01],\n",
       "         [7.31172431e-01],\n",
       "         [7.31172431e-01],\n",
       "         [3.58588428e-01],\n",
       "         [3.58588428e-01],\n",
       "         [2.44774384e-02],\n",
       "         [2.44774384e-02],\n",
       "         [4.91423069e-01],\n",
       "         [4.91423069e-01],\n",
       "         [1.53063871e-01],\n",
       "         [1.53063871e-01],\n",
       "         [3.44979582e-01],\n",
       "         [3.44979582e-01],\n",
       "         [7.09774232e-01],\n",
       "         [7.09774232e-01],\n",
       "         [8.95387860e-01],\n",
       "         [8.95387860e-01],\n",
       "         [2.34259194e-01],\n",
       "         [2.34259194e-01],\n",
       "         [3.73769161e-01],\n",
       "         [3.73769161e-01],\n",
       "         [9.30109502e-01],\n",
       "         [9.30109502e-01],\n",
       "         [2.35473123e-02],\n",
       "         [2.35473123e-02],\n",
       "         [4.99856106e-01],\n",
       "         [4.99856106e-01],\n",
       "         [4.07588413e-02],\n",
       "         [4.07588413e-02],\n",
       "         [2.45721072e-01],\n",
       "         [2.45721072e-01],\n",
       "         [7.82838589e-01],\n",
       "         [7.82838589e-01],\n",
       "         [8.70825584e-01],\n",
       "         [8.70825584e-01],\n",
       "         [1.64228786e-01],\n",
       "         [1.64228786e-01],\n",
       "         [2.17966259e-01],\n",
       "         [2.17966259e-01],\n",
       "         [5.45313381e-01],\n",
       "         [5.45313381e-01],\n",
       "         [8.41535356e-01],\n",
       "         [8.41535356e-01],\n",
       "         [3.58536900e-01],\n",
       "         [3.58536900e-01],\n",
       "         [8.44718142e-01],\n",
       "         [8.44718142e-01],\n",
       "         [6.36198567e-02],\n",
       "         [6.36198567e-02],\n",
       "         [9.24511671e-01],\n",
       "         [9.24511671e-01],\n",
       "         [2.05232857e-01],\n",
       "         [2.05232857e-01],\n",
       "         [8.07748065e-01],\n",
       "         [8.07748065e-01],\n",
       "         [8.21627383e-01],\n",
       "         [8.21627383e-01],\n",
       "         [1.89685244e-01],\n",
       "         [1.89685244e-01],\n",
       "         [2.56386217e-01],\n",
       "         [2.56386217e-01],\n",
       "         [9.98032341e-01],\n",
       "         [9.98032341e-01],\n",
       "         [4.96607287e-01],\n",
       "         [4.96607287e-01],\n",
       "         [3.51449289e-01],\n",
       "         [3.51449289e-01],\n",
       "         [2.10437547e-01],\n",
       "         [2.10437547e-01],\n",
       "         [1.82057218e-01],\n",
       "         [1.82057218e-01],\n",
       "         [8.18989592e-01],\n",
       "         [8.18989592e-01],\n",
       "         [9.04997773e-01],\n",
       "         [9.04997773e-01],\n",
       "         [6.95554851e-02],\n",
       "         [6.95554851e-02],\n",
       "         [7.87876025e-01],\n",
       "         [7.87876025e-01],\n",
       "         [4.45954733e-01],\n",
       "         [4.45954733e-01],\n",
       "         [3.56869288e-01],\n",
       "         [3.56869288e-01],\n",
       "         [9.20099949e-01],\n",
       "         [9.20099949e-01],\n",
       "         [7.52231458e-01],\n",
       "         [7.52231458e-01],\n",
       "         [3.09261803e-01],\n",
       "         [3.09261803e-01],\n",
       "         [9.57625196e-01],\n",
       "         [9.57625196e-01],\n",
       "         [2.11950259e-01],\n",
       "         [2.11950259e-01],\n",
       "         [7.49381042e-01],\n",
       "         [7.49381042e-01],\n",
       "         [2.03911856e-01],\n",
       "         [2.03911856e-01],\n",
       "         [2.57857902e-01],\n",
       "         [2.57857902e-01],\n",
       "         [1.31872477e-01],\n",
       "         [1.31872477e-01],\n",
       "         [6.83574781e-01],\n",
       "         [6.83574781e-01],\n",
       "         [9.32901632e-01],\n",
       "         [9.32901632e-01],\n",
       "         [8.31519268e-01],\n",
       "         [8.31519268e-01],\n",
       "         [4.64524068e-01],\n",
       "         [4.64524068e-01],\n",
       "         [9.11642340e-02],\n",
       "         [9.11642340e-02],\n",
       "         [8.77113647e-01],\n",
       "         [8.77113647e-01],\n",
       "         [4.06434701e-01],\n",
       "         [4.06434701e-01],\n",
       "         [8.10148480e-01],\n",
       "         [8.10148480e-01],\n",
       "         [4.08436800e-01],\n",
       "         [4.08436800e-01],\n",
       "         [7.14551884e-01],\n",
       "         [7.14551884e-01],\n",
       "         [9.18729633e-01],\n",
       "         [9.18729633e-01],\n",
       "         [2.58577956e-01],\n",
       "         [2.58577956e-01],\n",
       "         [2.04713776e-01],\n",
       "         [2.04713776e-01]])}}"
      ]
     },
     "execution_count": 12,
     "metadata": {},
     "output_type": "execute_result"
    }
   ],
   "source": [
    "ds = load_by_id(run_id_a)\n",
    "ds.get_parameter_data('x1')"
   ]
  },
  {
   "cell_type": "code",
   "execution_count": null,
   "metadata": {},
   "outputs": [],
   "source": []
  }
 ],
 "metadata": {
  "kernelspec": {
   "display_name": "Python 3",
   "language": "python",
   "name": "python3"
  },
  "language_info": {
   "codemirror_mode": {
    "name": "ipython",
    "version": 3
   },
   "file_extension": ".py",
   "mimetype": "text/x-python",
   "name": "python",
   "nbconvert_exporter": "python",
   "pygments_lexer": "ipython3",
   "version": "3.10.8"
  },
  "nbsphinx": {
   "timeout": 600
  },
  "toc": {
   "base_numbering": 1,
   "nav_menu": {},
   "number_sections": true,
   "sideBar": true,
   "skip_h1_title": false,
   "title_cell": "Table of Contents",
   "title_sidebar": "Contents",
   "toc_cell": false,
   "toc_position": {},
   "toc_section_display": true,
   "toc_window_display": false
  },
  "varInspector": {
   "cols": {
    "lenName": 16,
    "lenType": 16,
    "lenVar": 40
   },
   "kernels_config": {
    "python": {
     "delete_cmd_postfix": "",
     "delete_cmd_prefix": "del ",
     "library": "var_list.py",
     "varRefreshCmd": "print(var_dic_list())"
    },
    "r": {
     "delete_cmd_postfix": ") ",
     "delete_cmd_prefix": "rm(",
     "library": "var_list.r",
     "varRefreshCmd": "cat(var_dic_list()) "
    }
   },
   "types_to_exclude": [
    "module",
    "function",
    "builtin_function_or_method",
    "instance",
    "_Feature"
   ],
   "window_display": false
  }
 },
 "nbformat": 4,
 "nbformat_minor": 4
}
