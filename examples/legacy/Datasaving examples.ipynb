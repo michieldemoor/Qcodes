{
 "cells": [
  {
   "cell_type": "markdown",
   "metadata": {},
   "source": [
    "# Datasaving Examples"
   ]
  },
  {
   "cell_type": "code",
   "execution_count": 1,
   "metadata": {
    "execution": {
     "iopub.execute_input": "2022-10-31T09:17:31.124225Z",
     "iopub.status.busy": "2022-10-31T09:17:31.123902Z",
     "iopub.status.idle": "2022-10-31T09:17:31.791388Z",
     "shell.execute_reply": "2022-10-31T09:17:31.790654Z"
    }
   },
   "outputs": [],
   "source": [
    "%matplotlib nbagg\n",
    "import numpy as np\n",
    "from importlib import reload\n",
    "import qcodes as qc\n",
    "\n",
    "from qcodes.loops import Loop"
   ]
  },
  {
   "cell_type": "code",
   "execution_count": 2,
   "metadata": {
    "execution": {
     "iopub.execute_input": "2022-10-31T09:17:31.795508Z",
     "iopub.status.busy": "2022-10-31T09:17:31.795153Z",
     "iopub.status.idle": "2022-10-31T09:17:31.800817Z",
     "shell.execute_reply": "2022-10-31T09:17:31.800143Z"
    }
   },
   "outputs": [],
   "source": [
    "import sys\n",
    "import logging\n",
    "# Create logger\n",
    "logger = logging.getLogger()\n",
    "logger.setLevel(logging.DEBUG)\n",
    "\n",
    "# Create STDERR handler\n",
    "handler = logging.StreamHandler(sys.stderr)\n",
    "# ch.setLevel(logging.DEBUG)\n",
    "\n",
    "# Create formatter and add it to the handler\n",
    "formatter = logging.Formatter('%(name)s - %(levelname)s - %(message)s')\n",
    "handler.setFormatter(formatter)\n",
    "\n",
    "# Set STDERR handler as the only handler \n",
    "logger.handlers = [handler]"
   ]
  },
  {
   "cell_type": "code",
   "execution_count": 3,
   "metadata": {
    "execution": {
     "iopub.execute_input": "2022-10-31T09:17:31.803715Z",
     "iopub.status.busy": "2022-10-31T09:17:31.803489Z",
     "iopub.status.idle": "2022-10-31T09:17:31.807364Z",
     "shell.execute_reply": "2022-10-31T09:17:31.806708Z"
    }
   },
   "outputs": [],
   "source": [
    "from qcodes.data import hdf5_format\n",
    "reload(hdf5_format)\n",
    "h5fmt = hdf5_format.HDF5Format()"
   ]
  },
  {
   "cell_type": "markdown",
   "metadata": {},
   "source": [
    "## Start a loop and generate data from dummy instruments "
   ]
  },
  {
   "cell_type": "code",
   "execution_count": 4,
   "metadata": {
    "execution": {
     "iopub.execute_input": "2022-10-31T09:17:31.810755Z",
     "iopub.status.busy": "2022-10-31T09:17:31.810332Z",
     "iopub.status.idle": "2022-10-31T09:17:31.814593Z",
     "shell.execute_reply": "2022-10-31T09:17:31.813999Z"
    }
   },
   "outputs": [],
   "source": [
    "station = qc.station.Station()"
   ]
  },
  {
   "cell_type": "code",
   "execution_count": 5,
   "metadata": {
    "execution": {
     "iopub.execute_input": "2022-10-31T09:17:31.817757Z",
     "iopub.status.busy": "2022-10-31T09:17:31.817420Z",
     "iopub.status.idle": "2022-10-31T09:17:31.837272Z",
     "shell.execute_reply": "2022-10-31T09:17:31.836721Z"
    }
   },
   "outputs": [
    {
     "name": "stderr",
     "output_type": "stream",
     "text": [
      "qcodes.parameters.parameter - DEBUG - Setting raw value of parameter: MockParabola_x to 0\n"
     ]
    },
    {
     "name": "stderr",
     "output_type": "stream",
     "text": [
      "qcodes.parameters.parameter - DEBUG - Setting raw value of parameter: MockParabola_y to 0\n"
     ]
    },
    {
     "name": "stderr",
     "output_type": "stream",
     "text": [
      "qcodes.parameters.parameter - DEBUG - Setting raw value of parameter: MockParabola_z to 0\n"
     ]
    },
    {
     "name": "stderr",
     "output_type": "stream",
     "text": [
      "qcodes.parameters.parameter - DEBUG - Setting raw value of parameter: MockParabola_noise to 0\n"
     ]
    },
    {
     "name": "stderr",
     "output_type": "stream",
     "text": [
      "qcodes.parameters.parameter - DEBUG - Getting raw value of parameter: MockParabola_x as 0\n"
     ]
    },
    {
     "name": "stderr",
     "output_type": "stream",
     "text": [
      "qcodes.parameters.parameter - DEBUG - Getting raw value of parameter: MockParabola_y as 0\n"
     ]
    },
    {
     "name": "stderr",
     "output_type": "stream",
     "text": [
      "qcodes.parameters.parameter - DEBUG - Getting raw value of parameter: MockParabola_z as 0\n"
     ]
    },
    {
     "name": "stderr",
     "output_type": "stream",
     "text": [
      "qcodes.parameters.parameter - DEBUG - Getting raw value of parameter: MockParabola_noise as 0\n"
     ]
    },
    {
     "name": "stderr",
     "output_type": "stream",
     "text": [
      "qcodes.parameters.parameter - DEBUG - Getting raw value of parameter: MockParabola_x as 0\n"
     ]
    },
    {
     "name": "stderr",
     "output_type": "stream",
     "text": [
      "qcodes.parameters.parameter - DEBUG - Getting raw value of parameter: MockParabola_y as 0\n"
     ]
    },
    {
     "name": "stderr",
     "output_type": "stream",
     "text": [
      "qcodes.parameters.parameter - DEBUG - Getting raw value of parameter: MockParabola_z as 0\n"
     ]
    },
    {
     "name": "stderr",
     "output_type": "stream",
     "text": [
      "qcodes.parameters.parameter - DEBUG - Getting raw value of parameter: MockParabola_noise as 0\n"
     ]
    },
    {
     "name": "stderr",
     "output_type": "stream",
     "text": [
      "qcodes.parameters.parameter - DEBUG - Getting raw value of parameter: MockParabola_x as 0\n"
     ]
    },
    {
     "name": "stderr",
     "output_type": "stream",
     "text": [
      "qcodes.parameters.parameter - DEBUG - Getting raw value of parameter: MockParabola_y as 0\n"
     ]
    },
    {
     "name": "stderr",
     "output_type": "stream",
     "text": [
      "qcodes.parameters.parameter - DEBUG - Getting raw value of parameter: MockParabola_z as 0\n"
     ]
    },
    {
     "name": "stderr",
     "output_type": "stream",
     "text": [
      "qcodes.parameters.parameter - DEBUG - Getting raw value of parameter: MockParabola_y as 0\n"
     ]
    },
    {
     "name": "stderr",
     "output_type": "stream",
     "text": [
      "qcodes.parameters.parameter - DEBUG - Getting raw value of parameter: MockParabola_x as 0\n"
     ]
    },
    {
     "name": "stderr",
     "output_type": "stream",
     "text": [
      "qcodes.parameters.parameter - DEBUG - Getting raw value of parameter: MockParabola_noise as 0\n"
     ]
    },
    {
     "data": {
      "text/plain": [
       "'MockParabola'"
      ]
     },
     "execution_count": 5,
     "metadata": {},
     "output_type": "execute_result"
    }
   ],
   "source": [
    "from qcodes.tests.instrument_mocks import MockParabola\n",
    "station.add_component(MockParabola(name='MockParabola'))"
   ]
  },
  {
   "cell_type": "code",
   "execution_count": 6,
   "metadata": {
    "execution": {
     "iopub.execute_input": "2022-10-31T09:17:31.840309Z",
     "iopub.status.busy": "2022-10-31T09:17:31.840056Z",
     "iopub.status.idle": "2022-10-31T09:17:31.903188Z",
     "shell.execute_reply": "2022-10-31T09:17:31.902744Z"
    }
   },
   "outputs": [
    {
     "name": "stderr",
     "output_type": "stream",
     "text": [
      "qcodes.parameters.parameter - DEBUG - Setting raw value of parameter: MockParabola_x to -100\n"
     ]
    },
    {
     "name": "stderr",
     "output_type": "stream",
     "text": [
      "qcodes.data.data_set - DEBUG - Attempting to write\n"
     ]
    },
    {
     "name": "stderr",
     "output_type": "stream",
     "text": [
      "qcodes.data.gnuplot_format - DEBUG - Attempting to write the following group: MockParabola_x_set\n"
     ]
    },
    {
     "name": "stderr",
     "output_type": "stream",
     "text": [
      "qcodes.data.gnuplot_format - DEBUG - Cannot match save range, skipping this group.\n"
     ]
    },
    {
     "name": "stderr",
     "output_type": "stream",
     "text": [
      "qcodes.parameters.parameter - DEBUG - Getting raw value of parameter: MockParabola_x as -100\n"
     ]
    },
    {
     "name": "stderr",
     "output_type": "stream",
     "text": [
      "qcodes.parameters.parameter - DEBUG - Getting raw value of parameter: MockParabola_y as 0\n"
     ]
    },
    {
     "name": "stderr",
     "output_type": "stream",
     "text": [
      "qcodes.parameters.parameter - DEBUG - Getting raw value of parameter: MockParabola_z as 0\n"
     ]
    },
    {
     "name": "stderr",
     "output_type": "stream",
     "text": [
      "qcodes.parameters.parameter - DEBUG - Getting raw value of parameter: MockParabola_y as 0\n"
     ]
    },
    {
     "name": "stderr",
     "output_type": "stream",
     "text": [
      "qcodes.parameters.parameter - DEBUG - Getting raw value of parameter: MockParabola_x as -100\n"
     ]
    },
    {
     "name": "stderr",
     "output_type": "stream",
     "text": [
      "qcodes.parameters.parameter - DEBUG - Getting raw value of parameter: MockParabola_noise as 0\n"
     ]
    },
    {
     "name": "stderr",
     "output_type": "stream",
     "text": [
      "qcodes.parameters.parameter - DEBUG - Setting raw value of parameter: MockParabola_x to -80\n"
     ]
    },
    {
     "name": "stderr",
     "output_type": "stream",
     "text": [
      "qcodes.parameters.parameter - DEBUG - Getting raw value of parameter: MockParabola_x as -80\n"
     ]
    },
    {
     "name": "stderr",
     "output_type": "stream",
     "text": [
      "qcodes.parameters.parameter - DEBUG - Getting raw value of parameter: MockParabola_y as 0\n"
     ]
    },
    {
     "name": "stderr",
     "output_type": "stream",
     "text": [
      "qcodes.parameters.parameter - DEBUG - Getting raw value of parameter: MockParabola_z as 0\n"
     ]
    },
    {
     "name": "stderr",
     "output_type": "stream",
     "text": [
      "qcodes.parameters.parameter - DEBUG - Getting raw value of parameter: MockParabola_y as 0\n"
     ]
    },
    {
     "name": "stderr",
     "output_type": "stream",
     "text": [
      "qcodes.parameters.parameter - DEBUG - Getting raw value of parameter: MockParabola_x as -80\n"
     ]
    },
    {
     "name": "stderr",
     "output_type": "stream",
     "text": [
      "qcodes.parameters.parameter - DEBUG - Getting raw value of parameter: MockParabola_noise as 0\n"
     ]
    },
    {
     "name": "stderr",
     "output_type": "stream",
     "text": [
      "qcodes.parameters.parameter - DEBUG - Setting raw value of parameter: MockParabola_x to -60\n"
     ]
    },
    {
     "name": "stderr",
     "output_type": "stream",
     "text": [
      "qcodes.parameters.parameter - DEBUG - Getting raw value of parameter: MockParabola_x as -60\n"
     ]
    },
    {
     "name": "stderr",
     "output_type": "stream",
     "text": [
      "qcodes.parameters.parameter - DEBUG - Getting raw value of parameter: MockParabola_y as 0\n"
     ]
    },
    {
     "name": "stderr",
     "output_type": "stream",
     "text": [
      "qcodes.parameters.parameter - DEBUG - Getting raw value of parameter: MockParabola_z as 0\n"
     ]
    },
    {
     "name": "stderr",
     "output_type": "stream",
     "text": [
      "qcodes.parameters.parameter - DEBUG - Getting raw value of parameter: MockParabola_y as 0\n"
     ]
    },
    {
     "name": "stderr",
     "output_type": "stream",
     "text": [
      "qcodes.parameters.parameter - DEBUG - Getting raw value of parameter: MockParabola_x as -60\n"
     ]
    },
    {
     "name": "stderr",
     "output_type": "stream",
     "text": [
      "qcodes.parameters.parameter - DEBUG - Getting raw value of parameter: MockParabola_noise as 0\n"
     ]
    },
    {
     "name": "stderr",
     "output_type": "stream",
     "text": [
      "qcodes.parameters.parameter - DEBUG - Setting raw value of parameter: MockParabola_x to -40\n"
     ]
    },
    {
     "name": "stderr",
     "output_type": "stream",
     "text": [
      "qcodes.parameters.parameter - DEBUG - Getting raw value of parameter: MockParabola_x as -40\n"
     ]
    },
    {
     "name": "stderr",
     "output_type": "stream",
     "text": [
      "qcodes.parameters.parameter - DEBUG - Getting raw value of parameter: MockParabola_y as 0\n"
     ]
    },
    {
     "name": "stderr",
     "output_type": "stream",
     "text": [
      "qcodes.parameters.parameter - DEBUG - Getting raw value of parameter: MockParabola_z as 0\n"
     ]
    },
    {
     "name": "stderr",
     "output_type": "stream",
     "text": [
      "qcodes.parameters.parameter - DEBUG - Getting raw value of parameter: MockParabola_y as 0\n"
     ]
    },
    {
     "name": "stderr",
     "output_type": "stream",
     "text": [
      "qcodes.parameters.parameter - DEBUG - Getting raw value of parameter: MockParabola_x as -40\n"
     ]
    },
    {
     "name": "stderr",
     "output_type": "stream",
     "text": [
      "qcodes.parameters.parameter - DEBUG - Getting raw value of parameter: MockParabola_noise as 0\n"
     ]
    },
    {
     "name": "stderr",
     "output_type": "stream",
     "text": [
      "qcodes.parameters.parameter - DEBUG - Setting raw value of parameter: MockParabola_x to -20\n"
     ]
    },
    {
     "name": "stderr",
     "output_type": "stream",
     "text": [
      "qcodes.parameters.parameter - DEBUG - Getting raw value of parameter: MockParabola_x as -20\n"
     ]
    },
    {
     "name": "stderr",
     "output_type": "stream",
     "text": [
      "qcodes.parameters.parameter - DEBUG - Getting raw value of parameter: MockParabola_y as 0\n"
     ]
    },
    {
     "name": "stderr",
     "output_type": "stream",
     "text": [
      "qcodes.parameters.parameter - DEBUG - Getting raw value of parameter: MockParabola_z as 0\n"
     ]
    },
    {
     "name": "stderr",
     "output_type": "stream",
     "text": [
      "qcodes.parameters.parameter - DEBUG - Getting raw value of parameter: MockParabola_y as 0\n"
     ]
    },
    {
     "name": "stderr",
     "output_type": "stream",
     "text": [
      "qcodes.parameters.parameter - DEBUG - Getting raw value of parameter: MockParabola_x as -20\n"
     ]
    },
    {
     "name": "stderr",
     "output_type": "stream",
     "text": [
      "qcodes.parameters.parameter - DEBUG - Getting raw value of parameter: MockParabola_noise as 0\n"
     ]
    },
    {
     "name": "stderr",
     "output_type": "stream",
     "text": [
      "qcodes.parameters.parameter - DEBUG - Setting raw value of parameter: MockParabola_x to 0\n"
     ]
    },
    {
     "name": "stderr",
     "output_type": "stream",
     "text": [
      "qcodes.parameters.parameter - DEBUG - Getting raw value of parameter: MockParabola_x as 0\n"
     ]
    },
    {
     "name": "stderr",
     "output_type": "stream",
     "text": [
      "qcodes.parameters.parameter - DEBUG - Getting raw value of parameter: MockParabola_y as 0\n"
     ]
    },
    {
     "name": "stderr",
     "output_type": "stream",
     "text": [
      "qcodes.parameters.parameter - DEBUG - Getting raw value of parameter: MockParabola_z as 0\n"
     ]
    },
    {
     "name": "stderr",
     "output_type": "stream",
     "text": [
      "qcodes.parameters.parameter - DEBUG - Getting raw value of parameter: MockParabola_y as 0\n"
     ]
    },
    {
     "name": "stderr",
     "output_type": "stream",
     "text": [
      "qcodes.parameters.parameter - DEBUG - Getting raw value of parameter: MockParabola_x as 0\n"
     ]
    },
    {
     "name": "stderr",
     "output_type": "stream",
     "text": [
      "qcodes.parameters.parameter - DEBUG - Getting raw value of parameter: MockParabola_noise as 0\n"
     ]
    },
    {
     "name": "stderr",
     "output_type": "stream",
     "text": [
      "qcodes.parameters.parameter - DEBUG - Setting raw value of parameter: MockParabola_x to 20\n"
     ]
    },
    {
     "name": "stderr",
     "output_type": "stream",
     "text": [
      "qcodes.parameters.parameter - DEBUG - Getting raw value of parameter: MockParabola_x as 20\n"
     ]
    },
    {
     "name": "stderr",
     "output_type": "stream",
     "text": [
      "qcodes.parameters.parameter - DEBUG - Getting raw value of parameter: MockParabola_y as 0\n"
     ]
    },
    {
     "name": "stderr",
     "output_type": "stream",
     "text": [
      "qcodes.parameters.parameter - DEBUG - Getting raw value of parameter: MockParabola_z as 0\n"
     ]
    },
    {
     "name": "stderr",
     "output_type": "stream",
     "text": [
      "qcodes.parameters.parameter - DEBUG - Getting raw value of parameter: MockParabola_y as 0\n"
     ]
    },
    {
     "name": "stderr",
     "output_type": "stream",
     "text": [
      "qcodes.parameters.parameter - DEBUG - Getting raw value of parameter: MockParabola_x as 20\n"
     ]
    },
    {
     "name": "stderr",
     "output_type": "stream",
     "text": [
      "qcodes.parameters.parameter - DEBUG - Getting raw value of parameter: MockParabola_noise as 0\n"
     ]
    },
    {
     "name": "stderr",
     "output_type": "stream",
     "text": [
      "qcodes.parameters.parameter - DEBUG - Setting raw value of parameter: MockParabola_x to 40\n"
     ]
    },
    {
     "name": "stderr",
     "output_type": "stream",
     "text": [
      "qcodes.parameters.parameter - DEBUG - Getting raw value of parameter: MockParabola_x as 40\n"
     ]
    },
    {
     "name": "stderr",
     "output_type": "stream",
     "text": [
      "qcodes.parameters.parameter - DEBUG - Getting raw value of parameter: MockParabola_y as 0\n"
     ]
    },
    {
     "name": "stderr",
     "output_type": "stream",
     "text": [
      "qcodes.parameters.parameter - DEBUG - Getting raw value of parameter: MockParabola_z as 0\n"
     ]
    },
    {
     "name": "stderr",
     "output_type": "stream",
     "text": [
      "qcodes.parameters.parameter - DEBUG - Getting raw value of parameter: MockParabola_y as 0\n"
     ]
    },
    {
     "name": "stderr",
     "output_type": "stream",
     "text": [
      "qcodes.parameters.parameter - DEBUG - Getting raw value of parameter: MockParabola_x as 40\n"
     ]
    },
    {
     "name": "stderr",
     "output_type": "stream",
     "text": [
      "qcodes.parameters.parameter - DEBUG - Getting raw value of parameter: MockParabola_noise as 0\n"
     ]
    },
    {
     "name": "stderr",
     "output_type": "stream",
     "text": [
      "qcodes.parameters.parameter - DEBUG - Setting raw value of parameter: MockParabola_x to 60\n"
     ]
    },
    {
     "name": "stderr",
     "output_type": "stream",
     "text": [
      "qcodes.parameters.parameter - DEBUG - Getting raw value of parameter: MockParabola_x as 60\n"
     ]
    },
    {
     "name": "stderr",
     "output_type": "stream",
     "text": [
      "qcodes.parameters.parameter - DEBUG - Getting raw value of parameter: MockParabola_y as 0\n"
     ]
    },
    {
     "name": "stderr",
     "output_type": "stream",
     "text": [
      "qcodes.parameters.parameter - DEBUG - Getting raw value of parameter: MockParabola_z as 0\n"
     ]
    },
    {
     "name": "stderr",
     "output_type": "stream",
     "text": [
      "qcodes.parameters.parameter - DEBUG - Getting raw value of parameter: MockParabola_y as 0\n"
     ]
    },
    {
     "name": "stderr",
     "output_type": "stream",
     "text": [
      "qcodes.parameters.parameter - DEBUG - Getting raw value of parameter: MockParabola_x as 60\n"
     ]
    },
    {
     "name": "stderr",
     "output_type": "stream",
     "text": [
      "qcodes.parameters.parameter - DEBUG - Getting raw value of parameter: MockParabola_noise as 0\n"
     ]
    },
    {
     "name": "stderr",
     "output_type": "stream",
     "text": [
      "qcodes.parameters.parameter - DEBUG - Setting raw value of parameter: MockParabola_x to 80\n"
     ]
    },
    {
     "name": "stderr",
     "output_type": "stream",
     "text": [
      "qcodes.parameters.parameter - DEBUG - Getting raw value of parameter: MockParabola_x as 80\n"
     ]
    },
    {
     "name": "stderr",
     "output_type": "stream",
     "text": [
      "qcodes.parameters.parameter - DEBUG - Getting raw value of parameter: MockParabola_y as 0\n"
     ]
    },
    {
     "name": "stderr",
     "output_type": "stream",
     "text": [
      "qcodes.parameters.parameter - DEBUG - Getting raw value of parameter: MockParabola_z as 0\n"
     ]
    },
    {
     "name": "stderr",
     "output_type": "stream",
     "text": [
      "qcodes.parameters.parameter - DEBUG - Getting raw value of parameter: MockParabola_y as 0\n"
     ]
    },
    {
     "name": "stderr",
     "output_type": "stream",
     "text": [
      "qcodes.parameters.parameter - DEBUG - Getting raw value of parameter: MockParabola_x as 80\n"
     ]
    },
    {
     "name": "stderr",
     "output_type": "stream",
     "text": [
      "qcodes.parameters.parameter - DEBUG - Getting raw value of parameter: MockParabola_noise as 0\n"
     ]
    },
    {
     "name": "stderr",
     "output_type": "stream",
     "text": [
      "qcodes.data.data_set - DEBUG - Finalising the DataSet. Writing.\n"
     ]
    },
    {
     "name": "stderr",
     "output_type": "stream",
     "text": [
      "qcodes.data.gnuplot_format - DEBUG - Attempting to write the following group: MockParabola_x_set\n"
     ]
    },
    {
     "name": "stderr",
     "output_type": "stream",
     "text": [
      "qcodes.data.gnuplot_format - DEBUG - Wrote header to file\n"
     ]
    },
    {
     "name": "stderr",
     "output_type": "stream",
     "text": [
      "qcodes.data.gnuplot_format - DEBUG - Wrote to file from 0 to 10\n"
     ]
    },
    {
     "name": "stdout",
     "output_type": "stream",
     "text": [
      "Started at 2022-10-31 09:17:31\n",
      "DataSet:\n",
      "   location = 'data/2022-10-31/#008_MockParabola_run_09-17-31'\n",
      "   <Type>   | <array_id>                   | <array.name>    | <array.shape>\n",
      "   Setpoint | MockParabola_x_set           | x               | (10,)\n",
      "   Measured | MockParabola_skewed_parabola | skewed_parabola | (10,)\n",
      "Finished at 2022-10-31 09:17:31\n"
     ]
    }
   ],
   "source": [
    "loop = Loop(station.MockParabola.x[-100:100:20]).each(station.MockParabola.skewed_parabola)\n",
    "data_l = loop.run(name='MockParabola_run', formatter=qc.data.gnuplot_format.GNUPlotFormat())\n",
    "\n"
   ]
  },
  {
   "cell_type": "code",
   "execution_count": 7,
   "metadata": {
    "execution": {
     "iopub.execute_input": "2022-10-31T09:17:31.914692Z",
     "iopub.status.busy": "2022-10-31T09:17:31.914453Z",
     "iopub.status.idle": "2022-10-31T09:17:32.577364Z",
     "shell.execute_reply": "2022-10-31T09:17:32.576864Z"
    }
   },
   "outputs": [
    {
     "name": "stderr",
     "output_type": "stream",
     "text": [
      "h5py._conv - DEBUG - Creating converter from 5 to 3\n"
     ]
    },
    {
     "name": "stderr",
     "output_type": "stream",
     "text": [
      "qcodes.parameters.parameter - DEBUG - Setting raw value of parameter: MockParabola_x to -100\n"
     ]
    },
    {
     "name": "stderr",
     "output_type": "stream",
     "text": [
      "qcodes.data.data_set - DEBUG - Attempting to write\n"
     ]
    },
    {
     "name": "stderr",
     "output_type": "stream",
     "text": [
      "qcodes.parameters.parameter - DEBUG - Setting raw value of parameter: MockParabola_y to -100\n"
     ]
    },
    {
     "name": "stderr",
     "output_type": "stream",
     "text": [
      "qcodes.parameters.parameter - DEBUG - Getting raw value of parameter: MockParabola_x as -100\n"
     ]
    },
    {
     "name": "stderr",
     "output_type": "stream",
     "text": [
      "qcodes.parameters.parameter - DEBUG - Getting raw value of parameter: MockParabola_y as -100\n"
     ]
    },
    {
     "name": "stderr",
     "output_type": "stream",
     "text": [
      "qcodes.parameters.parameter - DEBUG - Getting raw value of parameter: MockParabola_z as 0\n"
     ]
    },
    {
     "name": "stderr",
     "output_type": "stream",
     "text": [
      "qcodes.parameters.parameter - DEBUG - Getting raw value of parameter: MockParabola_y as -100\n"
     ]
    },
    {
     "name": "stderr",
     "output_type": "stream",
     "text": [
      "qcodes.parameters.parameter - DEBUG - Getting raw value of parameter: MockParabola_x as -100\n"
     ]
    },
    {
     "name": "stderr",
     "output_type": "stream",
     "text": [
      "qcodes.parameters.parameter - DEBUG - Getting raw value of parameter: MockParabola_noise as 0\n"
     ]
    },
    {
     "name": "stderr",
     "output_type": "stream",
     "text": [
      "qcodes.parameters.parameter - DEBUG - Setting raw value of parameter: MockParabola_y to -90\n"
     ]
    },
    {
     "name": "stderr",
     "output_type": "stream",
     "text": [
      "qcodes.parameters.parameter - DEBUG - Getting raw value of parameter: MockParabola_x as -100\n"
     ]
    },
    {
     "name": "stderr",
     "output_type": "stream",
     "text": [
      "qcodes.parameters.parameter - DEBUG - Getting raw value of parameter: MockParabola_y as -90\n"
     ]
    },
    {
     "name": "stderr",
     "output_type": "stream",
     "text": [
      "qcodes.parameters.parameter - DEBUG - Getting raw value of parameter: MockParabola_z as 0\n"
     ]
    },
    {
     "name": "stderr",
     "output_type": "stream",
     "text": [
      "qcodes.parameters.parameter - DEBUG - Getting raw value of parameter: MockParabola_y as -90\n"
     ]
    },
    {
     "name": "stderr",
     "output_type": "stream",
     "text": [
      "qcodes.parameters.parameter - DEBUG - Getting raw value of parameter: MockParabola_x as -100\n"
     ]
    },
    {
     "name": "stderr",
     "output_type": "stream",
     "text": [
      "qcodes.parameters.parameter - DEBUG - Getting raw value of parameter: MockParabola_noise as 0\n"
     ]
    },
    {
     "name": "stderr",
     "output_type": "stream",
     "text": [
      "qcodes.parameters.parameter - DEBUG - Setting raw value of parameter: MockParabola_y to -80\n"
     ]
    },
    {
     "name": "stderr",
     "output_type": "stream",
     "text": [
      "qcodes.parameters.parameter - DEBUG - Getting raw value of parameter: MockParabola_x as -100\n"
     ]
    },
    {
     "name": "stderr",
     "output_type": "stream",
     "text": [
      "qcodes.parameters.parameter - DEBUG - Getting raw value of parameter: MockParabola_y as -80\n"
     ]
    },
    {
     "name": "stderr",
     "output_type": "stream",
     "text": [
      "qcodes.parameters.parameter - DEBUG - Getting raw value of parameter: MockParabola_z as 0\n"
     ]
    },
    {
     "name": "stderr",
     "output_type": "stream",
     "text": [
      "qcodes.parameters.parameter - DEBUG - Getting raw value of parameter: MockParabola_y as -80\n"
     ]
    },
    {
     "name": "stderr",
     "output_type": "stream",
     "text": [
      "qcodes.parameters.parameter - DEBUG - Getting raw value of parameter: MockParabola_x as -100\n"
     ]
    },
    {
     "name": "stderr",
     "output_type": "stream",
     "text": [
      "qcodes.parameters.parameter - DEBUG - Getting raw value of parameter: MockParabola_noise as 0\n"
     ]
    },
    {
     "name": "stderr",
     "output_type": "stream",
     "text": [
      "qcodes.parameters.parameter - DEBUG - Setting raw value of parameter: MockParabola_y to -70\n"
     ]
    },
    {
     "name": "stderr",
     "output_type": "stream",
     "text": [
      "qcodes.parameters.parameter - DEBUG - Getting raw value of parameter: MockParabola_x as -100\n"
     ]
    },
    {
     "name": "stderr",
     "output_type": "stream",
     "text": [
      "qcodes.parameters.parameter - DEBUG - Getting raw value of parameter: MockParabola_y as -70\n"
     ]
    },
    {
     "name": "stderr",
     "output_type": "stream",
     "text": [
      "qcodes.parameters.parameter - DEBUG - Getting raw value of parameter: MockParabola_z as 0\n"
     ]
    },
    {
     "name": "stderr",
     "output_type": "stream",
     "text": [
      "qcodes.parameters.parameter - DEBUG - Getting raw value of parameter: MockParabola_y as -70\n"
     ]
    },
    {
     "name": "stderr",
     "output_type": "stream",
     "text": [
      "qcodes.parameters.parameter - DEBUG - Getting raw value of parameter: MockParabola_x as -100\n"
     ]
    },
    {
     "name": "stderr",
     "output_type": "stream",
     "text": [
      "qcodes.parameters.parameter - DEBUG - Getting raw value of parameter: MockParabola_noise as 0\n"
     ]
    },
    {
     "name": "stderr",
     "output_type": "stream",
     "text": [
      "qcodes.parameters.parameter - DEBUG - Setting raw value of parameter: MockParabola_y to -60\n"
     ]
    },
    {
     "name": "stderr",
     "output_type": "stream",
     "text": [
      "qcodes.parameters.parameter - DEBUG - Getting raw value of parameter: MockParabola_x as -100\n"
     ]
    },
    {
     "name": "stderr",
     "output_type": "stream",
     "text": [
      "qcodes.parameters.parameter - DEBUG - Getting raw value of parameter: MockParabola_y as -60\n"
     ]
    },
    {
     "name": "stderr",
     "output_type": "stream",
     "text": [
      "qcodes.parameters.parameter - DEBUG - Getting raw value of parameter: MockParabola_z as 0\n"
     ]
    },
    {
     "name": "stderr",
     "output_type": "stream",
     "text": [
      "qcodes.parameters.parameter - DEBUG - Getting raw value of parameter: MockParabola_y as -60\n"
     ]
    },
    {
     "name": "stderr",
     "output_type": "stream",
     "text": [
      "qcodes.parameters.parameter - DEBUG - Getting raw value of parameter: MockParabola_x as -100\n"
     ]
    },
    {
     "name": "stderr",
     "output_type": "stream",
     "text": [
      "qcodes.parameters.parameter - DEBUG - Getting raw value of parameter: MockParabola_noise as 0\n"
     ]
    },
    {
     "name": "stderr",
     "output_type": "stream",
     "text": [
      "qcodes.parameters.parameter - DEBUG - Setting raw value of parameter: MockParabola_y to -50\n"
     ]
    },
    {
     "name": "stderr",
     "output_type": "stream",
     "text": [
      "qcodes.parameters.parameter - DEBUG - Getting raw value of parameter: MockParabola_x as -100\n"
     ]
    },
    {
     "name": "stderr",
     "output_type": "stream",
     "text": [
      "qcodes.parameters.parameter - DEBUG - Getting raw value of parameter: MockParabola_y as -50\n"
     ]
    },
    {
     "name": "stderr",
     "output_type": "stream",
     "text": [
      "qcodes.parameters.parameter - DEBUG - Getting raw value of parameter: MockParabola_z as 0\n"
     ]
    },
    {
     "name": "stderr",
     "output_type": "stream",
     "text": [
      "qcodes.parameters.parameter - DEBUG - Getting raw value of parameter: MockParabola_y as -50\n"
     ]
    },
    {
     "name": "stderr",
     "output_type": "stream",
     "text": [
      "qcodes.parameters.parameter - DEBUG - Getting raw value of parameter: MockParabola_x as -100\n"
     ]
    },
    {
     "name": "stderr",
     "output_type": "stream",
     "text": [
      "qcodes.parameters.parameter - DEBUG - Getting raw value of parameter: MockParabola_noise as 0\n"
     ]
    },
    {
     "name": "stderr",
     "output_type": "stream",
     "text": [
      "qcodes.parameters.parameter - DEBUG - Setting raw value of parameter: MockParabola_y to -40\n"
     ]
    },
    {
     "name": "stderr",
     "output_type": "stream",
     "text": [
      "qcodes.parameters.parameter - DEBUG - Getting raw value of parameter: MockParabola_x as -100\n"
     ]
    },
    {
     "name": "stderr",
     "output_type": "stream",
     "text": [
      "qcodes.parameters.parameter - DEBUG - Getting raw value of parameter: MockParabola_y as -40\n"
     ]
    },
    {
     "name": "stderr",
     "output_type": "stream",
     "text": [
      "qcodes.parameters.parameter - DEBUG - Getting raw value of parameter: MockParabola_z as 0\n"
     ]
    },
    {
     "name": "stderr",
     "output_type": "stream",
     "text": [
      "qcodes.parameters.parameter - DEBUG - Getting raw value of parameter: MockParabola_y as -40\n"
     ]
    },
    {
     "name": "stderr",
     "output_type": "stream",
     "text": [
      "qcodes.parameters.parameter - DEBUG - Getting raw value of parameter: MockParabola_x as -100\n"
     ]
    },
    {
     "name": "stderr",
     "output_type": "stream",
     "text": [
      "qcodes.parameters.parameter - DEBUG - Getting raw value of parameter: MockParabola_noise as 0\n"
     ]
    },
    {
     "name": "stderr",
     "output_type": "stream",
     "text": [
      "qcodes.parameters.parameter - DEBUG - Setting raw value of parameter: MockParabola_y to -30\n"
     ]
    },
    {
     "name": "stderr",
     "output_type": "stream",
     "text": [
      "qcodes.parameters.parameter - DEBUG - Getting raw value of parameter: MockParabola_x as -100\n"
     ]
    },
    {
     "name": "stderr",
     "output_type": "stream",
     "text": [
      "qcodes.parameters.parameter - DEBUG - Getting raw value of parameter: MockParabola_y as -30\n"
     ]
    },
    {
     "name": "stderr",
     "output_type": "stream",
     "text": [
      "qcodes.parameters.parameter - DEBUG - Getting raw value of parameter: MockParabola_z as 0\n"
     ]
    },
    {
     "name": "stderr",
     "output_type": "stream",
     "text": [
      "qcodes.parameters.parameter - DEBUG - Getting raw value of parameter: MockParabola_y as -30\n"
     ]
    },
    {
     "name": "stderr",
     "output_type": "stream",
     "text": [
      "qcodes.parameters.parameter - DEBUG - Getting raw value of parameter: MockParabola_x as -100\n"
     ]
    },
    {
     "name": "stderr",
     "output_type": "stream",
     "text": [
      "qcodes.parameters.parameter - DEBUG - Getting raw value of parameter: MockParabola_noise as 0\n"
     ]
    },
    {
     "name": "stderr",
     "output_type": "stream",
     "text": [
      "qcodes.parameters.parameter - DEBUG - Setting raw value of parameter: MockParabola_y to -20\n"
     ]
    },
    {
     "name": "stderr",
     "output_type": "stream",
     "text": [
      "qcodes.parameters.parameter - DEBUG - Getting raw value of parameter: MockParabola_x as -100\n"
     ]
    },
    {
     "name": "stderr",
     "output_type": "stream",
     "text": [
      "qcodes.parameters.parameter - DEBUG - Getting raw value of parameter: MockParabola_y as -20\n"
     ]
    },
    {
     "name": "stderr",
     "output_type": "stream",
     "text": [
      "qcodes.parameters.parameter - DEBUG - Getting raw value of parameter: MockParabola_z as 0\n"
     ]
    },
    {
     "name": "stderr",
     "output_type": "stream",
     "text": [
      "qcodes.parameters.parameter - DEBUG - Getting raw value of parameter: MockParabola_y as -20\n"
     ]
    },
    {
     "name": "stderr",
     "output_type": "stream",
     "text": [
      "qcodes.parameters.parameter - DEBUG - Getting raw value of parameter: MockParabola_x as -100\n"
     ]
    },
    {
     "name": "stderr",
     "output_type": "stream",
     "text": [
      "qcodes.parameters.parameter - DEBUG - Getting raw value of parameter: MockParabola_noise as 0\n"
     ]
    },
    {
     "name": "stderr",
     "output_type": "stream",
     "text": [
      "qcodes.parameters.parameter - DEBUG - Setting raw value of parameter: MockParabola_y to -10\n"
     ]
    },
    {
     "name": "stderr",
     "output_type": "stream",
     "text": [
      "qcodes.parameters.parameter - DEBUG - Getting raw value of parameter: MockParabola_x as -100\n"
     ]
    },
    {
     "name": "stderr",
     "output_type": "stream",
     "text": [
      "qcodes.parameters.parameter - DEBUG - Getting raw value of parameter: MockParabola_y as -10\n"
     ]
    },
    {
     "name": "stderr",
     "output_type": "stream",
     "text": [
      "qcodes.parameters.parameter - DEBUG - Getting raw value of parameter: MockParabola_z as 0\n"
     ]
    },
    {
     "name": "stderr",
     "output_type": "stream",
     "text": [
      "qcodes.parameters.parameter - DEBUG - Getting raw value of parameter: MockParabola_y as -10\n"
     ]
    },
    {
     "name": "stderr",
     "output_type": "stream",
     "text": [
      "qcodes.parameters.parameter - DEBUG - Getting raw value of parameter: MockParabola_x as -100\n"
     ]
    },
    {
     "name": "stderr",
     "output_type": "stream",
     "text": [
      "qcodes.parameters.parameter - DEBUG - Getting raw value of parameter: MockParabola_noise as 0\n"
     ]
    },
    {
     "name": "stderr",
     "output_type": "stream",
     "text": [
      "qcodes.parameters.parameter - DEBUG - Setting raw value of parameter: MockParabola_y to 0\n"
     ]
    },
    {
     "name": "stderr",
     "output_type": "stream",
     "text": [
      "qcodes.parameters.parameter - DEBUG - Getting raw value of parameter: MockParabola_x as -100\n"
     ]
    },
    {
     "name": "stderr",
     "output_type": "stream",
     "text": [
      "qcodes.parameters.parameter - DEBUG - Getting raw value of parameter: MockParabola_y as 0\n"
     ]
    },
    {
     "name": "stderr",
     "output_type": "stream",
     "text": [
      "qcodes.parameters.parameter - DEBUG - Getting raw value of parameter: MockParabola_z as 0\n"
     ]
    },
    {
     "name": "stderr",
     "output_type": "stream",
     "text": [
      "qcodes.parameters.parameter - DEBUG - Getting raw value of parameter: MockParabola_y as 0\n"
     ]
    },
    {
     "name": "stderr",
     "output_type": "stream",
     "text": [
      "qcodes.parameters.parameter - DEBUG - Getting raw value of parameter: MockParabola_x as -100\n"
     ]
    },
    {
     "name": "stderr",
     "output_type": "stream",
     "text": [
      "qcodes.parameters.parameter - DEBUG - Getting raw value of parameter: MockParabola_noise as 0\n"
     ]
    },
    {
     "name": "stderr",
     "output_type": "stream",
     "text": [
      "qcodes.parameters.parameter - DEBUG - Setting raw value of parameter: MockParabola_y to 10\n"
     ]
    },
    {
     "name": "stderr",
     "output_type": "stream",
     "text": [
      "qcodes.parameters.parameter - DEBUG - Getting raw value of parameter: MockParabola_x as -100\n"
     ]
    },
    {
     "name": "stderr",
     "output_type": "stream",
     "text": [
      "qcodes.parameters.parameter - DEBUG - Getting raw value of parameter: MockParabola_y as 10\n"
     ]
    },
    {
     "name": "stderr",
     "output_type": "stream",
     "text": [
      "qcodes.parameters.parameter - DEBUG - Getting raw value of parameter: MockParabola_z as 0\n"
     ]
    },
    {
     "name": "stderr",
     "output_type": "stream",
     "text": [
      "qcodes.parameters.parameter - DEBUG - Getting raw value of parameter: MockParabola_y as 10\n"
     ]
    },
    {
     "name": "stderr",
     "output_type": "stream",
     "text": [
      "qcodes.parameters.parameter - DEBUG - Getting raw value of parameter: MockParabola_x as -100\n"
     ]
    },
    {
     "name": "stderr",
     "output_type": "stream",
     "text": [
      "qcodes.parameters.parameter - DEBUG - Getting raw value of parameter: MockParabola_noise as 0\n"
     ]
    },
    {
     "name": "stderr",
     "output_type": "stream",
     "text": [
      "qcodes.parameters.parameter - DEBUG - Setting raw value of parameter: MockParabola_y to 20\n"
     ]
    },
    {
     "name": "stderr",
     "output_type": "stream",
     "text": [
      "qcodes.parameters.parameter - DEBUG - Getting raw value of parameter: MockParabola_x as -100\n"
     ]
    },
    {
     "name": "stderr",
     "output_type": "stream",
     "text": [
      "qcodes.parameters.parameter - DEBUG - Getting raw value of parameter: MockParabola_y as 20\n"
     ]
    },
    {
     "name": "stderr",
     "output_type": "stream",
     "text": [
      "qcodes.parameters.parameter - DEBUG - Getting raw value of parameter: MockParabola_z as 0\n"
     ]
    },
    {
     "name": "stderr",
     "output_type": "stream",
     "text": [
      "qcodes.parameters.parameter - DEBUG - Getting raw value of parameter: MockParabola_y as 20\n"
     ]
    },
    {
     "name": "stderr",
     "output_type": "stream",
     "text": [
      "qcodes.parameters.parameter - DEBUG - Getting raw value of parameter: MockParabola_x as -100\n"
     ]
    },
    {
     "name": "stderr",
     "output_type": "stream",
     "text": [
      "qcodes.parameters.parameter - DEBUG - Getting raw value of parameter: MockParabola_noise as 0\n"
     ]
    },
    {
     "name": "stderr",
     "output_type": "stream",
     "text": [
      "qcodes.parameters.parameter - DEBUG - Setting raw value of parameter: MockParabola_y to 30\n"
     ]
    },
    {
     "name": "stderr",
     "output_type": "stream",
     "text": [
      "qcodes.parameters.parameter - DEBUG - Getting raw value of parameter: MockParabola_x as -100\n"
     ]
    },
    {
     "name": "stderr",
     "output_type": "stream",
     "text": [
      "qcodes.parameters.parameter - DEBUG - Getting raw value of parameter: MockParabola_y as 30\n"
     ]
    },
    {
     "name": "stderr",
     "output_type": "stream",
     "text": [
      "qcodes.parameters.parameter - DEBUG - Getting raw value of parameter: MockParabola_z as 0\n"
     ]
    },
    {
     "name": "stderr",
     "output_type": "stream",
     "text": [
      "qcodes.parameters.parameter - DEBUG - Getting raw value of parameter: MockParabola_y as 30\n"
     ]
    },
    {
     "name": "stderr",
     "output_type": "stream",
     "text": [
      "qcodes.parameters.parameter - DEBUG - Getting raw value of parameter: MockParabola_x as -100\n"
     ]
    },
    {
     "name": "stderr",
     "output_type": "stream",
     "text": [
      "qcodes.parameters.parameter - DEBUG - Getting raw value of parameter: MockParabola_noise as 0\n"
     ]
    },
    {
     "name": "stderr",
     "output_type": "stream",
     "text": [
      "qcodes.parameters.parameter - DEBUG - Setting raw value of parameter: MockParabola_y to 40\n"
     ]
    },
    {
     "name": "stderr",
     "output_type": "stream",
     "text": [
      "qcodes.parameters.parameter - DEBUG - Getting raw value of parameter: MockParabola_x as -100\n"
     ]
    },
    {
     "name": "stderr",
     "output_type": "stream",
     "text": [
      "qcodes.parameters.parameter - DEBUG - Getting raw value of parameter: MockParabola_y as 40\n"
     ]
    },
    {
     "name": "stderr",
     "output_type": "stream",
     "text": [
      "qcodes.parameters.parameter - DEBUG - Getting raw value of parameter: MockParabola_z as 0\n"
     ]
    },
    {
     "name": "stderr",
     "output_type": "stream",
     "text": [
      "qcodes.parameters.parameter - DEBUG - Getting raw value of parameter: MockParabola_y as 40\n"
     ]
    },
    {
     "name": "stderr",
     "output_type": "stream",
     "text": [
      "qcodes.parameters.parameter - DEBUG - Getting raw value of parameter: MockParabola_x as -100\n"
     ]
    },
    {
     "name": "stderr",
     "output_type": "stream",
     "text": [
      "qcodes.parameters.parameter - DEBUG - Getting raw value of parameter: MockParabola_noise as 0\n"
     ]
    },
    {
     "name": "stderr",
     "output_type": "stream",
     "text": [
      "qcodes.parameters.parameter - DEBUG - Setting raw value of parameter: MockParabola_x to -80\n"
     ]
    },
    {
     "name": "stderr",
     "output_type": "stream",
     "text": [
      "qcodes.parameters.parameter - DEBUG - Setting raw value of parameter: MockParabola_y to -100\n"
     ]
    },
    {
     "name": "stderr",
     "output_type": "stream",
     "text": [
      "qcodes.parameters.parameter - DEBUG - Getting raw value of parameter: MockParabola_x as -80\n"
     ]
    },
    {
     "name": "stderr",
     "output_type": "stream",
     "text": [
      "qcodes.parameters.parameter - DEBUG - Getting raw value of parameter: MockParabola_y as -100\n"
     ]
    },
    {
     "name": "stderr",
     "output_type": "stream",
     "text": [
      "qcodes.parameters.parameter - DEBUG - Getting raw value of parameter: MockParabola_z as 0\n"
     ]
    },
    {
     "name": "stderr",
     "output_type": "stream",
     "text": [
      "qcodes.parameters.parameter - DEBUG - Getting raw value of parameter: MockParabola_y as -100\n"
     ]
    },
    {
     "name": "stderr",
     "output_type": "stream",
     "text": [
      "qcodes.parameters.parameter - DEBUG - Getting raw value of parameter: MockParabola_x as -80\n"
     ]
    },
    {
     "name": "stderr",
     "output_type": "stream",
     "text": [
      "qcodes.parameters.parameter - DEBUG - Getting raw value of parameter: MockParabola_noise as 0\n"
     ]
    },
    {
     "name": "stderr",
     "output_type": "stream",
     "text": [
      "qcodes.parameters.parameter - DEBUG - Setting raw value of parameter: MockParabola_y to -90\n"
     ]
    },
    {
     "name": "stderr",
     "output_type": "stream",
     "text": [
      "qcodes.parameters.parameter - DEBUG - Getting raw value of parameter: MockParabola_x as -80\n"
     ]
    },
    {
     "name": "stderr",
     "output_type": "stream",
     "text": [
      "qcodes.parameters.parameter - DEBUG - Getting raw value of parameter: MockParabola_y as -90\n"
     ]
    },
    {
     "name": "stderr",
     "output_type": "stream",
     "text": [
      "qcodes.parameters.parameter - DEBUG - Getting raw value of parameter: MockParabola_z as 0\n"
     ]
    },
    {
     "name": "stderr",
     "output_type": "stream",
     "text": [
      "qcodes.parameters.parameter - DEBUG - Getting raw value of parameter: MockParabola_y as -90\n"
     ]
    },
    {
     "name": "stderr",
     "output_type": "stream",
     "text": [
      "qcodes.parameters.parameter - DEBUG - Getting raw value of parameter: MockParabola_x as -80\n"
     ]
    },
    {
     "name": "stderr",
     "output_type": "stream",
     "text": [
      "qcodes.parameters.parameter - DEBUG - Getting raw value of parameter: MockParabola_noise as 0\n"
     ]
    },
    {
     "name": "stderr",
     "output_type": "stream",
     "text": [
      "qcodes.parameters.parameter - DEBUG - Setting raw value of parameter: MockParabola_y to -80\n"
     ]
    },
    {
     "name": "stderr",
     "output_type": "stream",
     "text": [
      "qcodes.parameters.parameter - DEBUG - Getting raw value of parameter: MockParabola_x as -80\n"
     ]
    },
    {
     "name": "stderr",
     "output_type": "stream",
     "text": [
      "qcodes.parameters.parameter - DEBUG - Getting raw value of parameter: MockParabola_y as -80\n"
     ]
    },
    {
     "name": "stderr",
     "output_type": "stream",
     "text": [
      "qcodes.parameters.parameter - DEBUG - Getting raw value of parameter: MockParabola_z as 0\n"
     ]
    },
    {
     "name": "stderr",
     "output_type": "stream",
     "text": [
      "qcodes.parameters.parameter - DEBUG - Getting raw value of parameter: MockParabola_y as -80\n"
     ]
    },
    {
     "name": "stderr",
     "output_type": "stream",
     "text": [
      "qcodes.parameters.parameter - DEBUG - Getting raw value of parameter: MockParabola_x as -80\n"
     ]
    },
    {
     "name": "stderr",
     "output_type": "stream",
     "text": [
      "qcodes.parameters.parameter - DEBUG - Getting raw value of parameter: MockParabola_noise as 0\n"
     ]
    },
    {
     "name": "stderr",
     "output_type": "stream",
     "text": [
      "qcodes.parameters.parameter - DEBUG - Setting raw value of parameter: MockParabola_y to -70\n"
     ]
    },
    {
     "name": "stderr",
     "output_type": "stream",
     "text": [
      "qcodes.parameters.parameter - DEBUG - Getting raw value of parameter: MockParabola_x as -80\n"
     ]
    },
    {
     "name": "stderr",
     "output_type": "stream",
     "text": [
      "qcodes.parameters.parameter - DEBUG - Getting raw value of parameter: MockParabola_y as -70\n"
     ]
    },
    {
     "name": "stderr",
     "output_type": "stream",
     "text": [
      "qcodes.parameters.parameter - DEBUG - Getting raw value of parameter: MockParabola_z as 0\n"
     ]
    },
    {
     "name": "stderr",
     "output_type": "stream",
     "text": [
      "qcodes.parameters.parameter - DEBUG - Getting raw value of parameter: MockParabola_y as -70\n"
     ]
    },
    {
     "name": "stderr",
     "output_type": "stream",
     "text": [
      "qcodes.parameters.parameter - DEBUG - Getting raw value of parameter: MockParabola_x as -80\n"
     ]
    },
    {
     "name": "stderr",
     "output_type": "stream",
     "text": [
      "qcodes.parameters.parameter - DEBUG - Getting raw value of parameter: MockParabola_noise as 0\n"
     ]
    },
    {
     "name": "stderr",
     "output_type": "stream",
     "text": [
      "qcodes.parameters.parameter - DEBUG - Setting raw value of parameter: MockParabola_y to -60\n"
     ]
    },
    {
     "name": "stderr",
     "output_type": "stream",
     "text": [
      "qcodes.parameters.parameter - DEBUG - Getting raw value of parameter: MockParabola_x as -80\n"
     ]
    },
    {
     "name": "stderr",
     "output_type": "stream",
     "text": [
      "qcodes.parameters.parameter - DEBUG - Getting raw value of parameter: MockParabola_y as -60\n"
     ]
    },
    {
     "name": "stderr",
     "output_type": "stream",
     "text": [
      "qcodes.parameters.parameter - DEBUG - Getting raw value of parameter: MockParabola_z as 0\n"
     ]
    },
    {
     "name": "stderr",
     "output_type": "stream",
     "text": [
      "qcodes.parameters.parameter - DEBUG - Getting raw value of parameter: MockParabola_y as -60\n"
     ]
    },
    {
     "name": "stderr",
     "output_type": "stream",
     "text": [
      "qcodes.parameters.parameter - DEBUG - Getting raw value of parameter: MockParabola_x as -80\n"
     ]
    },
    {
     "name": "stderr",
     "output_type": "stream",
     "text": [
      "qcodes.parameters.parameter - DEBUG - Getting raw value of parameter: MockParabola_noise as 0\n"
     ]
    },
    {
     "name": "stderr",
     "output_type": "stream",
     "text": [
      "qcodes.parameters.parameter - DEBUG - Setting raw value of parameter: MockParabola_y to -50\n"
     ]
    },
    {
     "name": "stderr",
     "output_type": "stream",
     "text": [
      "qcodes.parameters.parameter - DEBUG - Getting raw value of parameter: MockParabola_x as -80\n"
     ]
    },
    {
     "name": "stderr",
     "output_type": "stream",
     "text": [
      "qcodes.parameters.parameter - DEBUG - Getting raw value of parameter: MockParabola_y as -50\n"
     ]
    },
    {
     "name": "stderr",
     "output_type": "stream",
     "text": [
      "qcodes.parameters.parameter - DEBUG - Getting raw value of parameter: MockParabola_z as 0\n"
     ]
    },
    {
     "name": "stderr",
     "output_type": "stream",
     "text": [
      "qcodes.parameters.parameter - DEBUG - Getting raw value of parameter: MockParabola_y as -50\n"
     ]
    },
    {
     "name": "stdout",
     "output_type": "stream",
     "text": [
      "Started at 2022-10-31 09:17:31\n"
     ]
    },
    {
     "name": "stderr",
     "output_type": "stream",
     "text": [
      "qcodes.parameters.parameter - DEBUG - Getting raw value of parameter: MockParabola_x as -80\n"
     ]
    },
    {
     "name": "stderr",
     "output_type": "stream",
     "text": [
      "qcodes.parameters.parameter - DEBUG - Getting raw value of parameter: MockParabola_noise as 0\n"
     ]
    },
    {
     "name": "stderr",
     "output_type": "stream",
     "text": [
      "qcodes.parameters.parameter - DEBUG - Setting raw value of parameter: MockParabola_y to -40\n"
     ]
    },
    {
     "name": "stderr",
     "output_type": "stream",
     "text": [
      "qcodes.parameters.parameter - DEBUG - Getting raw value of parameter: MockParabola_x as -80\n"
     ]
    },
    {
     "name": "stderr",
     "output_type": "stream",
     "text": [
      "qcodes.parameters.parameter - DEBUG - Getting raw value of parameter: MockParabola_y as -40\n"
     ]
    },
    {
     "name": "stderr",
     "output_type": "stream",
     "text": [
      "qcodes.parameters.parameter - DEBUG - Getting raw value of parameter: MockParabola_z as 0\n"
     ]
    },
    {
     "name": "stderr",
     "output_type": "stream",
     "text": [
      "qcodes.parameters.parameter - DEBUG - Getting raw value of parameter: MockParabola_y as -40\n"
     ]
    },
    {
     "name": "stderr",
     "output_type": "stream",
     "text": [
      "qcodes.parameters.parameter - DEBUG - Getting raw value of parameter: MockParabola_x as -80\n"
     ]
    },
    {
     "name": "stderr",
     "output_type": "stream",
     "text": [
      "qcodes.parameters.parameter - DEBUG - Getting raw value of parameter: MockParabola_noise as 0\n"
     ]
    },
    {
     "name": "stderr",
     "output_type": "stream",
     "text": [
      "qcodes.parameters.parameter - DEBUG - Setting raw value of parameter: MockParabola_y to -30\n"
     ]
    },
    {
     "name": "stderr",
     "output_type": "stream",
     "text": [
      "qcodes.parameters.parameter - DEBUG - Getting raw value of parameter: MockParabola_x as -80\n"
     ]
    },
    {
     "name": "stderr",
     "output_type": "stream",
     "text": [
      "qcodes.parameters.parameter - DEBUG - Getting raw value of parameter: MockParabola_y as -30\n"
     ]
    },
    {
     "name": "stderr",
     "output_type": "stream",
     "text": [
      "qcodes.parameters.parameter - DEBUG - Getting raw value of parameter: MockParabola_z as 0\n"
     ]
    },
    {
     "name": "stderr",
     "output_type": "stream",
     "text": [
      "qcodes.parameters.parameter - DEBUG - Getting raw value of parameter: MockParabola_y as -30\n"
     ]
    },
    {
     "name": "stderr",
     "output_type": "stream",
     "text": [
      "qcodes.parameters.parameter - DEBUG - Getting raw value of parameter: MockParabola_x as -80\n"
     ]
    },
    {
     "name": "stderr",
     "output_type": "stream",
     "text": [
      "qcodes.parameters.parameter - DEBUG - Getting raw value of parameter: MockParabola_noise as 0\n"
     ]
    },
    {
     "name": "stderr",
     "output_type": "stream",
     "text": [
      "qcodes.parameters.parameter - DEBUG - Setting raw value of parameter: MockParabola_y to -20\n"
     ]
    },
    {
     "name": "stderr",
     "output_type": "stream",
     "text": [
      "qcodes.parameters.parameter - DEBUG - Getting raw value of parameter: MockParabola_x as -80\n"
     ]
    },
    {
     "name": "stderr",
     "output_type": "stream",
     "text": [
      "qcodes.parameters.parameter - DEBUG - Getting raw value of parameter: MockParabola_y as -20\n"
     ]
    },
    {
     "name": "stderr",
     "output_type": "stream",
     "text": [
      "qcodes.parameters.parameter - DEBUG - Getting raw value of parameter: MockParabola_z as 0\n"
     ]
    },
    {
     "name": "stderr",
     "output_type": "stream",
     "text": [
      "qcodes.parameters.parameter - DEBUG - Getting raw value of parameter: MockParabola_y as -20\n"
     ]
    },
    {
     "name": "stderr",
     "output_type": "stream",
     "text": [
      "qcodes.parameters.parameter - DEBUG - Getting raw value of parameter: MockParabola_x as -80\n"
     ]
    },
    {
     "name": "stderr",
     "output_type": "stream",
     "text": [
      "qcodes.parameters.parameter - DEBUG - Getting raw value of parameter: MockParabola_noise as 0\n"
     ]
    },
    {
     "name": "stderr",
     "output_type": "stream",
     "text": [
      "qcodes.parameters.parameter - DEBUG - Setting raw value of parameter: MockParabola_y to -10\n"
     ]
    },
    {
     "name": "stderr",
     "output_type": "stream",
     "text": [
      "qcodes.parameters.parameter - DEBUG - Getting raw value of parameter: MockParabola_x as -80\n"
     ]
    },
    {
     "name": "stderr",
     "output_type": "stream",
     "text": [
      "qcodes.parameters.parameter - DEBUG - Getting raw value of parameter: MockParabola_y as -10\n"
     ]
    },
    {
     "name": "stderr",
     "output_type": "stream",
     "text": [
      "qcodes.parameters.parameter - DEBUG - Getting raw value of parameter: MockParabola_z as 0\n"
     ]
    },
    {
     "name": "stderr",
     "output_type": "stream",
     "text": [
      "qcodes.parameters.parameter - DEBUG - Getting raw value of parameter: MockParabola_y as -10\n"
     ]
    },
    {
     "name": "stderr",
     "output_type": "stream",
     "text": [
      "qcodes.parameters.parameter - DEBUG - Getting raw value of parameter: MockParabola_x as -80\n"
     ]
    },
    {
     "name": "stderr",
     "output_type": "stream",
     "text": [
      "qcodes.parameters.parameter - DEBUG - Getting raw value of parameter: MockParabola_noise as 0\n"
     ]
    },
    {
     "name": "stderr",
     "output_type": "stream",
     "text": [
      "qcodes.parameters.parameter - DEBUG - Setting raw value of parameter: MockParabola_y to 0\n"
     ]
    },
    {
     "name": "stderr",
     "output_type": "stream",
     "text": [
      "qcodes.parameters.parameter - DEBUG - Getting raw value of parameter: MockParabola_x as -80\n"
     ]
    },
    {
     "name": "stderr",
     "output_type": "stream",
     "text": [
      "qcodes.parameters.parameter - DEBUG - Getting raw value of parameter: MockParabola_y as 0\n"
     ]
    },
    {
     "name": "stderr",
     "output_type": "stream",
     "text": [
      "qcodes.parameters.parameter - DEBUG - Getting raw value of parameter: MockParabola_z as 0\n"
     ]
    },
    {
     "name": "stderr",
     "output_type": "stream",
     "text": [
      "qcodes.parameters.parameter - DEBUG - Getting raw value of parameter: MockParabola_y as 0\n"
     ]
    },
    {
     "name": "stderr",
     "output_type": "stream",
     "text": [
      "qcodes.parameters.parameter - DEBUG - Getting raw value of parameter: MockParabola_x as -80\n"
     ]
    },
    {
     "name": "stderr",
     "output_type": "stream",
     "text": [
      "qcodes.parameters.parameter - DEBUG - Getting raw value of parameter: MockParabola_noise as 0\n"
     ]
    },
    {
     "name": "stderr",
     "output_type": "stream",
     "text": [
      "qcodes.parameters.parameter - DEBUG - Setting raw value of parameter: MockParabola_y to 10\n"
     ]
    },
    {
     "name": "stderr",
     "output_type": "stream",
     "text": [
      "qcodes.parameters.parameter - DEBUG - Getting raw value of parameter: MockParabola_x as -80\n"
     ]
    },
    {
     "name": "stderr",
     "output_type": "stream",
     "text": [
      "qcodes.parameters.parameter - DEBUG - Getting raw value of parameter: MockParabola_y as 10\n"
     ]
    },
    {
     "name": "stderr",
     "output_type": "stream",
     "text": [
      "qcodes.parameters.parameter - DEBUG - Getting raw value of parameter: MockParabola_z as 0\n"
     ]
    },
    {
     "name": "stderr",
     "output_type": "stream",
     "text": [
      "qcodes.parameters.parameter - DEBUG - Getting raw value of parameter: MockParabola_y as 10\n"
     ]
    },
    {
     "name": "stderr",
     "output_type": "stream",
     "text": [
      "qcodes.parameters.parameter - DEBUG - Getting raw value of parameter: MockParabola_x as -80\n"
     ]
    },
    {
     "name": "stderr",
     "output_type": "stream",
     "text": [
      "qcodes.parameters.parameter - DEBUG - Getting raw value of parameter: MockParabola_noise as 0\n"
     ]
    },
    {
     "name": "stderr",
     "output_type": "stream",
     "text": [
      "qcodes.parameters.parameter - DEBUG - Setting raw value of parameter: MockParabola_y to 20\n"
     ]
    },
    {
     "name": "stderr",
     "output_type": "stream",
     "text": [
      "qcodes.parameters.parameter - DEBUG - Getting raw value of parameter: MockParabola_x as -80\n"
     ]
    },
    {
     "name": "stderr",
     "output_type": "stream",
     "text": [
      "qcodes.parameters.parameter - DEBUG - Getting raw value of parameter: MockParabola_y as 20\n"
     ]
    },
    {
     "name": "stderr",
     "output_type": "stream",
     "text": [
      "qcodes.parameters.parameter - DEBUG - Getting raw value of parameter: MockParabola_z as 0\n"
     ]
    },
    {
     "name": "stderr",
     "output_type": "stream",
     "text": [
      "qcodes.parameters.parameter - DEBUG - Getting raw value of parameter: MockParabola_y as 20\n"
     ]
    },
    {
     "name": "stderr",
     "output_type": "stream",
     "text": [
      "qcodes.parameters.parameter - DEBUG - Getting raw value of parameter: MockParabola_x as -80\n"
     ]
    },
    {
     "name": "stderr",
     "output_type": "stream",
     "text": [
      "qcodes.parameters.parameter - DEBUG - Getting raw value of parameter: MockParabola_noise as 0\n"
     ]
    },
    {
     "name": "stderr",
     "output_type": "stream",
     "text": [
      "qcodes.parameters.parameter - DEBUG - Setting raw value of parameter: MockParabola_y to 30\n"
     ]
    },
    {
     "name": "stderr",
     "output_type": "stream",
     "text": [
      "qcodes.parameters.parameter - DEBUG - Getting raw value of parameter: MockParabola_x as -80\n"
     ]
    },
    {
     "name": "stderr",
     "output_type": "stream",
     "text": [
      "qcodes.parameters.parameter - DEBUG - Getting raw value of parameter: MockParabola_y as 30\n"
     ]
    },
    {
     "name": "stderr",
     "output_type": "stream",
     "text": [
      "qcodes.parameters.parameter - DEBUG - Getting raw value of parameter: MockParabola_z as 0\n"
     ]
    },
    {
     "name": "stderr",
     "output_type": "stream",
     "text": [
      "qcodes.parameters.parameter - DEBUG - Getting raw value of parameter: MockParabola_y as 30\n"
     ]
    },
    {
     "name": "stderr",
     "output_type": "stream",
     "text": [
      "qcodes.parameters.parameter - DEBUG - Getting raw value of parameter: MockParabola_x as -80\n"
     ]
    },
    {
     "name": "stderr",
     "output_type": "stream",
     "text": [
      "qcodes.parameters.parameter - DEBUG - Getting raw value of parameter: MockParabola_noise as 0\n"
     ]
    },
    {
     "name": "stderr",
     "output_type": "stream",
     "text": [
      "qcodes.parameters.parameter - DEBUG - Setting raw value of parameter: MockParabola_y to 40\n"
     ]
    },
    {
     "name": "stderr",
     "output_type": "stream",
     "text": [
      "qcodes.parameters.parameter - DEBUG - Getting raw value of parameter: MockParabola_x as -80\n"
     ]
    },
    {
     "name": "stderr",
     "output_type": "stream",
     "text": [
      "qcodes.parameters.parameter - DEBUG - Getting raw value of parameter: MockParabola_y as 40\n"
     ]
    },
    {
     "name": "stderr",
     "output_type": "stream",
     "text": [
      "qcodes.parameters.parameter - DEBUG - Getting raw value of parameter: MockParabola_z as 0\n"
     ]
    },
    {
     "name": "stderr",
     "output_type": "stream",
     "text": [
      "qcodes.parameters.parameter - DEBUG - Getting raw value of parameter: MockParabola_y as 40\n"
     ]
    },
    {
     "name": "stderr",
     "output_type": "stream",
     "text": [
      "qcodes.parameters.parameter - DEBUG - Getting raw value of parameter: MockParabola_x as -80\n"
     ]
    },
    {
     "name": "stderr",
     "output_type": "stream",
     "text": [
      "qcodes.parameters.parameter - DEBUG - Getting raw value of parameter: MockParabola_noise as 0\n"
     ]
    },
    {
     "name": "stderr",
     "output_type": "stream",
     "text": [
      "qcodes.parameters.parameter - DEBUG - Setting raw value of parameter: MockParabola_x to -60\n"
     ]
    },
    {
     "name": "stderr",
     "output_type": "stream",
     "text": [
      "qcodes.parameters.parameter - DEBUG - Setting raw value of parameter: MockParabola_y to -100\n"
     ]
    },
    {
     "name": "stderr",
     "output_type": "stream",
     "text": [
      "qcodes.parameters.parameter - DEBUG - Getting raw value of parameter: MockParabola_x as -60\n"
     ]
    },
    {
     "name": "stderr",
     "output_type": "stream",
     "text": [
      "qcodes.parameters.parameter - DEBUG - Getting raw value of parameter: MockParabola_y as -100\n"
     ]
    },
    {
     "name": "stderr",
     "output_type": "stream",
     "text": [
      "qcodes.parameters.parameter - DEBUG - Getting raw value of parameter: MockParabola_z as 0\n"
     ]
    },
    {
     "name": "stderr",
     "output_type": "stream",
     "text": [
      "qcodes.parameters.parameter - DEBUG - Getting raw value of parameter: MockParabola_y as -100\n"
     ]
    },
    {
     "name": "stderr",
     "output_type": "stream",
     "text": [
      "qcodes.parameters.parameter - DEBUG - Getting raw value of parameter: MockParabola_x as -60\n"
     ]
    },
    {
     "name": "stderr",
     "output_type": "stream",
     "text": [
      "qcodes.parameters.parameter - DEBUG - Getting raw value of parameter: MockParabola_noise as 0\n"
     ]
    },
    {
     "name": "stderr",
     "output_type": "stream",
     "text": [
      "qcodes.parameters.parameter - DEBUG - Setting raw value of parameter: MockParabola_y to -90\n"
     ]
    },
    {
     "name": "stderr",
     "output_type": "stream",
     "text": [
      "qcodes.parameters.parameter - DEBUG - Getting raw value of parameter: MockParabola_x as -60\n"
     ]
    },
    {
     "name": "stderr",
     "output_type": "stream",
     "text": [
      "qcodes.parameters.parameter - DEBUG - Getting raw value of parameter: MockParabola_y as -90\n"
     ]
    },
    {
     "name": "stderr",
     "output_type": "stream",
     "text": [
      "qcodes.parameters.parameter - DEBUG - Getting raw value of parameter: MockParabola_z as 0\n"
     ]
    },
    {
     "name": "stderr",
     "output_type": "stream",
     "text": [
      "qcodes.parameters.parameter - DEBUG - Getting raw value of parameter: MockParabola_y as -90\n"
     ]
    },
    {
     "name": "stderr",
     "output_type": "stream",
     "text": [
      "qcodes.parameters.parameter - DEBUG - Getting raw value of parameter: MockParabola_x as -60\n"
     ]
    },
    {
     "name": "stderr",
     "output_type": "stream",
     "text": [
      "qcodes.parameters.parameter - DEBUG - Getting raw value of parameter: MockParabola_noise as 0\n"
     ]
    },
    {
     "name": "stderr",
     "output_type": "stream",
     "text": [
      "qcodes.parameters.parameter - DEBUG - Setting raw value of parameter: MockParabola_y to -80\n"
     ]
    },
    {
     "name": "stderr",
     "output_type": "stream",
     "text": [
      "qcodes.parameters.parameter - DEBUG - Getting raw value of parameter: MockParabola_x as -60\n"
     ]
    },
    {
     "name": "stderr",
     "output_type": "stream",
     "text": [
      "qcodes.parameters.parameter - DEBUG - Getting raw value of parameter: MockParabola_y as -80\n"
     ]
    },
    {
     "name": "stderr",
     "output_type": "stream",
     "text": [
      "qcodes.parameters.parameter - DEBUG - Getting raw value of parameter: MockParabola_z as 0\n"
     ]
    },
    {
     "name": "stderr",
     "output_type": "stream",
     "text": [
      "qcodes.parameters.parameter - DEBUG - Getting raw value of parameter: MockParabola_y as -80\n"
     ]
    },
    {
     "name": "stderr",
     "output_type": "stream",
     "text": [
      "qcodes.parameters.parameter - DEBUG - Getting raw value of parameter: MockParabola_x as -60\n"
     ]
    },
    {
     "name": "stderr",
     "output_type": "stream",
     "text": [
      "qcodes.parameters.parameter - DEBUG - Getting raw value of parameter: MockParabola_noise as 0\n"
     ]
    },
    {
     "name": "stderr",
     "output_type": "stream",
     "text": [
      "qcodes.parameters.parameter - DEBUG - Setting raw value of parameter: MockParabola_y to -70\n"
     ]
    },
    {
     "name": "stderr",
     "output_type": "stream",
     "text": [
      "qcodes.parameters.parameter - DEBUG - Getting raw value of parameter: MockParabola_x as -60\n"
     ]
    },
    {
     "name": "stderr",
     "output_type": "stream",
     "text": [
      "qcodes.parameters.parameter - DEBUG - Getting raw value of parameter: MockParabola_y as -70\n"
     ]
    },
    {
     "name": "stderr",
     "output_type": "stream",
     "text": [
      "qcodes.parameters.parameter - DEBUG - Getting raw value of parameter: MockParabola_z as 0\n"
     ]
    },
    {
     "name": "stderr",
     "output_type": "stream",
     "text": [
      "qcodes.parameters.parameter - DEBUG - Getting raw value of parameter: MockParabola_y as -70\n"
     ]
    },
    {
     "name": "stderr",
     "output_type": "stream",
     "text": [
      "qcodes.parameters.parameter - DEBUG - Getting raw value of parameter: MockParabola_x as -60\n"
     ]
    },
    {
     "name": "stderr",
     "output_type": "stream",
     "text": [
      "qcodes.parameters.parameter - DEBUG - Getting raw value of parameter: MockParabola_noise as 0\n"
     ]
    },
    {
     "name": "stderr",
     "output_type": "stream",
     "text": [
      "qcodes.parameters.parameter - DEBUG - Setting raw value of parameter: MockParabola_y to -60\n"
     ]
    },
    {
     "name": "stderr",
     "output_type": "stream",
     "text": [
      "qcodes.parameters.parameter - DEBUG - Getting raw value of parameter: MockParabola_x as -60\n"
     ]
    },
    {
     "name": "stderr",
     "output_type": "stream",
     "text": [
      "qcodes.parameters.parameter - DEBUG - Getting raw value of parameter: MockParabola_y as -60\n"
     ]
    },
    {
     "name": "stderr",
     "output_type": "stream",
     "text": [
      "qcodes.parameters.parameter - DEBUG - Getting raw value of parameter: MockParabola_z as 0\n"
     ]
    },
    {
     "name": "stderr",
     "output_type": "stream",
     "text": [
      "qcodes.parameters.parameter - DEBUG - Getting raw value of parameter: MockParabola_y as -60\n"
     ]
    },
    {
     "name": "stderr",
     "output_type": "stream",
     "text": [
      "qcodes.parameters.parameter - DEBUG - Getting raw value of parameter: MockParabola_x as -60\n"
     ]
    },
    {
     "name": "stderr",
     "output_type": "stream",
     "text": [
      "qcodes.parameters.parameter - DEBUG - Getting raw value of parameter: MockParabola_noise as 0\n"
     ]
    },
    {
     "name": "stderr",
     "output_type": "stream",
     "text": [
      "qcodes.parameters.parameter - DEBUG - Setting raw value of parameter: MockParabola_y to -50\n"
     ]
    },
    {
     "name": "stderr",
     "output_type": "stream",
     "text": [
      "qcodes.parameters.parameter - DEBUG - Getting raw value of parameter: MockParabola_x as -60\n"
     ]
    },
    {
     "name": "stderr",
     "output_type": "stream",
     "text": [
      "qcodes.parameters.parameter - DEBUG - Getting raw value of parameter: MockParabola_y as -50\n"
     ]
    },
    {
     "name": "stderr",
     "output_type": "stream",
     "text": [
      "qcodes.parameters.parameter - DEBUG - Getting raw value of parameter: MockParabola_z as 0\n"
     ]
    },
    {
     "name": "stderr",
     "output_type": "stream",
     "text": [
      "qcodes.parameters.parameter - DEBUG - Getting raw value of parameter: MockParabola_y as -50\n"
     ]
    },
    {
     "name": "stderr",
     "output_type": "stream",
     "text": [
      "qcodes.parameters.parameter - DEBUG - Getting raw value of parameter: MockParabola_x as -60\n"
     ]
    },
    {
     "name": "stderr",
     "output_type": "stream",
     "text": [
      "qcodes.parameters.parameter - DEBUG - Getting raw value of parameter: MockParabola_noise as 0\n"
     ]
    },
    {
     "name": "stderr",
     "output_type": "stream",
     "text": [
      "qcodes.parameters.parameter - DEBUG - Setting raw value of parameter: MockParabola_y to -40\n"
     ]
    },
    {
     "name": "stderr",
     "output_type": "stream",
     "text": [
      "qcodes.parameters.parameter - DEBUG - Getting raw value of parameter: MockParabola_x as -60\n"
     ]
    },
    {
     "name": "stderr",
     "output_type": "stream",
     "text": [
      "qcodes.parameters.parameter - DEBUG - Getting raw value of parameter: MockParabola_y as -40\n"
     ]
    },
    {
     "name": "stderr",
     "output_type": "stream",
     "text": [
      "qcodes.parameters.parameter - DEBUG - Getting raw value of parameter: MockParabola_z as 0\n"
     ]
    },
    {
     "name": "stderr",
     "output_type": "stream",
     "text": [
      "qcodes.parameters.parameter - DEBUG - Getting raw value of parameter: MockParabola_y as -40\n"
     ]
    },
    {
     "name": "stderr",
     "output_type": "stream",
     "text": [
      "qcodes.parameters.parameter - DEBUG - Getting raw value of parameter: MockParabola_x as -60\n"
     ]
    },
    {
     "name": "stderr",
     "output_type": "stream",
     "text": [
      "qcodes.parameters.parameter - DEBUG - Getting raw value of parameter: MockParabola_noise as 0\n"
     ]
    },
    {
     "name": "stderr",
     "output_type": "stream",
     "text": [
      "qcodes.parameters.parameter - DEBUG - Setting raw value of parameter: MockParabola_y to -30\n"
     ]
    },
    {
     "name": "stderr",
     "output_type": "stream",
     "text": [
      "qcodes.parameters.parameter - DEBUG - Getting raw value of parameter: MockParabola_x as -60\n"
     ]
    },
    {
     "name": "stderr",
     "output_type": "stream",
     "text": [
      "qcodes.parameters.parameter - DEBUG - Getting raw value of parameter: MockParabola_y as -30\n"
     ]
    },
    {
     "name": "stderr",
     "output_type": "stream",
     "text": [
      "qcodes.parameters.parameter - DEBUG - Getting raw value of parameter: MockParabola_z as 0\n"
     ]
    },
    {
     "name": "stderr",
     "output_type": "stream",
     "text": [
      "qcodes.parameters.parameter - DEBUG - Getting raw value of parameter: MockParabola_y as -30\n"
     ]
    },
    {
     "name": "stderr",
     "output_type": "stream",
     "text": [
      "qcodes.parameters.parameter - DEBUG - Getting raw value of parameter: MockParabola_x as -60\n"
     ]
    },
    {
     "name": "stderr",
     "output_type": "stream",
     "text": [
      "qcodes.parameters.parameter - DEBUG - Getting raw value of parameter: MockParabola_noise as 0\n"
     ]
    },
    {
     "name": "stderr",
     "output_type": "stream",
     "text": [
      "qcodes.parameters.parameter - DEBUG - Setting raw value of parameter: MockParabola_y to -20\n"
     ]
    },
    {
     "name": "stderr",
     "output_type": "stream",
     "text": [
      "qcodes.parameters.parameter - DEBUG - Getting raw value of parameter: MockParabola_x as -60\n"
     ]
    },
    {
     "name": "stderr",
     "output_type": "stream",
     "text": [
      "qcodes.parameters.parameter - DEBUG - Getting raw value of parameter: MockParabola_y as -20\n"
     ]
    },
    {
     "name": "stderr",
     "output_type": "stream",
     "text": [
      "qcodes.parameters.parameter - DEBUG - Getting raw value of parameter: MockParabola_z as 0\n"
     ]
    },
    {
     "name": "stderr",
     "output_type": "stream",
     "text": [
      "qcodes.parameters.parameter - DEBUG - Getting raw value of parameter: MockParabola_y as -20\n"
     ]
    },
    {
     "name": "stderr",
     "output_type": "stream",
     "text": [
      "qcodes.parameters.parameter - DEBUG - Getting raw value of parameter: MockParabola_x as -60\n"
     ]
    },
    {
     "name": "stderr",
     "output_type": "stream",
     "text": [
      "qcodes.parameters.parameter - DEBUG - Getting raw value of parameter: MockParabola_noise as 0\n"
     ]
    },
    {
     "name": "stderr",
     "output_type": "stream",
     "text": [
      "qcodes.parameters.parameter - DEBUG - Setting raw value of parameter: MockParabola_y to -10\n"
     ]
    },
    {
     "name": "stderr",
     "output_type": "stream",
     "text": [
      "qcodes.parameters.parameter - DEBUG - Getting raw value of parameter: MockParabola_x as -60\n"
     ]
    },
    {
     "name": "stderr",
     "output_type": "stream",
     "text": [
      "qcodes.parameters.parameter - DEBUG - Getting raw value of parameter: MockParabola_y as -10\n"
     ]
    },
    {
     "name": "stderr",
     "output_type": "stream",
     "text": [
      "qcodes.parameters.parameter - DEBUG - Getting raw value of parameter: MockParabola_z as 0\n"
     ]
    },
    {
     "name": "stderr",
     "output_type": "stream",
     "text": [
      "qcodes.parameters.parameter - DEBUG - Getting raw value of parameter: MockParabola_y as -10\n"
     ]
    },
    {
     "name": "stderr",
     "output_type": "stream",
     "text": [
      "qcodes.parameters.parameter - DEBUG - Getting raw value of parameter: MockParabola_x as -60\n"
     ]
    },
    {
     "name": "stderr",
     "output_type": "stream",
     "text": [
      "qcodes.parameters.parameter - DEBUG - Getting raw value of parameter: MockParabola_noise as 0\n"
     ]
    },
    {
     "name": "stderr",
     "output_type": "stream",
     "text": [
      "qcodes.parameters.parameter - DEBUG - Setting raw value of parameter: MockParabola_y to 0\n"
     ]
    },
    {
     "name": "stderr",
     "output_type": "stream",
     "text": [
      "qcodes.parameters.parameter - DEBUG - Getting raw value of parameter: MockParabola_x as -60\n"
     ]
    },
    {
     "name": "stderr",
     "output_type": "stream",
     "text": [
      "qcodes.parameters.parameter - DEBUG - Getting raw value of parameter: MockParabola_y as 0\n"
     ]
    },
    {
     "name": "stderr",
     "output_type": "stream",
     "text": [
      "qcodes.parameters.parameter - DEBUG - Getting raw value of parameter: MockParabola_z as 0\n"
     ]
    },
    {
     "name": "stderr",
     "output_type": "stream",
     "text": [
      "qcodes.parameters.parameter - DEBUG - Getting raw value of parameter: MockParabola_y as 0\n"
     ]
    },
    {
     "name": "stderr",
     "output_type": "stream",
     "text": [
      "qcodes.parameters.parameter - DEBUG - Getting raw value of parameter: MockParabola_x as -60\n"
     ]
    },
    {
     "name": "stderr",
     "output_type": "stream",
     "text": [
      "qcodes.parameters.parameter - DEBUG - Getting raw value of parameter: MockParabola_noise as 0\n"
     ]
    },
    {
     "name": "stderr",
     "output_type": "stream",
     "text": [
      "qcodes.parameters.parameter - DEBUG - Setting raw value of parameter: MockParabola_y to 10\n"
     ]
    },
    {
     "name": "stderr",
     "output_type": "stream",
     "text": [
      "qcodes.parameters.parameter - DEBUG - Getting raw value of parameter: MockParabola_x as -60\n"
     ]
    },
    {
     "name": "stderr",
     "output_type": "stream",
     "text": [
      "qcodes.parameters.parameter - DEBUG - Getting raw value of parameter: MockParabola_y as 10\n"
     ]
    },
    {
     "name": "stderr",
     "output_type": "stream",
     "text": [
      "qcodes.parameters.parameter - DEBUG - Getting raw value of parameter: MockParabola_z as 0\n"
     ]
    },
    {
     "name": "stderr",
     "output_type": "stream",
     "text": [
      "qcodes.parameters.parameter - DEBUG - Getting raw value of parameter: MockParabola_y as 10\n"
     ]
    },
    {
     "name": "stderr",
     "output_type": "stream",
     "text": [
      "qcodes.parameters.parameter - DEBUG - Getting raw value of parameter: MockParabola_x as -60\n"
     ]
    },
    {
     "name": "stderr",
     "output_type": "stream",
     "text": [
      "qcodes.parameters.parameter - DEBUG - Getting raw value of parameter: MockParabola_noise as 0\n"
     ]
    },
    {
     "name": "stderr",
     "output_type": "stream",
     "text": [
      "qcodes.parameters.parameter - DEBUG - Setting raw value of parameter: MockParabola_y to 20\n"
     ]
    },
    {
     "name": "stderr",
     "output_type": "stream",
     "text": [
      "qcodes.parameters.parameter - DEBUG - Getting raw value of parameter: MockParabola_x as -60\n"
     ]
    },
    {
     "name": "stderr",
     "output_type": "stream",
     "text": [
      "qcodes.parameters.parameter - DEBUG - Getting raw value of parameter: MockParabola_y as 20\n"
     ]
    },
    {
     "name": "stderr",
     "output_type": "stream",
     "text": [
      "qcodes.parameters.parameter - DEBUG - Getting raw value of parameter: MockParabola_z as 0\n"
     ]
    },
    {
     "name": "stderr",
     "output_type": "stream",
     "text": [
      "qcodes.parameters.parameter - DEBUG - Getting raw value of parameter: MockParabola_y as 20\n"
     ]
    },
    {
     "name": "stderr",
     "output_type": "stream",
     "text": [
      "qcodes.parameters.parameter - DEBUG - Getting raw value of parameter: MockParabola_x as -60\n"
     ]
    },
    {
     "name": "stderr",
     "output_type": "stream",
     "text": [
      "qcodes.parameters.parameter - DEBUG - Getting raw value of parameter: MockParabola_noise as 0\n"
     ]
    },
    {
     "name": "stderr",
     "output_type": "stream",
     "text": [
      "qcodes.parameters.parameter - DEBUG - Setting raw value of parameter: MockParabola_y to 30\n"
     ]
    },
    {
     "name": "stderr",
     "output_type": "stream",
     "text": [
      "qcodes.parameters.parameter - DEBUG - Getting raw value of parameter: MockParabola_x as -60\n"
     ]
    },
    {
     "name": "stderr",
     "output_type": "stream",
     "text": [
      "qcodes.parameters.parameter - DEBUG - Getting raw value of parameter: MockParabola_y as 30\n"
     ]
    },
    {
     "name": "stderr",
     "output_type": "stream",
     "text": [
      "qcodes.parameters.parameter - DEBUG - Getting raw value of parameter: MockParabola_z as 0\n"
     ]
    },
    {
     "name": "stderr",
     "output_type": "stream",
     "text": [
      "qcodes.parameters.parameter - DEBUG - Getting raw value of parameter: MockParabola_y as 30\n"
     ]
    },
    {
     "name": "stderr",
     "output_type": "stream",
     "text": [
      "qcodes.parameters.parameter - DEBUG - Getting raw value of parameter: MockParabola_x as -60\n"
     ]
    },
    {
     "name": "stderr",
     "output_type": "stream",
     "text": [
      "qcodes.parameters.parameter - DEBUG - Getting raw value of parameter: MockParabola_noise as 0\n"
     ]
    },
    {
     "name": "stderr",
     "output_type": "stream",
     "text": [
      "qcodes.parameters.parameter - DEBUG - Setting raw value of parameter: MockParabola_y to 40\n"
     ]
    },
    {
     "name": "stderr",
     "output_type": "stream",
     "text": [
      "qcodes.parameters.parameter - DEBUG - Getting raw value of parameter: MockParabola_x as -60\n"
     ]
    },
    {
     "name": "stderr",
     "output_type": "stream",
     "text": [
      "qcodes.parameters.parameter - DEBUG - Getting raw value of parameter: MockParabola_y as 40\n"
     ]
    },
    {
     "name": "stderr",
     "output_type": "stream",
     "text": [
      "qcodes.parameters.parameter - DEBUG - Getting raw value of parameter: MockParabola_z as 0\n"
     ]
    },
    {
     "name": "stderr",
     "output_type": "stream",
     "text": [
      "qcodes.parameters.parameter - DEBUG - Getting raw value of parameter: MockParabola_y as 40\n"
     ]
    },
    {
     "name": "stderr",
     "output_type": "stream",
     "text": [
      "qcodes.parameters.parameter - DEBUG - Getting raw value of parameter: MockParabola_x as -60\n"
     ]
    },
    {
     "name": "stderr",
     "output_type": "stream",
     "text": [
      "qcodes.parameters.parameter - DEBUG - Getting raw value of parameter: MockParabola_noise as 0\n"
     ]
    },
    {
     "name": "stderr",
     "output_type": "stream",
     "text": [
      "qcodes.parameters.parameter - DEBUG - Setting raw value of parameter: MockParabola_x to -40\n"
     ]
    },
    {
     "name": "stderr",
     "output_type": "stream",
     "text": [
      "qcodes.parameters.parameter - DEBUG - Setting raw value of parameter: MockParabola_y to -100\n"
     ]
    },
    {
     "name": "stderr",
     "output_type": "stream",
     "text": [
      "qcodes.parameters.parameter - DEBUG - Getting raw value of parameter: MockParabola_x as -40\n"
     ]
    },
    {
     "name": "stderr",
     "output_type": "stream",
     "text": [
      "qcodes.parameters.parameter - DEBUG - Getting raw value of parameter: MockParabola_y as -100\n"
     ]
    },
    {
     "name": "stderr",
     "output_type": "stream",
     "text": [
      "qcodes.parameters.parameter - DEBUG - Getting raw value of parameter: MockParabola_z as 0\n"
     ]
    },
    {
     "name": "stderr",
     "output_type": "stream",
     "text": [
      "qcodes.parameters.parameter - DEBUG - Getting raw value of parameter: MockParabola_y as -100\n"
     ]
    },
    {
     "name": "stderr",
     "output_type": "stream",
     "text": [
      "qcodes.parameters.parameter - DEBUG - Getting raw value of parameter: MockParabola_x as -40\n"
     ]
    },
    {
     "name": "stderr",
     "output_type": "stream",
     "text": [
      "qcodes.parameters.parameter - DEBUG - Getting raw value of parameter: MockParabola_noise as 0\n"
     ]
    },
    {
     "name": "stderr",
     "output_type": "stream",
     "text": [
      "qcodes.parameters.parameter - DEBUG - Setting raw value of parameter: MockParabola_y to -90\n"
     ]
    },
    {
     "name": "stderr",
     "output_type": "stream",
     "text": [
      "qcodes.parameters.parameter - DEBUG - Getting raw value of parameter: MockParabola_x as -40\n"
     ]
    },
    {
     "name": "stderr",
     "output_type": "stream",
     "text": [
      "qcodes.parameters.parameter - DEBUG - Getting raw value of parameter: MockParabola_y as -90\n"
     ]
    },
    {
     "name": "stderr",
     "output_type": "stream",
     "text": [
      "qcodes.parameters.parameter - DEBUG - Getting raw value of parameter: MockParabola_z as 0\n"
     ]
    },
    {
     "name": "stderr",
     "output_type": "stream",
     "text": [
      "qcodes.parameters.parameter - DEBUG - Getting raw value of parameter: MockParabola_y as -90\n"
     ]
    },
    {
     "name": "stderr",
     "output_type": "stream",
     "text": [
      "qcodes.parameters.parameter - DEBUG - Getting raw value of parameter: MockParabola_x as -40\n"
     ]
    },
    {
     "name": "stderr",
     "output_type": "stream",
     "text": [
      "qcodes.parameters.parameter - DEBUG - Getting raw value of parameter: MockParabola_noise as 0\n"
     ]
    },
    {
     "name": "stderr",
     "output_type": "stream",
     "text": [
      "qcodes.parameters.parameter - DEBUG - Setting raw value of parameter: MockParabola_y to -80\n"
     ]
    },
    {
     "name": "stderr",
     "output_type": "stream",
     "text": [
      "qcodes.parameters.parameter - DEBUG - Getting raw value of parameter: MockParabola_x as -40\n"
     ]
    },
    {
     "name": "stderr",
     "output_type": "stream",
     "text": [
      "qcodes.parameters.parameter - DEBUG - Getting raw value of parameter: MockParabola_y as -80\n"
     ]
    },
    {
     "name": "stderr",
     "output_type": "stream",
     "text": [
      "qcodes.parameters.parameter - DEBUG - Getting raw value of parameter: MockParabola_z as 0\n"
     ]
    },
    {
     "name": "stderr",
     "output_type": "stream",
     "text": [
      "qcodes.parameters.parameter - DEBUG - Getting raw value of parameter: MockParabola_y as -80\n"
     ]
    },
    {
     "name": "stderr",
     "output_type": "stream",
     "text": [
      "qcodes.parameters.parameter - DEBUG - Getting raw value of parameter: MockParabola_x as -40\n"
     ]
    },
    {
     "name": "stderr",
     "output_type": "stream",
     "text": [
      "qcodes.parameters.parameter - DEBUG - Getting raw value of parameter: MockParabola_noise as 0\n"
     ]
    },
    {
     "name": "stderr",
     "output_type": "stream",
     "text": [
      "qcodes.parameters.parameter - DEBUG - Setting raw value of parameter: MockParabola_y to -70\n"
     ]
    },
    {
     "name": "stderr",
     "output_type": "stream",
     "text": [
      "qcodes.parameters.parameter - DEBUG - Getting raw value of parameter: MockParabola_x as -40\n"
     ]
    },
    {
     "name": "stderr",
     "output_type": "stream",
     "text": [
      "qcodes.parameters.parameter - DEBUG - Getting raw value of parameter: MockParabola_y as -70\n"
     ]
    },
    {
     "name": "stderr",
     "output_type": "stream",
     "text": [
      "qcodes.parameters.parameter - DEBUG - Getting raw value of parameter: MockParabola_z as 0\n"
     ]
    },
    {
     "name": "stderr",
     "output_type": "stream",
     "text": [
      "qcodes.parameters.parameter - DEBUG - Getting raw value of parameter: MockParabola_y as -70\n"
     ]
    },
    {
     "name": "stderr",
     "output_type": "stream",
     "text": [
      "qcodes.parameters.parameter - DEBUG - Getting raw value of parameter: MockParabola_x as -40\n"
     ]
    },
    {
     "name": "stderr",
     "output_type": "stream",
     "text": [
      "qcodes.parameters.parameter - DEBUG - Getting raw value of parameter: MockParabola_noise as 0\n"
     ]
    },
    {
     "name": "stderr",
     "output_type": "stream",
     "text": [
      "qcodes.parameters.parameter - DEBUG - Setting raw value of parameter: MockParabola_y to -60\n"
     ]
    },
    {
     "name": "stderr",
     "output_type": "stream",
     "text": [
      "qcodes.parameters.parameter - DEBUG - Getting raw value of parameter: MockParabola_x as -40\n"
     ]
    },
    {
     "name": "stderr",
     "output_type": "stream",
     "text": [
      "qcodes.parameters.parameter - DEBUG - Getting raw value of parameter: MockParabola_y as -60\n"
     ]
    },
    {
     "name": "stderr",
     "output_type": "stream",
     "text": [
      "qcodes.parameters.parameter - DEBUG - Getting raw value of parameter: MockParabola_z as 0\n"
     ]
    },
    {
     "name": "stderr",
     "output_type": "stream",
     "text": [
      "qcodes.parameters.parameter - DEBUG - Getting raw value of parameter: MockParabola_y as -60\n"
     ]
    },
    {
     "name": "stderr",
     "output_type": "stream",
     "text": [
      "qcodes.parameters.parameter - DEBUG - Getting raw value of parameter: MockParabola_x as -40\n"
     ]
    },
    {
     "name": "stderr",
     "output_type": "stream",
     "text": [
      "qcodes.parameters.parameter - DEBUG - Getting raw value of parameter: MockParabola_noise as 0\n"
     ]
    },
    {
     "name": "stderr",
     "output_type": "stream",
     "text": [
      "qcodes.parameters.parameter - DEBUG - Setting raw value of parameter: MockParabola_y to -50\n"
     ]
    },
    {
     "name": "stderr",
     "output_type": "stream",
     "text": [
      "qcodes.parameters.parameter - DEBUG - Getting raw value of parameter: MockParabola_x as -40\n"
     ]
    },
    {
     "name": "stderr",
     "output_type": "stream",
     "text": [
      "qcodes.parameters.parameter - DEBUG - Getting raw value of parameter: MockParabola_y as -50\n"
     ]
    },
    {
     "name": "stderr",
     "output_type": "stream",
     "text": [
      "qcodes.parameters.parameter - DEBUG - Getting raw value of parameter: MockParabola_z as 0\n"
     ]
    },
    {
     "name": "stderr",
     "output_type": "stream",
     "text": [
      "qcodes.parameters.parameter - DEBUG - Getting raw value of parameter: MockParabola_y as -50\n"
     ]
    },
    {
     "name": "stderr",
     "output_type": "stream",
     "text": [
      "qcodes.parameters.parameter - DEBUG - Getting raw value of parameter: MockParabola_x as -40\n"
     ]
    },
    {
     "name": "stderr",
     "output_type": "stream",
     "text": [
      "qcodes.parameters.parameter - DEBUG - Getting raw value of parameter: MockParabola_noise as 0\n"
     ]
    },
    {
     "name": "stderr",
     "output_type": "stream",
     "text": [
      "qcodes.parameters.parameter - DEBUG - Setting raw value of parameter: MockParabola_y to -40\n"
     ]
    },
    {
     "name": "stderr",
     "output_type": "stream",
     "text": [
      "qcodes.parameters.parameter - DEBUG - Getting raw value of parameter: MockParabola_x as -40\n"
     ]
    },
    {
     "name": "stderr",
     "output_type": "stream",
     "text": [
      "qcodes.parameters.parameter - DEBUG - Getting raw value of parameter: MockParabola_y as -40\n"
     ]
    },
    {
     "name": "stderr",
     "output_type": "stream",
     "text": [
      "qcodes.parameters.parameter - DEBUG - Getting raw value of parameter: MockParabola_z as 0\n"
     ]
    },
    {
     "name": "stderr",
     "output_type": "stream",
     "text": [
      "qcodes.parameters.parameter - DEBUG - Getting raw value of parameter: MockParabola_y as -40\n"
     ]
    },
    {
     "name": "stderr",
     "output_type": "stream",
     "text": [
      "qcodes.parameters.parameter - DEBUG - Getting raw value of parameter: MockParabola_x as -40\n"
     ]
    },
    {
     "name": "stderr",
     "output_type": "stream",
     "text": [
      "qcodes.parameters.parameter - DEBUG - Getting raw value of parameter: MockParabola_noise as 0\n"
     ]
    },
    {
     "name": "stderr",
     "output_type": "stream",
     "text": [
      "qcodes.parameters.parameter - DEBUG - Setting raw value of parameter: MockParabola_y to -30\n"
     ]
    },
    {
     "name": "stderr",
     "output_type": "stream",
     "text": [
      "qcodes.parameters.parameter - DEBUG - Getting raw value of parameter: MockParabola_x as -40\n"
     ]
    },
    {
     "name": "stderr",
     "output_type": "stream",
     "text": [
      "qcodes.parameters.parameter - DEBUG - Getting raw value of parameter: MockParabola_y as -30\n"
     ]
    },
    {
     "name": "stderr",
     "output_type": "stream",
     "text": [
      "qcodes.parameters.parameter - DEBUG - Getting raw value of parameter: MockParabola_z as 0\n"
     ]
    },
    {
     "name": "stderr",
     "output_type": "stream",
     "text": [
      "qcodes.parameters.parameter - DEBUG - Getting raw value of parameter: MockParabola_y as -30\n"
     ]
    },
    {
     "name": "stderr",
     "output_type": "stream",
     "text": [
      "qcodes.parameters.parameter - DEBUG - Getting raw value of parameter: MockParabola_x as -40\n"
     ]
    },
    {
     "name": "stderr",
     "output_type": "stream",
     "text": [
      "qcodes.parameters.parameter - DEBUG - Getting raw value of parameter: MockParabola_noise as 0\n"
     ]
    },
    {
     "name": "stderr",
     "output_type": "stream",
     "text": [
      "qcodes.parameters.parameter - DEBUG - Setting raw value of parameter: MockParabola_y to -20\n"
     ]
    },
    {
     "name": "stderr",
     "output_type": "stream",
     "text": [
      "qcodes.parameters.parameter - DEBUG - Getting raw value of parameter: MockParabola_x as -40\n"
     ]
    },
    {
     "name": "stderr",
     "output_type": "stream",
     "text": [
      "qcodes.parameters.parameter - DEBUG - Getting raw value of parameter: MockParabola_y as -20\n"
     ]
    },
    {
     "name": "stderr",
     "output_type": "stream",
     "text": [
      "qcodes.parameters.parameter - DEBUG - Getting raw value of parameter: MockParabola_z as 0\n"
     ]
    },
    {
     "name": "stderr",
     "output_type": "stream",
     "text": [
      "qcodes.parameters.parameter - DEBUG - Getting raw value of parameter: MockParabola_y as -20\n"
     ]
    },
    {
     "name": "stderr",
     "output_type": "stream",
     "text": [
      "qcodes.parameters.parameter - DEBUG - Getting raw value of parameter: MockParabola_x as -40\n"
     ]
    },
    {
     "name": "stderr",
     "output_type": "stream",
     "text": [
      "qcodes.parameters.parameter - DEBUG - Getting raw value of parameter: MockParabola_noise as 0\n"
     ]
    },
    {
     "name": "stderr",
     "output_type": "stream",
     "text": [
      "qcodes.parameters.parameter - DEBUG - Setting raw value of parameter: MockParabola_y to -10\n"
     ]
    },
    {
     "name": "stderr",
     "output_type": "stream",
     "text": [
      "qcodes.parameters.parameter - DEBUG - Getting raw value of parameter: MockParabola_x as -40\n"
     ]
    },
    {
     "name": "stderr",
     "output_type": "stream",
     "text": [
      "qcodes.parameters.parameter - DEBUG - Getting raw value of parameter: MockParabola_y as -10\n"
     ]
    },
    {
     "name": "stderr",
     "output_type": "stream",
     "text": [
      "qcodes.parameters.parameter - DEBUG - Getting raw value of parameter: MockParabola_z as 0\n"
     ]
    },
    {
     "name": "stderr",
     "output_type": "stream",
     "text": [
      "qcodes.parameters.parameter - DEBUG - Getting raw value of parameter: MockParabola_y as -10\n"
     ]
    },
    {
     "name": "stderr",
     "output_type": "stream",
     "text": [
      "qcodes.parameters.parameter - DEBUG - Getting raw value of parameter: MockParabola_x as -40\n"
     ]
    },
    {
     "name": "stderr",
     "output_type": "stream",
     "text": [
      "qcodes.parameters.parameter - DEBUG - Getting raw value of parameter: MockParabola_noise as 0\n"
     ]
    },
    {
     "name": "stderr",
     "output_type": "stream",
     "text": [
      "qcodes.parameters.parameter - DEBUG - Setting raw value of parameter: MockParabola_y to 0\n"
     ]
    },
    {
     "name": "stderr",
     "output_type": "stream",
     "text": [
      "qcodes.parameters.parameter - DEBUG - Getting raw value of parameter: MockParabola_x as -40\n"
     ]
    },
    {
     "name": "stderr",
     "output_type": "stream",
     "text": [
      "qcodes.parameters.parameter - DEBUG - Getting raw value of parameter: MockParabola_y as 0\n"
     ]
    },
    {
     "name": "stderr",
     "output_type": "stream",
     "text": [
      "qcodes.parameters.parameter - DEBUG - Getting raw value of parameter: MockParabola_z as 0\n"
     ]
    },
    {
     "name": "stderr",
     "output_type": "stream",
     "text": [
      "qcodes.parameters.parameter - DEBUG - Getting raw value of parameter: MockParabola_y as 0\n"
     ]
    },
    {
     "name": "stderr",
     "output_type": "stream",
     "text": [
      "qcodes.parameters.parameter - DEBUG - Getting raw value of parameter: MockParabola_x as -40\n"
     ]
    },
    {
     "name": "stderr",
     "output_type": "stream",
     "text": [
      "qcodes.parameters.parameter - DEBUG - Getting raw value of parameter: MockParabola_noise as 0\n"
     ]
    },
    {
     "name": "stderr",
     "output_type": "stream",
     "text": [
      "qcodes.parameters.parameter - DEBUG - Setting raw value of parameter: MockParabola_y to 10\n"
     ]
    },
    {
     "name": "stderr",
     "output_type": "stream",
     "text": [
      "qcodes.parameters.parameter - DEBUG - Getting raw value of parameter: MockParabola_x as -40\n"
     ]
    },
    {
     "name": "stderr",
     "output_type": "stream",
     "text": [
      "qcodes.parameters.parameter - DEBUG - Getting raw value of parameter: MockParabola_y as 10\n"
     ]
    },
    {
     "name": "stderr",
     "output_type": "stream",
     "text": [
      "qcodes.parameters.parameter - DEBUG - Getting raw value of parameter: MockParabola_z as 0\n"
     ]
    },
    {
     "name": "stderr",
     "output_type": "stream",
     "text": [
      "qcodes.parameters.parameter - DEBUG - Getting raw value of parameter: MockParabola_y as 10\n"
     ]
    },
    {
     "name": "stderr",
     "output_type": "stream",
     "text": [
      "qcodes.parameters.parameter - DEBUG - Getting raw value of parameter: MockParabola_x as -40\n"
     ]
    },
    {
     "name": "stderr",
     "output_type": "stream",
     "text": [
      "qcodes.parameters.parameter - DEBUG - Getting raw value of parameter: MockParabola_noise as 0\n"
     ]
    },
    {
     "name": "stderr",
     "output_type": "stream",
     "text": [
      "qcodes.parameters.parameter - DEBUG - Setting raw value of parameter: MockParabola_y to 20\n"
     ]
    },
    {
     "name": "stderr",
     "output_type": "stream",
     "text": [
      "qcodes.parameters.parameter - DEBUG - Getting raw value of parameter: MockParabola_x as -40\n"
     ]
    },
    {
     "name": "stderr",
     "output_type": "stream",
     "text": [
      "qcodes.parameters.parameter - DEBUG - Getting raw value of parameter: MockParabola_y as 20\n"
     ]
    },
    {
     "name": "stderr",
     "output_type": "stream",
     "text": [
      "qcodes.parameters.parameter - DEBUG - Getting raw value of parameter: MockParabola_z as 0\n"
     ]
    },
    {
     "name": "stderr",
     "output_type": "stream",
     "text": [
      "qcodes.parameters.parameter - DEBUG - Getting raw value of parameter: MockParabola_y as 20\n"
     ]
    },
    {
     "name": "stderr",
     "output_type": "stream",
     "text": [
      "qcodes.parameters.parameter - DEBUG - Getting raw value of parameter: MockParabola_x as -40\n"
     ]
    },
    {
     "name": "stderr",
     "output_type": "stream",
     "text": [
      "qcodes.parameters.parameter - DEBUG - Getting raw value of parameter: MockParabola_noise as 0\n"
     ]
    },
    {
     "name": "stderr",
     "output_type": "stream",
     "text": [
      "qcodes.parameters.parameter - DEBUG - Setting raw value of parameter: MockParabola_y to 30\n"
     ]
    },
    {
     "name": "stderr",
     "output_type": "stream",
     "text": [
      "qcodes.parameters.parameter - DEBUG - Getting raw value of parameter: MockParabola_x as -40\n"
     ]
    },
    {
     "name": "stderr",
     "output_type": "stream",
     "text": [
      "qcodes.parameters.parameter - DEBUG - Getting raw value of parameter: MockParabola_y as 30\n"
     ]
    },
    {
     "name": "stderr",
     "output_type": "stream",
     "text": [
      "qcodes.parameters.parameter - DEBUG - Getting raw value of parameter: MockParabola_z as 0\n"
     ]
    },
    {
     "name": "stderr",
     "output_type": "stream",
     "text": [
      "qcodes.parameters.parameter - DEBUG - Getting raw value of parameter: MockParabola_y as 30\n"
     ]
    },
    {
     "name": "stderr",
     "output_type": "stream",
     "text": [
      "qcodes.parameters.parameter - DEBUG - Getting raw value of parameter: MockParabola_x as -40\n"
     ]
    },
    {
     "name": "stderr",
     "output_type": "stream",
     "text": [
      "qcodes.parameters.parameter - DEBUG - Getting raw value of parameter: MockParabola_noise as 0\n"
     ]
    },
    {
     "name": "stderr",
     "output_type": "stream",
     "text": [
      "qcodes.parameters.parameter - DEBUG - Setting raw value of parameter: MockParabola_y to 40\n"
     ]
    },
    {
     "name": "stderr",
     "output_type": "stream",
     "text": [
      "qcodes.parameters.parameter - DEBUG - Getting raw value of parameter: MockParabola_x as -40\n"
     ]
    },
    {
     "name": "stderr",
     "output_type": "stream",
     "text": [
      "qcodes.parameters.parameter - DEBUG - Getting raw value of parameter: MockParabola_y as 40\n"
     ]
    },
    {
     "name": "stderr",
     "output_type": "stream",
     "text": [
      "qcodes.parameters.parameter - DEBUG - Getting raw value of parameter: MockParabola_z as 0\n"
     ]
    },
    {
     "name": "stderr",
     "output_type": "stream",
     "text": [
      "qcodes.parameters.parameter - DEBUG - Getting raw value of parameter: MockParabola_y as 40\n"
     ]
    },
    {
     "name": "stderr",
     "output_type": "stream",
     "text": [
      "qcodes.parameters.parameter - DEBUG - Getting raw value of parameter: MockParabola_x as -40\n"
     ]
    },
    {
     "name": "stderr",
     "output_type": "stream",
     "text": [
      "qcodes.parameters.parameter - DEBUG - Getting raw value of parameter: MockParabola_noise as 0\n"
     ]
    },
    {
     "name": "stderr",
     "output_type": "stream",
     "text": [
      "qcodes.parameters.parameter - DEBUG - Setting raw value of parameter: MockParabola_x to -20\n"
     ]
    },
    {
     "name": "stderr",
     "output_type": "stream",
     "text": [
      "qcodes.parameters.parameter - DEBUG - Setting raw value of parameter: MockParabola_y to -100\n"
     ]
    },
    {
     "name": "stderr",
     "output_type": "stream",
     "text": [
      "qcodes.parameters.parameter - DEBUG - Getting raw value of parameter: MockParabola_x as -20\n"
     ]
    },
    {
     "name": "stderr",
     "output_type": "stream",
     "text": [
      "qcodes.parameters.parameter - DEBUG - Getting raw value of parameter: MockParabola_y as -100\n"
     ]
    },
    {
     "name": "stderr",
     "output_type": "stream",
     "text": [
      "qcodes.parameters.parameter - DEBUG - Getting raw value of parameter: MockParabola_z as 0\n"
     ]
    },
    {
     "name": "stderr",
     "output_type": "stream",
     "text": [
      "qcodes.parameters.parameter - DEBUG - Getting raw value of parameter: MockParabola_y as -100\n"
     ]
    },
    {
     "name": "stderr",
     "output_type": "stream",
     "text": [
      "qcodes.parameters.parameter - DEBUG - Getting raw value of parameter: MockParabola_x as -20\n"
     ]
    },
    {
     "name": "stderr",
     "output_type": "stream",
     "text": [
      "qcodes.parameters.parameter - DEBUG - Getting raw value of parameter: MockParabola_noise as 0\n"
     ]
    },
    {
     "name": "stderr",
     "output_type": "stream",
     "text": [
      "qcodes.parameters.parameter - DEBUG - Setting raw value of parameter: MockParabola_y to -90\n"
     ]
    },
    {
     "name": "stderr",
     "output_type": "stream",
     "text": [
      "qcodes.parameters.parameter - DEBUG - Getting raw value of parameter: MockParabola_x as -20\n"
     ]
    },
    {
     "name": "stderr",
     "output_type": "stream",
     "text": [
      "qcodes.parameters.parameter - DEBUG - Getting raw value of parameter: MockParabola_y as -90\n"
     ]
    },
    {
     "name": "stderr",
     "output_type": "stream",
     "text": [
      "qcodes.parameters.parameter - DEBUG - Getting raw value of parameter: MockParabola_z as 0\n"
     ]
    },
    {
     "name": "stderr",
     "output_type": "stream",
     "text": [
      "qcodes.parameters.parameter - DEBUG - Getting raw value of parameter: MockParabola_y as -90\n"
     ]
    },
    {
     "name": "stderr",
     "output_type": "stream",
     "text": [
      "qcodes.parameters.parameter - DEBUG - Getting raw value of parameter: MockParabola_x as -20\n"
     ]
    },
    {
     "name": "stderr",
     "output_type": "stream",
     "text": [
      "qcodes.parameters.parameter - DEBUG - Getting raw value of parameter: MockParabola_noise as 0\n"
     ]
    },
    {
     "name": "stderr",
     "output_type": "stream",
     "text": [
      "qcodes.parameters.parameter - DEBUG - Setting raw value of parameter: MockParabola_y to -80\n"
     ]
    },
    {
     "name": "stderr",
     "output_type": "stream",
     "text": [
      "qcodes.parameters.parameter - DEBUG - Getting raw value of parameter: MockParabola_x as -20\n"
     ]
    },
    {
     "name": "stderr",
     "output_type": "stream",
     "text": [
      "qcodes.parameters.parameter - DEBUG - Getting raw value of parameter: MockParabola_y as -80\n"
     ]
    },
    {
     "name": "stderr",
     "output_type": "stream",
     "text": [
      "qcodes.parameters.parameter - DEBUG - Getting raw value of parameter: MockParabola_z as 0\n"
     ]
    },
    {
     "name": "stderr",
     "output_type": "stream",
     "text": [
      "qcodes.parameters.parameter - DEBUG - Getting raw value of parameter: MockParabola_y as -80\n"
     ]
    },
    {
     "name": "stderr",
     "output_type": "stream",
     "text": [
      "qcodes.parameters.parameter - DEBUG - Getting raw value of parameter: MockParabola_x as -20\n"
     ]
    },
    {
     "name": "stderr",
     "output_type": "stream",
     "text": [
      "qcodes.parameters.parameter - DEBUG - Getting raw value of parameter: MockParabola_noise as 0\n"
     ]
    },
    {
     "name": "stderr",
     "output_type": "stream",
     "text": [
      "qcodes.parameters.parameter - DEBUG - Setting raw value of parameter: MockParabola_y to -70\n"
     ]
    },
    {
     "name": "stderr",
     "output_type": "stream",
     "text": [
      "qcodes.parameters.parameter - DEBUG - Getting raw value of parameter: MockParabola_x as -20\n"
     ]
    },
    {
     "name": "stderr",
     "output_type": "stream",
     "text": [
      "qcodes.parameters.parameter - DEBUG - Getting raw value of parameter: MockParabola_y as -70\n"
     ]
    },
    {
     "name": "stderr",
     "output_type": "stream",
     "text": [
      "qcodes.parameters.parameter - DEBUG - Getting raw value of parameter: MockParabola_z as 0\n"
     ]
    },
    {
     "name": "stderr",
     "output_type": "stream",
     "text": [
      "qcodes.parameters.parameter - DEBUG - Getting raw value of parameter: MockParabola_y as -70\n"
     ]
    },
    {
     "name": "stderr",
     "output_type": "stream",
     "text": [
      "qcodes.parameters.parameter - DEBUG - Getting raw value of parameter: MockParabola_x as -20\n"
     ]
    },
    {
     "name": "stderr",
     "output_type": "stream",
     "text": [
      "qcodes.parameters.parameter - DEBUG - Getting raw value of parameter: MockParabola_noise as 0\n"
     ]
    },
    {
     "name": "stderr",
     "output_type": "stream",
     "text": [
      "qcodes.parameters.parameter - DEBUG - Setting raw value of parameter: MockParabola_y to -60\n"
     ]
    },
    {
     "name": "stderr",
     "output_type": "stream",
     "text": [
      "qcodes.parameters.parameter - DEBUG - Getting raw value of parameter: MockParabola_x as -20\n"
     ]
    },
    {
     "name": "stderr",
     "output_type": "stream",
     "text": [
      "qcodes.parameters.parameter - DEBUG - Getting raw value of parameter: MockParabola_y as -60\n"
     ]
    },
    {
     "name": "stderr",
     "output_type": "stream",
     "text": [
      "qcodes.parameters.parameter - DEBUG - Getting raw value of parameter: MockParabola_z as 0\n"
     ]
    },
    {
     "name": "stderr",
     "output_type": "stream",
     "text": [
      "qcodes.parameters.parameter - DEBUG - Getting raw value of parameter: MockParabola_y as -60\n"
     ]
    },
    {
     "name": "stderr",
     "output_type": "stream",
     "text": [
      "qcodes.parameters.parameter - DEBUG - Getting raw value of parameter: MockParabola_x as -20\n"
     ]
    },
    {
     "name": "stderr",
     "output_type": "stream",
     "text": [
      "qcodes.parameters.parameter - DEBUG - Getting raw value of parameter: MockParabola_noise as 0\n"
     ]
    },
    {
     "name": "stderr",
     "output_type": "stream",
     "text": [
      "qcodes.parameters.parameter - DEBUG - Setting raw value of parameter: MockParabola_y to -50\n"
     ]
    },
    {
     "name": "stderr",
     "output_type": "stream",
     "text": [
      "qcodes.parameters.parameter - DEBUG - Getting raw value of parameter: MockParabola_x as -20\n"
     ]
    },
    {
     "name": "stderr",
     "output_type": "stream",
     "text": [
      "qcodes.parameters.parameter - DEBUG - Getting raw value of parameter: MockParabola_y as -50\n"
     ]
    },
    {
     "name": "stderr",
     "output_type": "stream",
     "text": [
      "qcodes.parameters.parameter - DEBUG - Getting raw value of parameter: MockParabola_z as 0\n"
     ]
    },
    {
     "name": "stderr",
     "output_type": "stream",
     "text": [
      "qcodes.parameters.parameter - DEBUG - Getting raw value of parameter: MockParabola_y as -50\n"
     ]
    },
    {
     "name": "stderr",
     "output_type": "stream",
     "text": [
      "qcodes.parameters.parameter - DEBUG - Getting raw value of parameter: MockParabola_x as -20\n"
     ]
    },
    {
     "name": "stderr",
     "output_type": "stream",
     "text": [
      "qcodes.parameters.parameter - DEBUG - Getting raw value of parameter: MockParabola_noise as 0\n"
     ]
    },
    {
     "name": "stderr",
     "output_type": "stream",
     "text": [
      "qcodes.parameters.parameter - DEBUG - Setting raw value of parameter: MockParabola_y to -40\n"
     ]
    },
    {
     "name": "stderr",
     "output_type": "stream",
     "text": [
      "qcodes.parameters.parameter - DEBUG - Getting raw value of parameter: MockParabola_x as -20\n"
     ]
    },
    {
     "name": "stderr",
     "output_type": "stream",
     "text": [
      "qcodes.parameters.parameter - DEBUG - Getting raw value of parameter: MockParabola_y as -40\n"
     ]
    },
    {
     "name": "stderr",
     "output_type": "stream",
     "text": [
      "qcodes.parameters.parameter - DEBUG - Getting raw value of parameter: MockParabola_z as 0\n"
     ]
    },
    {
     "name": "stderr",
     "output_type": "stream",
     "text": [
      "qcodes.parameters.parameter - DEBUG - Getting raw value of parameter: MockParabola_y as -40\n"
     ]
    },
    {
     "name": "stderr",
     "output_type": "stream",
     "text": [
      "qcodes.parameters.parameter - DEBUG - Getting raw value of parameter: MockParabola_x as -20\n"
     ]
    },
    {
     "name": "stderr",
     "output_type": "stream",
     "text": [
      "qcodes.parameters.parameter - DEBUG - Getting raw value of parameter: MockParabola_noise as 0\n"
     ]
    },
    {
     "name": "stderr",
     "output_type": "stream",
     "text": [
      "qcodes.parameters.parameter - DEBUG - Setting raw value of parameter: MockParabola_y to -30\n"
     ]
    },
    {
     "name": "stderr",
     "output_type": "stream",
     "text": [
      "qcodes.parameters.parameter - DEBUG - Getting raw value of parameter: MockParabola_x as -20\n"
     ]
    },
    {
     "name": "stderr",
     "output_type": "stream",
     "text": [
      "qcodes.parameters.parameter - DEBUG - Getting raw value of parameter: MockParabola_y as -30\n"
     ]
    },
    {
     "name": "stderr",
     "output_type": "stream",
     "text": [
      "qcodes.parameters.parameter - DEBUG - Getting raw value of parameter: MockParabola_z as 0\n"
     ]
    },
    {
     "name": "stderr",
     "output_type": "stream",
     "text": [
      "qcodes.parameters.parameter - DEBUG - Getting raw value of parameter: MockParabola_y as -30\n"
     ]
    },
    {
     "name": "stderr",
     "output_type": "stream",
     "text": [
      "qcodes.parameters.parameter - DEBUG - Getting raw value of parameter: MockParabola_x as -20\n"
     ]
    },
    {
     "name": "stderr",
     "output_type": "stream",
     "text": [
      "qcodes.parameters.parameter - DEBUG - Getting raw value of parameter: MockParabola_noise as 0\n"
     ]
    },
    {
     "name": "stderr",
     "output_type": "stream",
     "text": [
      "qcodes.parameters.parameter - DEBUG - Setting raw value of parameter: MockParabola_y to -20\n"
     ]
    },
    {
     "name": "stderr",
     "output_type": "stream",
     "text": [
      "qcodes.parameters.parameter - DEBUG - Getting raw value of parameter: MockParabola_x as -20\n"
     ]
    },
    {
     "name": "stderr",
     "output_type": "stream",
     "text": [
      "qcodes.parameters.parameter - DEBUG - Getting raw value of parameter: MockParabola_y as -20\n"
     ]
    },
    {
     "name": "stderr",
     "output_type": "stream",
     "text": [
      "qcodes.parameters.parameter - DEBUG - Getting raw value of parameter: MockParabola_z as 0\n"
     ]
    },
    {
     "name": "stderr",
     "output_type": "stream",
     "text": [
      "qcodes.parameters.parameter - DEBUG - Getting raw value of parameter: MockParabola_y as -20\n"
     ]
    },
    {
     "name": "stderr",
     "output_type": "stream",
     "text": [
      "qcodes.parameters.parameter - DEBUG - Getting raw value of parameter: MockParabola_x as -20\n"
     ]
    },
    {
     "name": "stderr",
     "output_type": "stream",
     "text": [
      "qcodes.parameters.parameter - DEBUG - Getting raw value of parameter: MockParabola_noise as 0\n"
     ]
    },
    {
     "name": "stderr",
     "output_type": "stream",
     "text": [
      "qcodes.parameters.parameter - DEBUG - Setting raw value of parameter: MockParabola_y to -10\n"
     ]
    },
    {
     "name": "stderr",
     "output_type": "stream",
     "text": [
      "qcodes.parameters.parameter - DEBUG - Getting raw value of parameter: MockParabola_x as -20\n"
     ]
    },
    {
     "name": "stderr",
     "output_type": "stream",
     "text": [
      "qcodes.parameters.parameter - DEBUG - Getting raw value of parameter: MockParabola_y as -10\n"
     ]
    },
    {
     "name": "stderr",
     "output_type": "stream",
     "text": [
      "qcodes.parameters.parameter - DEBUG - Getting raw value of parameter: MockParabola_z as 0\n"
     ]
    },
    {
     "name": "stderr",
     "output_type": "stream",
     "text": [
      "qcodes.parameters.parameter - DEBUG - Getting raw value of parameter: MockParabola_y as -10\n"
     ]
    },
    {
     "name": "stderr",
     "output_type": "stream",
     "text": [
      "qcodes.parameters.parameter - DEBUG - Getting raw value of parameter: MockParabola_x as -20\n"
     ]
    },
    {
     "name": "stderr",
     "output_type": "stream",
     "text": [
      "qcodes.parameters.parameter - DEBUG - Getting raw value of parameter: MockParabola_noise as 0\n"
     ]
    },
    {
     "name": "stderr",
     "output_type": "stream",
     "text": [
      "qcodes.parameters.parameter - DEBUG - Setting raw value of parameter: MockParabola_y to 0\n"
     ]
    },
    {
     "name": "stderr",
     "output_type": "stream",
     "text": [
      "qcodes.parameters.parameter - DEBUG - Getting raw value of parameter: MockParabola_x as -20\n"
     ]
    },
    {
     "name": "stderr",
     "output_type": "stream",
     "text": [
      "qcodes.parameters.parameter - DEBUG - Getting raw value of parameter: MockParabola_y as 0\n"
     ]
    },
    {
     "name": "stderr",
     "output_type": "stream",
     "text": [
      "qcodes.parameters.parameter - DEBUG - Getting raw value of parameter: MockParabola_z as 0\n"
     ]
    },
    {
     "name": "stderr",
     "output_type": "stream",
     "text": [
      "qcodes.parameters.parameter - DEBUG - Getting raw value of parameter: MockParabola_y as 0\n"
     ]
    },
    {
     "name": "stderr",
     "output_type": "stream",
     "text": [
      "qcodes.parameters.parameter - DEBUG - Getting raw value of parameter: MockParabola_x as -20\n"
     ]
    },
    {
     "name": "stderr",
     "output_type": "stream",
     "text": [
      "qcodes.parameters.parameter - DEBUG - Getting raw value of parameter: MockParabola_noise as 0\n"
     ]
    },
    {
     "name": "stderr",
     "output_type": "stream",
     "text": [
      "qcodes.parameters.parameter - DEBUG - Setting raw value of parameter: MockParabola_y to 10\n"
     ]
    },
    {
     "name": "stderr",
     "output_type": "stream",
     "text": [
      "qcodes.parameters.parameter - DEBUG - Getting raw value of parameter: MockParabola_x as -20\n"
     ]
    },
    {
     "name": "stderr",
     "output_type": "stream",
     "text": [
      "qcodes.parameters.parameter - DEBUG - Getting raw value of parameter: MockParabola_y as 10\n"
     ]
    },
    {
     "name": "stderr",
     "output_type": "stream",
     "text": [
      "qcodes.parameters.parameter - DEBUG - Getting raw value of parameter: MockParabola_z as 0\n"
     ]
    },
    {
     "name": "stderr",
     "output_type": "stream",
     "text": [
      "qcodes.parameters.parameter - DEBUG - Getting raw value of parameter: MockParabola_y as 10\n"
     ]
    },
    {
     "name": "stderr",
     "output_type": "stream",
     "text": [
      "qcodes.parameters.parameter - DEBUG - Getting raw value of parameter: MockParabola_x as -20\n"
     ]
    },
    {
     "name": "stderr",
     "output_type": "stream",
     "text": [
      "qcodes.parameters.parameter - DEBUG - Getting raw value of parameter: MockParabola_noise as 0\n"
     ]
    },
    {
     "name": "stderr",
     "output_type": "stream",
     "text": [
      "qcodes.parameters.parameter - DEBUG - Setting raw value of parameter: MockParabola_y to 20\n"
     ]
    },
    {
     "name": "stderr",
     "output_type": "stream",
     "text": [
      "qcodes.parameters.parameter - DEBUG - Getting raw value of parameter: MockParabola_x as -20\n"
     ]
    },
    {
     "name": "stderr",
     "output_type": "stream",
     "text": [
      "qcodes.parameters.parameter - DEBUG - Getting raw value of parameter: MockParabola_y as 20\n"
     ]
    },
    {
     "name": "stderr",
     "output_type": "stream",
     "text": [
      "qcodes.parameters.parameter - DEBUG - Getting raw value of parameter: MockParabola_z as 0\n"
     ]
    },
    {
     "name": "stderr",
     "output_type": "stream",
     "text": [
      "qcodes.parameters.parameter - DEBUG - Getting raw value of parameter: MockParabola_y as 20\n"
     ]
    },
    {
     "name": "stderr",
     "output_type": "stream",
     "text": [
      "qcodes.parameters.parameter - DEBUG - Getting raw value of parameter: MockParabola_x as -20\n"
     ]
    },
    {
     "name": "stderr",
     "output_type": "stream",
     "text": [
      "qcodes.parameters.parameter - DEBUG - Getting raw value of parameter: MockParabola_noise as 0\n"
     ]
    },
    {
     "name": "stderr",
     "output_type": "stream",
     "text": [
      "qcodes.parameters.parameter - DEBUG - Setting raw value of parameter: MockParabola_y to 30\n"
     ]
    },
    {
     "name": "stderr",
     "output_type": "stream",
     "text": [
      "qcodes.parameters.parameter - DEBUG - Getting raw value of parameter: MockParabola_x as -20\n"
     ]
    },
    {
     "name": "stderr",
     "output_type": "stream",
     "text": [
      "qcodes.parameters.parameter - DEBUG - Getting raw value of parameter: MockParabola_y as 30\n"
     ]
    },
    {
     "name": "stderr",
     "output_type": "stream",
     "text": [
      "qcodes.parameters.parameter - DEBUG - Getting raw value of parameter: MockParabola_z as 0\n"
     ]
    },
    {
     "name": "stderr",
     "output_type": "stream",
     "text": [
      "qcodes.parameters.parameter - DEBUG - Getting raw value of parameter: MockParabola_y as 30\n"
     ]
    },
    {
     "name": "stderr",
     "output_type": "stream",
     "text": [
      "qcodes.parameters.parameter - DEBUG - Getting raw value of parameter: MockParabola_x as -20\n"
     ]
    },
    {
     "name": "stderr",
     "output_type": "stream",
     "text": [
      "qcodes.parameters.parameter - DEBUG - Getting raw value of parameter: MockParabola_noise as 0\n"
     ]
    },
    {
     "name": "stderr",
     "output_type": "stream",
     "text": [
      "qcodes.parameters.parameter - DEBUG - Setting raw value of parameter: MockParabola_y to 40\n"
     ]
    },
    {
     "name": "stderr",
     "output_type": "stream",
     "text": [
      "qcodes.parameters.parameter - DEBUG - Getting raw value of parameter: MockParabola_x as -20\n"
     ]
    },
    {
     "name": "stderr",
     "output_type": "stream",
     "text": [
      "qcodes.parameters.parameter - DEBUG - Getting raw value of parameter: MockParabola_y as 40\n"
     ]
    },
    {
     "name": "stderr",
     "output_type": "stream",
     "text": [
      "qcodes.parameters.parameter - DEBUG - Getting raw value of parameter: MockParabola_z as 0\n"
     ]
    },
    {
     "name": "stderr",
     "output_type": "stream",
     "text": [
      "qcodes.parameters.parameter - DEBUG - Getting raw value of parameter: MockParabola_y as 40\n"
     ]
    },
    {
     "name": "stderr",
     "output_type": "stream",
     "text": [
      "qcodes.parameters.parameter - DEBUG - Getting raw value of parameter: MockParabola_x as -20\n"
     ]
    },
    {
     "name": "stderr",
     "output_type": "stream",
     "text": [
      "qcodes.parameters.parameter - DEBUG - Getting raw value of parameter: MockParabola_noise as 0\n"
     ]
    },
    {
     "name": "stderr",
     "output_type": "stream",
     "text": [
      "qcodes.parameters.parameter - DEBUG - Setting raw value of parameter: MockParabola_x to 0\n"
     ]
    },
    {
     "name": "stderr",
     "output_type": "stream",
     "text": [
      "qcodes.parameters.parameter - DEBUG - Setting raw value of parameter: MockParabola_y to -100\n"
     ]
    },
    {
     "name": "stderr",
     "output_type": "stream",
     "text": [
      "qcodes.parameters.parameter - DEBUG - Getting raw value of parameter: MockParabola_x as 0\n"
     ]
    },
    {
     "name": "stderr",
     "output_type": "stream",
     "text": [
      "qcodes.parameters.parameter - DEBUG - Getting raw value of parameter: MockParabola_y as -100\n"
     ]
    },
    {
     "name": "stderr",
     "output_type": "stream",
     "text": [
      "qcodes.parameters.parameter - DEBUG - Getting raw value of parameter: MockParabola_z as 0\n"
     ]
    },
    {
     "name": "stderr",
     "output_type": "stream",
     "text": [
      "qcodes.parameters.parameter - DEBUG - Getting raw value of parameter: MockParabola_y as -100\n"
     ]
    },
    {
     "name": "stderr",
     "output_type": "stream",
     "text": [
      "qcodes.parameters.parameter - DEBUG - Getting raw value of parameter: MockParabola_x as 0\n"
     ]
    },
    {
     "name": "stderr",
     "output_type": "stream",
     "text": [
      "qcodes.parameters.parameter - DEBUG - Getting raw value of parameter: MockParabola_noise as 0\n"
     ]
    },
    {
     "name": "stderr",
     "output_type": "stream",
     "text": [
      "qcodes.parameters.parameter - DEBUG - Setting raw value of parameter: MockParabola_y to -90\n"
     ]
    },
    {
     "name": "stderr",
     "output_type": "stream",
     "text": [
      "qcodes.parameters.parameter - DEBUG - Getting raw value of parameter: MockParabola_x as 0\n"
     ]
    },
    {
     "name": "stderr",
     "output_type": "stream",
     "text": [
      "qcodes.parameters.parameter - DEBUG - Getting raw value of parameter: MockParabola_y as -90\n"
     ]
    },
    {
     "name": "stderr",
     "output_type": "stream",
     "text": [
      "qcodes.parameters.parameter - DEBUG - Getting raw value of parameter: MockParabola_z as 0\n"
     ]
    },
    {
     "name": "stderr",
     "output_type": "stream",
     "text": [
      "qcodes.parameters.parameter - DEBUG - Getting raw value of parameter: MockParabola_y as -90\n"
     ]
    },
    {
     "name": "stderr",
     "output_type": "stream",
     "text": [
      "qcodes.parameters.parameter - DEBUG - Getting raw value of parameter: MockParabola_x as 0\n"
     ]
    },
    {
     "name": "stderr",
     "output_type": "stream",
     "text": [
      "qcodes.parameters.parameter - DEBUG - Getting raw value of parameter: MockParabola_noise as 0\n"
     ]
    },
    {
     "name": "stderr",
     "output_type": "stream",
     "text": [
      "qcodes.parameters.parameter - DEBUG - Setting raw value of parameter: MockParabola_y to -80\n"
     ]
    },
    {
     "name": "stderr",
     "output_type": "stream",
     "text": [
      "qcodes.parameters.parameter - DEBUG - Getting raw value of parameter: MockParabola_x as 0\n"
     ]
    },
    {
     "name": "stderr",
     "output_type": "stream",
     "text": [
      "qcodes.parameters.parameter - DEBUG - Getting raw value of parameter: MockParabola_y as -80\n"
     ]
    },
    {
     "name": "stderr",
     "output_type": "stream",
     "text": [
      "qcodes.parameters.parameter - DEBUG - Getting raw value of parameter: MockParabola_z as 0\n"
     ]
    },
    {
     "name": "stderr",
     "output_type": "stream",
     "text": [
      "qcodes.parameters.parameter - DEBUG - Getting raw value of parameter: MockParabola_y as -80\n"
     ]
    },
    {
     "name": "stderr",
     "output_type": "stream",
     "text": [
      "qcodes.parameters.parameter - DEBUG - Getting raw value of parameter: MockParabola_x as 0\n"
     ]
    },
    {
     "name": "stderr",
     "output_type": "stream",
     "text": [
      "qcodes.parameters.parameter - DEBUG - Getting raw value of parameter: MockParabola_noise as 0\n"
     ]
    },
    {
     "name": "stderr",
     "output_type": "stream",
     "text": [
      "qcodes.parameters.parameter - DEBUG - Setting raw value of parameter: MockParabola_y to -70\n"
     ]
    },
    {
     "name": "stderr",
     "output_type": "stream",
     "text": [
      "qcodes.parameters.parameter - DEBUG - Getting raw value of parameter: MockParabola_x as 0\n"
     ]
    },
    {
     "name": "stderr",
     "output_type": "stream",
     "text": [
      "qcodes.parameters.parameter - DEBUG - Getting raw value of parameter: MockParabola_y as -70\n"
     ]
    },
    {
     "name": "stderr",
     "output_type": "stream",
     "text": [
      "qcodes.parameters.parameter - DEBUG - Getting raw value of parameter: MockParabola_z as 0\n"
     ]
    },
    {
     "name": "stderr",
     "output_type": "stream",
     "text": [
      "qcodes.parameters.parameter - DEBUG - Getting raw value of parameter: MockParabola_y as -70\n"
     ]
    },
    {
     "name": "stderr",
     "output_type": "stream",
     "text": [
      "qcodes.parameters.parameter - DEBUG - Getting raw value of parameter: MockParabola_x as 0\n"
     ]
    },
    {
     "name": "stderr",
     "output_type": "stream",
     "text": [
      "qcodes.parameters.parameter - DEBUG - Getting raw value of parameter: MockParabola_noise as 0\n"
     ]
    },
    {
     "name": "stderr",
     "output_type": "stream",
     "text": [
      "qcodes.parameters.parameter - DEBUG - Setting raw value of parameter: MockParabola_y to -60\n"
     ]
    },
    {
     "name": "stderr",
     "output_type": "stream",
     "text": [
      "qcodes.parameters.parameter - DEBUG - Getting raw value of parameter: MockParabola_x as 0\n"
     ]
    },
    {
     "name": "stderr",
     "output_type": "stream",
     "text": [
      "qcodes.parameters.parameter - DEBUG - Getting raw value of parameter: MockParabola_y as -60\n"
     ]
    },
    {
     "name": "stderr",
     "output_type": "stream",
     "text": [
      "qcodes.parameters.parameter - DEBUG - Getting raw value of parameter: MockParabola_z as 0\n"
     ]
    },
    {
     "name": "stderr",
     "output_type": "stream",
     "text": [
      "qcodes.parameters.parameter - DEBUG - Getting raw value of parameter: MockParabola_y as -60\n"
     ]
    },
    {
     "name": "stderr",
     "output_type": "stream",
     "text": [
      "qcodes.parameters.parameter - DEBUG - Getting raw value of parameter: MockParabola_x as 0\n"
     ]
    },
    {
     "name": "stderr",
     "output_type": "stream",
     "text": [
      "qcodes.parameters.parameter - DEBUG - Getting raw value of parameter: MockParabola_noise as 0\n"
     ]
    },
    {
     "name": "stderr",
     "output_type": "stream",
     "text": [
      "qcodes.parameters.parameter - DEBUG - Setting raw value of parameter: MockParabola_y to -50\n"
     ]
    },
    {
     "name": "stderr",
     "output_type": "stream",
     "text": [
      "qcodes.parameters.parameter - DEBUG - Getting raw value of parameter: MockParabola_x as 0\n"
     ]
    },
    {
     "name": "stderr",
     "output_type": "stream",
     "text": [
      "qcodes.parameters.parameter - DEBUG - Getting raw value of parameter: MockParabola_y as -50\n"
     ]
    },
    {
     "name": "stderr",
     "output_type": "stream",
     "text": [
      "qcodes.parameters.parameter - DEBUG - Getting raw value of parameter: MockParabola_z as 0\n"
     ]
    },
    {
     "name": "stderr",
     "output_type": "stream",
     "text": [
      "qcodes.parameters.parameter - DEBUG - Getting raw value of parameter: MockParabola_y as -50\n"
     ]
    },
    {
     "name": "stderr",
     "output_type": "stream",
     "text": [
      "qcodes.parameters.parameter - DEBUG - Getting raw value of parameter: MockParabola_x as 0\n"
     ]
    },
    {
     "name": "stderr",
     "output_type": "stream",
     "text": [
      "qcodes.parameters.parameter - DEBUG - Getting raw value of parameter: MockParabola_noise as 0\n"
     ]
    },
    {
     "name": "stderr",
     "output_type": "stream",
     "text": [
      "qcodes.parameters.parameter - DEBUG - Setting raw value of parameter: MockParabola_y to -40\n"
     ]
    },
    {
     "name": "stderr",
     "output_type": "stream",
     "text": [
      "qcodes.parameters.parameter - DEBUG - Getting raw value of parameter: MockParabola_x as 0\n"
     ]
    },
    {
     "name": "stderr",
     "output_type": "stream",
     "text": [
      "qcodes.parameters.parameter - DEBUG - Getting raw value of parameter: MockParabola_y as -40\n"
     ]
    },
    {
     "name": "stderr",
     "output_type": "stream",
     "text": [
      "qcodes.parameters.parameter - DEBUG - Getting raw value of parameter: MockParabola_z as 0\n"
     ]
    },
    {
     "name": "stderr",
     "output_type": "stream",
     "text": [
      "qcodes.parameters.parameter - DEBUG - Getting raw value of parameter: MockParabola_y as -40\n"
     ]
    },
    {
     "name": "stderr",
     "output_type": "stream",
     "text": [
      "qcodes.parameters.parameter - DEBUG - Getting raw value of parameter: MockParabola_x as 0\n"
     ]
    },
    {
     "name": "stderr",
     "output_type": "stream",
     "text": [
      "qcodes.parameters.parameter - DEBUG - Getting raw value of parameter: MockParabola_noise as 0\n"
     ]
    },
    {
     "name": "stderr",
     "output_type": "stream",
     "text": [
      "qcodes.parameters.parameter - DEBUG - Setting raw value of parameter: MockParabola_y to -30\n"
     ]
    },
    {
     "name": "stderr",
     "output_type": "stream",
     "text": [
      "qcodes.parameters.parameter - DEBUG - Getting raw value of parameter: MockParabola_x as 0\n"
     ]
    },
    {
     "name": "stderr",
     "output_type": "stream",
     "text": [
      "qcodes.parameters.parameter - DEBUG - Getting raw value of parameter: MockParabola_y as -30\n"
     ]
    },
    {
     "name": "stderr",
     "output_type": "stream",
     "text": [
      "qcodes.parameters.parameter - DEBUG - Getting raw value of parameter: MockParabola_z as 0\n"
     ]
    },
    {
     "name": "stderr",
     "output_type": "stream",
     "text": [
      "qcodes.parameters.parameter - DEBUG - Getting raw value of parameter: MockParabola_y as -30\n"
     ]
    },
    {
     "name": "stderr",
     "output_type": "stream",
     "text": [
      "qcodes.parameters.parameter - DEBUG - Getting raw value of parameter: MockParabola_x as 0\n"
     ]
    },
    {
     "name": "stderr",
     "output_type": "stream",
     "text": [
      "qcodes.parameters.parameter - DEBUG - Getting raw value of parameter: MockParabola_noise as 0\n"
     ]
    },
    {
     "name": "stderr",
     "output_type": "stream",
     "text": [
      "qcodes.parameters.parameter - DEBUG - Setting raw value of parameter: MockParabola_y to -20\n"
     ]
    },
    {
     "name": "stderr",
     "output_type": "stream",
     "text": [
      "qcodes.parameters.parameter - DEBUG - Getting raw value of parameter: MockParabola_x as 0\n"
     ]
    },
    {
     "name": "stderr",
     "output_type": "stream",
     "text": [
      "qcodes.parameters.parameter - DEBUG - Getting raw value of parameter: MockParabola_y as -20\n"
     ]
    },
    {
     "name": "stderr",
     "output_type": "stream",
     "text": [
      "qcodes.parameters.parameter - DEBUG - Getting raw value of parameter: MockParabola_z as 0\n"
     ]
    },
    {
     "name": "stderr",
     "output_type": "stream",
     "text": [
      "qcodes.parameters.parameter - DEBUG - Getting raw value of parameter: MockParabola_y as -20\n"
     ]
    },
    {
     "name": "stderr",
     "output_type": "stream",
     "text": [
      "qcodes.parameters.parameter - DEBUG - Getting raw value of parameter: MockParabola_x as 0\n"
     ]
    },
    {
     "name": "stderr",
     "output_type": "stream",
     "text": [
      "qcodes.parameters.parameter - DEBUG - Getting raw value of parameter: MockParabola_noise as 0\n"
     ]
    },
    {
     "name": "stderr",
     "output_type": "stream",
     "text": [
      "qcodes.parameters.parameter - DEBUG - Setting raw value of parameter: MockParabola_y to -10\n"
     ]
    },
    {
     "name": "stderr",
     "output_type": "stream",
     "text": [
      "qcodes.parameters.parameter - DEBUG - Getting raw value of parameter: MockParabola_x as 0\n"
     ]
    },
    {
     "name": "stderr",
     "output_type": "stream",
     "text": [
      "qcodes.parameters.parameter - DEBUG - Getting raw value of parameter: MockParabola_y as -10\n"
     ]
    },
    {
     "name": "stderr",
     "output_type": "stream",
     "text": [
      "qcodes.parameters.parameter - DEBUG - Getting raw value of parameter: MockParabola_z as 0\n"
     ]
    },
    {
     "name": "stderr",
     "output_type": "stream",
     "text": [
      "qcodes.parameters.parameter - DEBUG - Getting raw value of parameter: MockParabola_y as -10\n"
     ]
    },
    {
     "name": "stderr",
     "output_type": "stream",
     "text": [
      "qcodes.parameters.parameter - DEBUG - Getting raw value of parameter: MockParabola_x as 0\n"
     ]
    },
    {
     "name": "stderr",
     "output_type": "stream",
     "text": [
      "qcodes.parameters.parameter - DEBUG - Getting raw value of parameter: MockParabola_noise as 0\n"
     ]
    },
    {
     "name": "stderr",
     "output_type": "stream",
     "text": [
      "qcodes.parameters.parameter - DEBUG - Setting raw value of parameter: MockParabola_y to 0\n"
     ]
    },
    {
     "name": "stderr",
     "output_type": "stream",
     "text": [
      "qcodes.parameters.parameter - DEBUG - Getting raw value of parameter: MockParabola_x as 0\n"
     ]
    },
    {
     "name": "stderr",
     "output_type": "stream",
     "text": [
      "qcodes.parameters.parameter - DEBUG - Getting raw value of parameter: MockParabola_y as 0\n"
     ]
    },
    {
     "name": "stderr",
     "output_type": "stream",
     "text": [
      "qcodes.parameters.parameter - DEBUG - Getting raw value of parameter: MockParabola_z as 0\n"
     ]
    },
    {
     "name": "stderr",
     "output_type": "stream",
     "text": [
      "qcodes.parameters.parameter - DEBUG - Getting raw value of parameter: MockParabola_y as 0\n"
     ]
    },
    {
     "name": "stderr",
     "output_type": "stream",
     "text": [
      "qcodes.parameters.parameter - DEBUG - Getting raw value of parameter: MockParabola_x as 0\n"
     ]
    },
    {
     "name": "stderr",
     "output_type": "stream",
     "text": [
      "qcodes.parameters.parameter - DEBUG - Getting raw value of parameter: MockParabola_noise as 0\n"
     ]
    },
    {
     "name": "stderr",
     "output_type": "stream",
     "text": [
      "qcodes.parameters.parameter - DEBUG - Setting raw value of parameter: MockParabola_y to 10\n"
     ]
    },
    {
     "name": "stderr",
     "output_type": "stream",
     "text": [
      "qcodes.parameters.parameter - DEBUG - Getting raw value of parameter: MockParabola_x as 0\n"
     ]
    },
    {
     "name": "stderr",
     "output_type": "stream",
     "text": [
      "qcodes.parameters.parameter - DEBUG - Getting raw value of parameter: MockParabola_y as 10\n"
     ]
    },
    {
     "name": "stderr",
     "output_type": "stream",
     "text": [
      "qcodes.parameters.parameter - DEBUG - Getting raw value of parameter: MockParabola_z as 0\n"
     ]
    },
    {
     "name": "stderr",
     "output_type": "stream",
     "text": [
      "qcodes.parameters.parameter - DEBUG - Getting raw value of parameter: MockParabola_y as 10\n"
     ]
    },
    {
     "name": "stderr",
     "output_type": "stream",
     "text": [
      "qcodes.parameters.parameter - DEBUG - Getting raw value of parameter: MockParabola_x as 0\n"
     ]
    },
    {
     "name": "stderr",
     "output_type": "stream",
     "text": [
      "qcodes.parameters.parameter - DEBUG - Getting raw value of parameter: MockParabola_noise as 0\n"
     ]
    },
    {
     "name": "stderr",
     "output_type": "stream",
     "text": [
      "qcodes.parameters.parameter - DEBUG - Setting raw value of parameter: MockParabola_y to 20\n"
     ]
    },
    {
     "name": "stderr",
     "output_type": "stream",
     "text": [
      "qcodes.parameters.parameter - DEBUG - Getting raw value of parameter: MockParabola_x as 0\n"
     ]
    },
    {
     "name": "stderr",
     "output_type": "stream",
     "text": [
      "qcodes.parameters.parameter - DEBUG - Getting raw value of parameter: MockParabola_y as 20\n"
     ]
    },
    {
     "name": "stderr",
     "output_type": "stream",
     "text": [
      "qcodes.parameters.parameter - DEBUG - Getting raw value of parameter: MockParabola_z as 0\n"
     ]
    },
    {
     "name": "stderr",
     "output_type": "stream",
     "text": [
      "qcodes.parameters.parameter - DEBUG - Getting raw value of parameter: MockParabola_y as 20\n"
     ]
    },
    {
     "name": "stderr",
     "output_type": "stream",
     "text": [
      "qcodes.parameters.parameter - DEBUG - Getting raw value of parameter: MockParabola_x as 0\n"
     ]
    },
    {
     "name": "stderr",
     "output_type": "stream",
     "text": [
      "qcodes.parameters.parameter - DEBUG - Getting raw value of parameter: MockParabola_noise as 0\n"
     ]
    },
    {
     "name": "stderr",
     "output_type": "stream",
     "text": [
      "qcodes.parameters.parameter - DEBUG - Setting raw value of parameter: MockParabola_y to 30\n"
     ]
    },
    {
     "name": "stderr",
     "output_type": "stream",
     "text": [
      "qcodes.parameters.parameter - DEBUG - Getting raw value of parameter: MockParabola_x as 0\n"
     ]
    },
    {
     "name": "stderr",
     "output_type": "stream",
     "text": [
      "qcodes.parameters.parameter - DEBUG - Getting raw value of parameter: MockParabola_y as 30\n"
     ]
    },
    {
     "name": "stderr",
     "output_type": "stream",
     "text": [
      "qcodes.parameters.parameter - DEBUG - Getting raw value of parameter: MockParabola_z as 0\n"
     ]
    },
    {
     "name": "stderr",
     "output_type": "stream",
     "text": [
      "qcodes.parameters.parameter - DEBUG - Getting raw value of parameter: MockParabola_y as 30\n"
     ]
    },
    {
     "name": "stderr",
     "output_type": "stream",
     "text": [
      "qcodes.parameters.parameter - DEBUG - Getting raw value of parameter: MockParabola_x as 0\n"
     ]
    },
    {
     "name": "stderr",
     "output_type": "stream",
     "text": [
      "qcodes.parameters.parameter - DEBUG - Getting raw value of parameter: MockParabola_noise as 0\n"
     ]
    },
    {
     "name": "stderr",
     "output_type": "stream",
     "text": [
      "qcodes.parameters.parameter - DEBUG - Setting raw value of parameter: MockParabola_y to 40\n"
     ]
    },
    {
     "name": "stderr",
     "output_type": "stream",
     "text": [
      "qcodes.parameters.parameter - DEBUG - Getting raw value of parameter: MockParabola_x as 0\n"
     ]
    },
    {
     "name": "stderr",
     "output_type": "stream",
     "text": [
      "qcodes.parameters.parameter - DEBUG - Getting raw value of parameter: MockParabola_y as 40\n"
     ]
    },
    {
     "name": "stderr",
     "output_type": "stream",
     "text": [
      "qcodes.parameters.parameter - DEBUG - Getting raw value of parameter: MockParabola_z as 0\n"
     ]
    },
    {
     "name": "stderr",
     "output_type": "stream",
     "text": [
      "qcodes.parameters.parameter - DEBUG - Getting raw value of parameter: MockParabola_y as 40\n"
     ]
    },
    {
     "name": "stderr",
     "output_type": "stream",
     "text": [
      "qcodes.parameters.parameter - DEBUG - Getting raw value of parameter: MockParabola_x as 0\n"
     ]
    },
    {
     "name": "stderr",
     "output_type": "stream",
     "text": [
      "qcodes.parameters.parameter - DEBUG - Getting raw value of parameter: MockParabola_noise as 0\n"
     ]
    },
    {
     "name": "stderr",
     "output_type": "stream",
     "text": [
      "qcodes.parameters.parameter - DEBUG - Setting raw value of parameter: MockParabola_x to 20\n"
     ]
    },
    {
     "name": "stderr",
     "output_type": "stream",
     "text": [
      "qcodes.parameters.parameter - DEBUG - Setting raw value of parameter: MockParabola_y to -100\n"
     ]
    },
    {
     "name": "stderr",
     "output_type": "stream",
     "text": [
      "qcodes.parameters.parameter - DEBUG - Getting raw value of parameter: MockParabola_x as 20\n"
     ]
    },
    {
     "name": "stderr",
     "output_type": "stream",
     "text": [
      "qcodes.parameters.parameter - DEBUG - Getting raw value of parameter: MockParabola_y as -100\n"
     ]
    },
    {
     "name": "stderr",
     "output_type": "stream",
     "text": [
      "qcodes.parameters.parameter - DEBUG - Getting raw value of parameter: MockParabola_z as 0\n"
     ]
    },
    {
     "name": "stderr",
     "output_type": "stream",
     "text": [
      "qcodes.parameters.parameter - DEBUG - Getting raw value of parameter: MockParabola_y as -100\n"
     ]
    },
    {
     "name": "stderr",
     "output_type": "stream",
     "text": [
      "qcodes.parameters.parameter - DEBUG - Getting raw value of parameter: MockParabola_x as 20\n"
     ]
    },
    {
     "name": "stderr",
     "output_type": "stream",
     "text": [
      "qcodes.parameters.parameter - DEBUG - Getting raw value of parameter: MockParabola_noise as 0\n"
     ]
    },
    {
     "name": "stderr",
     "output_type": "stream",
     "text": [
      "qcodes.parameters.parameter - DEBUG - Setting raw value of parameter: MockParabola_y to -90\n"
     ]
    },
    {
     "name": "stderr",
     "output_type": "stream",
     "text": [
      "qcodes.parameters.parameter - DEBUG - Getting raw value of parameter: MockParabola_x as 20\n"
     ]
    },
    {
     "name": "stderr",
     "output_type": "stream",
     "text": [
      "qcodes.parameters.parameter - DEBUG - Getting raw value of parameter: MockParabola_y as -90\n"
     ]
    },
    {
     "name": "stderr",
     "output_type": "stream",
     "text": [
      "qcodes.parameters.parameter - DEBUG - Getting raw value of parameter: MockParabola_z as 0\n"
     ]
    },
    {
     "name": "stderr",
     "output_type": "stream",
     "text": [
      "qcodes.parameters.parameter - DEBUG - Getting raw value of parameter: MockParabola_y as -90\n"
     ]
    },
    {
     "name": "stderr",
     "output_type": "stream",
     "text": [
      "qcodes.parameters.parameter - DEBUG - Getting raw value of parameter: MockParabola_x as 20\n"
     ]
    },
    {
     "name": "stderr",
     "output_type": "stream",
     "text": [
      "qcodes.parameters.parameter - DEBUG - Getting raw value of parameter: MockParabola_noise as 0\n"
     ]
    },
    {
     "name": "stderr",
     "output_type": "stream",
     "text": [
      "qcodes.parameters.parameter - DEBUG - Setting raw value of parameter: MockParabola_y to -80\n"
     ]
    },
    {
     "name": "stderr",
     "output_type": "stream",
     "text": [
      "qcodes.parameters.parameter - DEBUG - Getting raw value of parameter: MockParabola_x as 20\n"
     ]
    },
    {
     "name": "stderr",
     "output_type": "stream",
     "text": [
      "qcodes.parameters.parameter - DEBUG - Getting raw value of parameter: MockParabola_y as -80\n"
     ]
    },
    {
     "name": "stderr",
     "output_type": "stream",
     "text": [
      "qcodes.parameters.parameter - DEBUG - Getting raw value of parameter: MockParabola_z as 0\n"
     ]
    },
    {
     "name": "stderr",
     "output_type": "stream",
     "text": [
      "qcodes.parameters.parameter - DEBUG - Getting raw value of parameter: MockParabola_y as -80\n"
     ]
    },
    {
     "name": "stderr",
     "output_type": "stream",
     "text": [
      "qcodes.parameters.parameter - DEBUG - Getting raw value of parameter: MockParabola_x as 20\n"
     ]
    },
    {
     "name": "stderr",
     "output_type": "stream",
     "text": [
      "qcodes.parameters.parameter - DEBUG - Getting raw value of parameter: MockParabola_noise as 0\n"
     ]
    },
    {
     "name": "stderr",
     "output_type": "stream",
     "text": [
      "qcodes.parameters.parameter - DEBUG - Setting raw value of parameter: MockParabola_y to -70\n"
     ]
    },
    {
     "name": "stderr",
     "output_type": "stream",
     "text": [
      "qcodes.parameters.parameter - DEBUG - Getting raw value of parameter: MockParabola_x as 20\n"
     ]
    },
    {
     "name": "stderr",
     "output_type": "stream",
     "text": [
      "qcodes.parameters.parameter - DEBUG - Getting raw value of parameter: MockParabola_y as -70\n"
     ]
    },
    {
     "name": "stderr",
     "output_type": "stream",
     "text": [
      "qcodes.parameters.parameter - DEBUG - Getting raw value of parameter: MockParabola_z as 0\n"
     ]
    },
    {
     "name": "stderr",
     "output_type": "stream",
     "text": [
      "qcodes.parameters.parameter - DEBUG - Getting raw value of parameter: MockParabola_y as -70\n"
     ]
    },
    {
     "name": "stderr",
     "output_type": "stream",
     "text": [
      "qcodes.parameters.parameter - DEBUG - Getting raw value of parameter: MockParabola_x as 20\n"
     ]
    },
    {
     "name": "stderr",
     "output_type": "stream",
     "text": [
      "qcodes.parameters.parameter - DEBUG - Getting raw value of parameter: MockParabola_noise as 0\n"
     ]
    },
    {
     "name": "stderr",
     "output_type": "stream",
     "text": [
      "qcodes.parameters.parameter - DEBUG - Setting raw value of parameter: MockParabola_y to -60\n"
     ]
    },
    {
     "name": "stderr",
     "output_type": "stream",
     "text": [
      "qcodes.parameters.parameter - DEBUG - Getting raw value of parameter: MockParabola_x as 20\n"
     ]
    },
    {
     "name": "stderr",
     "output_type": "stream",
     "text": [
      "qcodes.parameters.parameter - DEBUG - Getting raw value of parameter: MockParabola_y as -60\n"
     ]
    },
    {
     "name": "stderr",
     "output_type": "stream",
     "text": [
      "qcodes.parameters.parameter - DEBUG - Getting raw value of parameter: MockParabola_z as 0\n"
     ]
    },
    {
     "name": "stderr",
     "output_type": "stream",
     "text": [
      "qcodes.parameters.parameter - DEBUG - Getting raw value of parameter: MockParabola_y as -60\n"
     ]
    },
    {
     "name": "stderr",
     "output_type": "stream",
     "text": [
      "qcodes.parameters.parameter - DEBUG - Getting raw value of parameter: MockParabola_x as 20\n"
     ]
    },
    {
     "name": "stderr",
     "output_type": "stream",
     "text": [
      "qcodes.parameters.parameter - DEBUG - Getting raw value of parameter: MockParabola_noise as 0\n"
     ]
    },
    {
     "name": "stderr",
     "output_type": "stream",
     "text": [
      "qcodes.parameters.parameter - DEBUG - Setting raw value of parameter: MockParabola_y to -50\n"
     ]
    },
    {
     "name": "stderr",
     "output_type": "stream",
     "text": [
      "qcodes.parameters.parameter - DEBUG - Getting raw value of parameter: MockParabola_x as 20\n"
     ]
    },
    {
     "name": "stderr",
     "output_type": "stream",
     "text": [
      "qcodes.parameters.parameter - DEBUG - Getting raw value of parameter: MockParabola_y as -50\n"
     ]
    },
    {
     "name": "stderr",
     "output_type": "stream",
     "text": [
      "qcodes.parameters.parameter - DEBUG - Getting raw value of parameter: MockParabola_z as 0\n"
     ]
    },
    {
     "name": "stderr",
     "output_type": "stream",
     "text": [
      "qcodes.parameters.parameter - DEBUG - Getting raw value of parameter: MockParabola_y as -50\n"
     ]
    },
    {
     "name": "stderr",
     "output_type": "stream",
     "text": [
      "qcodes.parameters.parameter - DEBUG - Getting raw value of parameter: MockParabola_x as 20\n"
     ]
    },
    {
     "name": "stderr",
     "output_type": "stream",
     "text": [
      "qcodes.parameters.parameter - DEBUG - Getting raw value of parameter: MockParabola_noise as 0\n"
     ]
    },
    {
     "name": "stderr",
     "output_type": "stream",
     "text": [
      "qcodes.parameters.parameter - DEBUG - Setting raw value of parameter: MockParabola_y to -40\n"
     ]
    },
    {
     "name": "stderr",
     "output_type": "stream",
     "text": [
      "qcodes.parameters.parameter - DEBUG - Getting raw value of parameter: MockParabola_x as 20\n"
     ]
    },
    {
     "name": "stderr",
     "output_type": "stream",
     "text": [
      "qcodes.parameters.parameter - DEBUG - Getting raw value of parameter: MockParabola_y as -40\n"
     ]
    },
    {
     "name": "stderr",
     "output_type": "stream",
     "text": [
      "qcodes.parameters.parameter - DEBUG - Getting raw value of parameter: MockParabola_z as 0\n"
     ]
    },
    {
     "name": "stderr",
     "output_type": "stream",
     "text": [
      "qcodes.parameters.parameter - DEBUG - Getting raw value of parameter: MockParabola_y as -40\n"
     ]
    },
    {
     "name": "stderr",
     "output_type": "stream",
     "text": [
      "qcodes.parameters.parameter - DEBUG - Getting raw value of parameter: MockParabola_x as 20\n"
     ]
    },
    {
     "name": "stderr",
     "output_type": "stream",
     "text": [
      "qcodes.parameters.parameter - DEBUG - Getting raw value of parameter: MockParabola_noise as 0\n"
     ]
    },
    {
     "name": "stderr",
     "output_type": "stream",
     "text": [
      "qcodes.parameters.parameter - DEBUG - Setting raw value of parameter: MockParabola_y to -30\n"
     ]
    },
    {
     "name": "stderr",
     "output_type": "stream",
     "text": [
      "qcodes.parameters.parameter - DEBUG - Getting raw value of parameter: MockParabola_x as 20\n"
     ]
    },
    {
     "name": "stderr",
     "output_type": "stream",
     "text": [
      "qcodes.parameters.parameter - DEBUG - Getting raw value of parameter: MockParabola_y as -30\n"
     ]
    },
    {
     "name": "stderr",
     "output_type": "stream",
     "text": [
      "qcodes.parameters.parameter - DEBUG - Getting raw value of parameter: MockParabola_z as 0\n"
     ]
    },
    {
     "name": "stderr",
     "output_type": "stream",
     "text": [
      "qcodes.parameters.parameter - DEBUG - Getting raw value of parameter: MockParabola_y as -30\n"
     ]
    },
    {
     "name": "stderr",
     "output_type": "stream",
     "text": [
      "qcodes.parameters.parameter - DEBUG - Getting raw value of parameter: MockParabola_x as 20\n"
     ]
    },
    {
     "name": "stderr",
     "output_type": "stream",
     "text": [
      "qcodes.parameters.parameter - DEBUG - Getting raw value of parameter: MockParabola_noise as 0\n"
     ]
    },
    {
     "name": "stderr",
     "output_type": "stream",
     "text": [
      "qcodes.parameters.parameter - DEBUG - Setting raw value of parameter: MockParabola_y to -20\n"
     ]
    },
    {
     "name": "stderr",
     "output_type": "stream",
     "text": [
      "qcodes.parameters.parameter - DEBUG - Getting raw value of parameter: MockParabola_x as 20\n"
     ]
    },
    {
     "name": "stderr",
     "output_type": "stream",
     "text": [
      "qcodes.parameters.parameter - DEBUG - Getting raw value of parameter: MockParabola_y as -20\n"
     ]
    },
    {
     "name": "stderr",
     "output_type": "stream",
     "text": [
      "qcodes.parameters.parameter - DEBUG - Getting raw value of parameter: MockParabola_z as 0\n"
     ]
    },
    {
     "name": "stderr",
     "output_type": "stream",
     "text": [
      "qcodes.parameters.parameter - DEBUG - Getting raw value of parameter: MockParabola_y as -20\n"
     ]
    },
    {
     "name": "stderr",
     "output_type": "stream",
     "text": [
      "qcodes.parameters.parameter - DEBUG - Getting raw value of parameter: MockParabola_x as 20\n"
     ]
    },
    {
     "name": "stderr",
     "output_type": "stream",
     "text": [
      "qcodes.parameters.parameter - DEBUG - Getting raw value of parameter: MockParabola_noise as 0\n"
     ]
    },
    {
     "name": "stderr",
     "output_type": "stream",
     "text": [
      "qcodes.parameters.parameter - DEBUG - Setting raw value of parameter: MockParabola_y to -10\n"
     ]
    },
    {
     "name": "stderr",
     "output_type": "stream",
     "text": [
      "qcodes.parameters.parameter - DEBUG - Getting raw value of parameter: MockParabola_x as 20\n"
     ]
    },
    {
     "name": "stderr",
     "output_type": "stream",
     "text": [
      "qcodes.parameters.parameter - DEBUG - Getting raw value of parameter: MockParabola_y as -10\n"
     ]
    },
    {
     "name": "stderr",
     "output_type": "stream",
     "text": [
      "qcodes.parameters.parameter - DEBUG - Getting raw value of parameter: MockParabola_z as 0\n"
     ]
    },
    {
     "name": "stderr",
     "output_type": "stream",
     "text": [
      "qcodes.parameters.parameter - DEBUG - Getting raw value of parameter: MockParabola_y as -10\n"
     ]
    },
    {
     "name": "stderr",
     "output_type": "stream",
     "text": [
      "qcodes.parameters.parameter - DEBUG - Getting raw value of parameter: MockParabola_x as 20\n"
     ]
    },
    {
     "name": "stderr",
     "output_type": "stream",
     "text": [
      "qcodes.parameters.parameter - DEBUG - Getting raw value of parameter: MockParabola_noise as 0\n"
     ]
    },
    {
     "name": "stderr",
     "output_type": "stream",
     "text": [
      "qcodes.parameters.parameter - DEBUG - Setting raw value of parameter: MockParabola_y to 0\n"
     ]
    },
    {
     "name": "stderr",
     "output_type": "stream",
     "text": [
      "qcodes.parameters.parameter - DEBUG - Getting raw value of parameter: MockParabola_x as 20\n"
     ]
    },
    {
     "name": "stderr",
     "output_type": "stream",
     "text": [
      "qcodes.parameters.parameter - DEBUG - Getting raw value of parameter: MockParabola_y as 0\n"
     ]
    },
    {
     "name": "stderr",
     "output_type": "stream",
     "text": [
      "qcodes.parameters.parameter - DEBUG - Getting raw value of parameter: MockParabola_z as 0\n"
     ]
    },
    {
     "name": "stderr",
     "output_type": "stream",
     "text": [
      "qcodes.parameters.parameter - DEBUG - Getting raw value of parameter: MockParabola_y as 0\n"
     ]
    },
    {
     "name": "stderr",
     "output_type": "stream",
     "text": [
      "qcodes.parameters.parameter - DEBUG - Getting raw value of parameter: MockParabola_x as 20\n"
     ]
    },
    {
     "name": "stderr",
     "output_type": "stream",
     "text": [
      "qcodes.parameters.parameter - DEBUG - Getting raw value of parameter: MockParabola_noise as 0\n"
     ]
    },
    {
     "name": "stderr",
     "output_type": "stream",
     "text": [
      "qcodes.parameters.parameter - DEBUG - Setting raw value of parameter: MockParabola_y to 10\n"
     ]
    },
    {
     "name": "stderr",
     "output_type": "stream",
     "text": [
      "qcodes.parameters.parameter - DEBUG - Getting raw value of parameter: MockParabola_x as 20\n"
     ]
    },
    {
     "name": "stderr",
     "output_type": "stream",
     "text": [
      "qcodes.parameters.parameter - DEBUG - Getting raw value of parameter: MockParabola_y as 10\n"
     ]
    },
    {
     "name": "stderr",
     "output_type": "stream",
     "text": [
      "qcodes.parameters.parameter - DEBUG - Getting raw value of parameter: MockParabola_z as 0\n"
     ]
    },
    {
     "name": "stderr",
     "output_type": "stream",
     "text": [
      "qcodes.parameters.parameter - DEBUG - Getting raw value of parameter: MockParabola_y as 10\n"
     ]
    },
    {
     "name": "stderr",
     "output_type": "stream",
     "text": [
      "qcodes.parameters.parameter - DEBUG - Getting raw value of parameter: MockParabola_x as 20\n"
     ]
    },
    {
     "name": "stderr",
     "output_type": "stream",
     "text": [
      "qcodes.parameters.parameter - DEBUG - Getting raw value of parameter: MockParabola_noise as 0\n"
     ]
    },
    {
     "name": "stderr",
     "output_type": "stream",
     "text": [
      "qcodes.parameters.parameter - DEBUG - Setting raw value of parameter: MockParabola_y to 20\n"
     ]
    },
    {
     "name": "stderr",
     "output_type": "stream",
     "text": [
      "qcodes.parameters.parameter - DEBUG - Getting raw value of parameter: MockParabola_x as 20\n"
     ]
    },
    {
     "name": "stderr",
     "output_type": "stream",
     "text": [
      "qcodes.parameters.parameter - DEBUG - Getting raw value of parameter: MockParabola_y as 20\n"
     ]
    },
    {
     "name": "stderr",
     "output_type": "stream",
     "text": [
      "qcodes.parameters.parameter - DEBUG - Getting raw value of parameter: MockParabola_z as 0\n"
     ]
    },
    {
     "name": "stderr",
     "output_type": "stream",
     "text": [
      "qcodes.parameters.parameter - DEBUG - Getting raw value of parameter: MockParabola_y as 20\n"
     ]
    },
    {
     "name": "stderr",
     "output_type": "stream",
     "text": [
      "qcodes.parameters.parameter - DEBUG - Getting raw value of parameter: MockParabola_x as 20\n"
     ]
    },
    {
     "name": "stderr",
     "output_type": "stream",
     "text": [
      "qcodes.parameters.parameter - DEBUG - Getting raw value of parameter: MockParabola_noise as 0\n"
     ]
    },
    {
     "name": "stderr",
     "output_type": "stream",
     "text": [
      "qcodes.parameters.parameter - DEBUG - Setting raw value of parameter: MockParabola_y to 30\n"
     ]
    },
    {
     "name": "stderr",
     "output_type": "stream",
     "text": [
      "qcodes.parameters.parameter - DEBUG - Getting raw value of parameter: MockParabola_x as 20\n"
     ]
    },
    {
     "name": "stderr",
     "output_type": "stream",
     "text": [
      "qcodes.parameters.parameter - DEBUG - Getting raw value of parameter: MockParabola_y as 30\n"
     ]
    },
    {
     "name": "stderr",
     "output_type": "stream",
     "text": [
      "qcodes.parameters.parameter - DEBUG - Getting raw value of parameter: MockParabola_z as 0\n"
     ]
    },
    {
     "name": "stderr",
     "output_type": "stream",
     "text": [
      "qcodes.parameters.parameter - DEBUG - Getting raw value of parameter: MockParabola_y as 30\n"
     ]
    },
    {
     "name": "stderr",
     "output_type": "stream",
     "text": [
      "qcodes.parameters.parameter - DEBUG - Getting raw value of parameter: MockParabola_x as 20\n"
     ]
    },
    {
     "name": "stderr",
     "output_type": "stream",
     "text": [
      "qcodes.parameters.parameter - DEBUG - Getting raw value of parameter: MockParabola_noise as 0\n"
     ]
    },
    {
     "name": "stderr",
     "output_type": "stream",
     "text": [
      "qcodes.parameters.parameter - DEBUG - Setting raw value of parameter: MockParabola_y to 40\n"
     ]
    },
    {
     "name": "stderr",
     "output_type": "stream",
     "text": [
      "qcodes.parameters.parameter - DEBUG - Getting raw value of parameter: MockParabola_x as 20\n"
     ]
    },
    {
     "name": "stderr",
     "output_type": "stream",
     "text": [
      "qcodes.parameters.parameter - DEBUG - Getting raw value of parameter: MockParabola_y as 40\n"
     ]
    },
    {
     "name": "stderr",
     "output_type": "stream",
     "text": [
      "qcodes.parameters.parameter - DEBUG - Getting raw value of parameter: MockParabola_z as 0\n"
     ]
    },
    {
     "name": "stderr",
     "output_type": "stream",
     "text": [
      "qcodes.parameters.parameter - DEBUG - Getting raw value of parameter: MockParabola_y as 40\n"
     ]
    },
    {
     "name": "stderr",
     "output_type": "stream",
     "text": [
      "qcodes.parameters.parameter - DEBUG - Getting raw value of parameter: MockParabola_x as 20\n"
     ]
    },
    {
     "name": "stderr",
     "output_type": "stream",
     "text": [
      "qcodes.parameters.parameter - DEBUG - Getting raw value of parameter: MockParabola_noise as 0\n"
     ]
    },
    {
     "name": "stderr",
     "output_type": "stream",
     "text": [
      "qcodes.parameters.parameter - DEBUG - Setting raw value of parameter: MockParabola_x to 40\n"
     ]
    },
    {
     "name": "stderr",
     "output_type": "stream",
     "text": [
      "qcodes.parameters.parameter - DEBUG - Setting raw value of parameter: MockParabola_y to -100\n"
     ]
    },
    {
     "name": "stderr",
     "output_type": "stream",
     "text": [
      "qcodes.parameters.parameter - DEBUG - Getting raw value of parameter: MockParabola_x as 40\n"
     ]
    },
    {
     "name": "stderr",
     "output_type": "stream",
     "text": [
      "qcodes.parameters.parameter - DEBUG - Getting raw value of parameter: MockParabola_y as -100\n"
     ]
    },
    {
     "name": "stderr",
     "output_type": "stream",
     "text": [
      "qcodes.parameters.parameter - DEBUG - Getting raw value of parameter: MockParabola_z as 0\n"
     ]
    },
    {
     "name": "stderr",
     "output_type": "stream",
     "text": [
      "qcodes.parameters.parameter - DEBUG - Getting raw value of parameter: MockParabola_y as -100\n"
     ]
    },
    {
     "name": "stderr",
     "output_type": "stream",
     "text": [
      "qcodes.parameters.parameter - DEBUG - Getting raw value of parameter: MockParabola_x as 40\n"
     ]
    },
    {
     "name": "stderr",
     "output_type": "stream",
     "text": [
      "qcodes.parameters.parameter - DEBUG - Getting raw value of parameter: MockParabola_noise as 0\n"
     ]
    },
    {
     "name": "stderr",
     "output_type": "stream",
     "text": [
      "qcodes.parameters.parameter - DEBUG - Setting raw value of parameter: MockParabola_y to -90\n"
     ]
    },
    {
     "name": "stderr",
     "output_type": "stream",
     "text": [
      "qcodes.parameters.parameter - DEBUG - Getting raw value of parameter: MockParabola_x as 40\n"
     ]
    },
    {
     "name": "stderr",
     "output_type": "stream",
     "text": [
      "qcodes.parameters.parameter - DEBUG - Getting raw value of parameter: MockParabola_y as -90\n"
     ]
    },
    {
     "name": "stderr",
     "output_type": "stream",
     "text": [
      "qcodes.parameters.parameter - DEBUG - Getting raw value of parameter: MockParabola_z as 0\n"
     ]
    },
    {
     "name": "stderr",
     "output_type": "stream",
     "text": [
      "qcodes.parameters.parameter - DEBUG - Getting raw value of parameter: MockParabola_y as -90\n"
     ]
    },
    {
     "name": "stderr",
     "output_type": "stream",
     "text": [
      "qcodes.parameters.parameter - DEBUG - Getting raw value of parameter: MockParabola_x as 40\n"
     ]
    },
    {
     "name": "stderr",
     "output_type": "stream",
     "text": [
      "qcodes.parameters.parameter - DEBUG - Getting raw value of parameter: MockParabola_noise as 0\n"
     ]
    },
    {
     "name": "stderr",
     "output_type": "stream",
     "text": [
      "qcodes.parameters.parameter - DEBUG - Setting raw value of parameter: MockParabola_y to -80\n"
     ]
    },
    {
     "name": "stderr",
     "output_type": "stream",
     "text": [
      "qcodes.parameters.parameter - DEBUG - Getting raw value of parameter: MockParabola_x as 40\n"
     ]
    },
    {
     "name": "stderr",
     "output_type": "stream",
     "text": [
      "qcodes.parameters.parameter - DEBUG - Getting raw value of parameter: MockParabola_y as -80\n"
     ]
    },
    {
     "name": "stderr",
     "output_type": "stream",
     "text": [
      "qcodes.parameters.parameter - DEBUG - Getting raw value of parameter: MockParabola_z as 0\n"
     ]
    },
    {
     "name": "stderr",
     "output_type": "stream",
     "text": [
      "qcodes.parameters.parameter - DEBUG - Getting raw value of parameter: MockParabola_y as -80\n"
     ]
    },
    {
     "name": "stderr",
     "output_type": "stream",
     "text": [
      "qcodes.parameters.parameter - DEBUG - Getting raw value of parameter: MockParabola_x as 40\n"
     ]
    },
    {
     "name": "stderr",
     "output_type": "stream",
     "text": [
      "qcodes.parameters.parameter - DEBUG - Getting raw value of parameter: MockParabola_noise as 0\n"
     ]
    },
    {
     "name": "stderr",
     "output_type": "stream",
     "text": [
      "qcodes.parameters.parameter - DEBUG - Setting raw value of parameter: MockParabola_y to -70\n"
     ]
    },
    {
     "name": "stderr",
     "output_type": "stream",
     "text": [
      "qcodes.parameters.parameter - DEBUG - Getting raw value of parameter: MockParabola_x as 40\n"
     ]
    },
    {
     "name": "stderr",
     "output_type": "stream",
     "text": [
      "qcodes.parameters.parameter - DEBUG - Getting raw value of parameter: MockParabola_y as -70\n"
     ]
    },
    {
     "name": "stderr",
     "output_type": "stream",
     "text": [
      "qcodes.parameters.parameter - DEBUG - Getting raw value of parameter: MockParabola_z as 0\n"
     ]
    },
    {
     "name": "stderr",
     "output_type": "stream",
     "text": [
      "qcodes.parameters.parameter - DEBUG - Getting raw value of parameter: MockParabola_y as -70\n"
     ]
    },
    {
     "name": "stderr",
     "output_type": "stream",
     "text": [
      "qcodes.parameters.parameter - DEBUG - Getting raw value of parameter: MockParabola_x as 40\n"
     ]
    },
    {
     "name": "stderr",
     "output_type": "stream",
     "text": [
      "qcodes.parameters.parameter - DEBUG - Getting raw value of parameter: MockParabola_noise as 0\n"
     ]
    },
    {
     "name": "stderr",
     "output_type": "stream",
     "text": [
      "qcodes.parameters.parameter - DEBUG - Setting raw value of parameter: MockParabola_y to -60\n"
     ]
    },
    {
     "name": "stderr",
     "output_type": "stream",
     "text": [
      "qcodes.parameters.parameter - DEBUG - Getting raw value of parameter: MockParabola_x as 40\n"
     ]
    },
    {
     "name": "stderr",
     "output_type": "stream",
     "text": [
      "qcodes.parameters.parameter - DEBUG - Getting raw value of parameter: MockParabola_y as -60\n"
     ]
    },
    {
     "name": "stderr",
     "output_type": "stream",
     "text": [
      "qcodes.parameters.parameter - DEBUG - Getting raw value of parameter: MockParabola_z as 0\n"
     ]
    },
    {
     "name": "stderr",
     "output_type": "stream",
     "text": [
      "qcodes.parameters.parameter - DEBUG - Getting raw value of parameter: MockParabola_y as -60\n"
     ]
    },
    {
     "name": "stderr",
     "output_type": "stream",
     "text": [
      "qcodes.parameters.parameter - DEBUG - Getting raw value of parameter: MockParabola_x as 40\n"
     ]
    },
    {
     "name": "stderr",
     "output_type": "stream",
     "text": [
      "qcodes.parameters.parameter - DEBUG - Getting raw value of parameter: MockParabola_noise as 0\n"
     ]
    },
    {
     "name": "stderr",
     "output_type": "stream",
     "text": [
      "qcodes.parameters.parameter - DEBUG - Setting raw value of parameter: MockParabola_y to -50\n"
     ]
    },
    {
     "name": "stderr",
     "output_type": "stream",
     "text": [
      "qcodes.parameters.parameter - DEBUG - Getting raw value of parameter: MockParabola_x as 40\n"
     ]
    },
    {
     "name": "stderr",
     "output_type": "stream",
     "text": [
      "qcodes.parameters.parameter - DEBUG - Getting raw value of parameter: MockParabola_y as -50\n"
     ]
    },
    {
     "name": "stderr",
     "output_type": "stream",
     "text": [
      "qcodes.parameters.parameter - DEBUG - Getting raw value of parameter: MockParabola_z as 0\n"
     ]
    },
    {
     "name": "stderr",
     "output_type": "stream",
     "text": [
      "qcodes.parameters.parameter - DEBUG - Getting raw value of parameter: MockParabola_y as -50\n"
     ]
    },
    {
     "name": "stderr",
     "output_type": "stream",
     "text": [
      "qcodes.parameters.parameter - DEBUG - Getting raw value of parameter: MockParabola_x as 40\n"
     ]
    },
    {
     "name": "stderr",
     "output_type": "stream",
     "text": [
      "qcodes.parameters.parameter - DEBUG - Getting raw value of parameter: MockParabola_noise as 0\n"
     ]
    },
    {
     "name": "stderr",
     "output_type": "stream",
     "text": [
      "qcodes.parameters.parameter - DEBUG - Setting raw value of parameter: MockParabola_y to -40\n"
     ]
    },
    {
     "name": "stderr",
     "output_type": "stream",
     "text": [
      "qcodes.parameters.parameter - DEBUG - Getting raw value of parameter: MockParabola_x as 40\n"
     ]
    },
    {
     "name": "stderr",
     "output_type": "stream",
     "text": [
      "qcodes.parameters.parameter - DEBUG - Getting raw value of parameter: MockParabola_y as -40\n"
     ]
    },
    {
     "name": "stderr",
     "output_type": "stream",
     "text": [
      "qcodes.parameters.parameter - DEBUG - Getting raw value of parameter: MockParabola_z as 0\n"
     ]
    },
    {
     "name": "stderr",
     "output_type": "stream",
     "text": [
      "qcodes.parameters.parameter - DEBUG - Getting raw value of parameter: MockParabola_y as -40\n"
     ]
    },
    {
     "name": "stderr",
     "output_type": "stream",
     "text": [
      "qcodes.parameters.parameter - DEBUG - Getting raw value of parameter: MockParabola_x as 40\n"
     ]
    },
    {
     "name": "stderr",
     "output_type": "stream",
     "text": [
      "qcodes.parameters.parameter - DEBUG - Getting raw value of parameter: MockParabola_noise as 0\n"
     ]
    },
    {
     "name": "stderr",
     "output_type": "stream",
     "text": [
      "qcodes.parameters.parameter - DEBUG - Setting raw value of parameter: MockParabola_y to -30\n"
     ]
    },
    {
     "name": "stderr",
     "output_type": "stream",
     "text": [
      "qcodes.parameters.parameter - DEBUG - Getting raw value of parameter: MockParabola_x as 40\n"
     ]
    },
    {
     "name": "stderr",
     "output_type": "stream",
     "text": [
      "qcodes.parameters.parameter - DEBUG - Getting raw value of parameter: MockParabola_y as -30\n"
     ]
    },
    {
     "name": "stderr",
     "output_type": "stream",
     "text": [
      "qcodes.parameters.parameter - DEBUG - Getting raw value of parameter: MockParabola_z as 0\n"
     ]
    },
    {
     "name": "stderr",
     "output_type": "stream",
     "text": [
      "qcodes.parameters.parameter - DEBUG - Getting raw value of parameter: MockParabola_y as -30\n"
     ]
    },
    {
     "name": "stderr",
     "output_type": "stream",
     "text": [
      "qcodes.parameters.parameter - DEBUG - Getting raw value of parameter: MockParabola_x as 40\n"
     ]
    },
    {
     "name": "stderr",
     "output_type": "stream",
     "text": [
      "qcodes.parameters.parameter - DEBUG - Getting raw value of parameter: MockParabola_noise as 0\n"
     ]
    },
    {
     "name": "stderr",
     "output_type": "stream",
     "text": [
      "qcodes.parameters.parameter - DEBUG - Setting raw value of parameter: MockParabola_y to -20\n"
     ]
    },
    {
     "name": "stderr",
     "output_type": "stream",
     "text": [
      "qcodes.parameters.parameter - DEBUG - Getting raw value of parameter: MockParabola_x as 40\n"
     ]
    },
    {
     "name": "stderr",
     "output_type": "stream",
     "text": [
      "qcodes.parameters.parameter - DEBUG - Getting raw value of parameter: MockParabola_y as -20\n"
     ]
    },
    {
     "name": "stderr",
     "output_type": "stream",
     "text": [
      "qcodes.parameters.parameter - DEBUG - Getting raw value of parameter: MockParabola_z as 0\n"
     ]
    },
    {
     "name": "stderr",
     "output_type": "stream",
     "text": [
      "qcodes.parameters.parameter - DEBUG - Getting raw value of parameter: MockParabola_y as -20\n"
     ]
    },
    {
     "name": "stderr",
     "output_type": "stream",
     "text": [
      "qcodes.parameters.parameter - DEBUG - Getting raw value of parameter: MockParabola_x as 40\n"
     ]
    },
    {
     "name": "stderr",
     "output_type": "stream",
     "text": [
      "qcodes.parameters.parameter - DEBUG - Getting raw value of parameter: MockParabola_noise as 0\n"
     ]
    },
    {
     "name": "stderr",
     "output_type": "stream",
     "text": [
      "qcodes.parameters.parameter - DEBUG - Setting raw value of parameter: MockParabola_y to -10\n"
     ]
    },
    {
     "name": "stderr",
     "output_type": "stream",
     "text": [
      "qcodes.parameters.parameter - DEBUG - Getting raw value of parameter: MockParabola_x as 40\n"
     ]
    },
    {
     "name": "stderr",
     "output_type": "stream",
     "text": [
      "qcodes.parameters.parameter - DEBUG - Getting raw value of parameter: MockParabola_y as -10\n"
     ]
    },
    {
     "name": "stderr",
     "output_type": "stream",
     "text": [
      "qcodes.parameters.parameter - DEBUG - Getting raw value of parameter: MockParabola_z as 0\n"
     ]
    },
    {
     "name": "stderr",
     "output_type": "stream",
     "text": [
      "qcodes.parameters.parameter - DEBUG - Getting raw value of parameter: MockParabola_y as -10\n"
     ]
    },
    {
     "name": "stderr",
     "output_type": "stream",
     "text": [
      "qcodes.parameters.parameter - DEBUG - Getting raw value of parameter: MockParabola_x as 40\n"
     ]
    },
    {
     "name": "stderr",
     "output_type": "stream",
     "text": [
      "qcodes.parameters.parameter - DEBUG - Getting raw value of parameter: MockParabola_noise as 0\n"
     ]
    },
    {
     "name": "stderr",
     "output_type": "stream",
     "text": [
      "qcodes.parameters.parameter - DEBUG - Setting raw value of parameter: MockParabola_y to 0\n"
     ]
    },
    {
     "name": "stderr",
     "output_type": "stream",
     "text": [
      "qcodes.parameters.parameter - DEBUG - Getting raw value of parameter: MockParabola_x as 40\n"
     ]
    },
    {
     "name": "stderr",
     "output_type": "stream",
     "text": [
      "qcodes.parameters.parameter - DEBUG - Getting raw value of parameter: MockParabola_y as 0\n"
     ]
    },
    {
     "name": "stderr",
     "output_type": "stream",
     "text": [
      "qcodes.parameters.parameter - DEBUG - Getting raw value of parameter: MockParabola_z as 0\n"
     ]
    },
    {
     "name": "stderr",
     "output_type": "stream",
     "text": [
      "qcodes.parameters.parameter - DEBUG - Getting raw value of parameter: MockParabola_y as 0\n"
     ]
    },
    {
     "name": "stderr",
     "output_type": "stream",
     "text": [
      "qcodes.parameters.parameter - DEBUG - Getting raw value of parameter: MockParabola_x as 40\n"
     ]
    },
    {
     "name": "stderr",
     "output_type": "stream",
     "text": [
      "qcodes.parameters.parameter - DEBUG - Getting raw value of parameter: MockParabola_noise as 0\n"
     ]
    },
    {
     "name": "stderr",
     "output_type": "stream",
     "text": [
      "qcodes.parameters.parameter - DEBUG - Setting raw value of parameter: MockParabola_y to 10\n"
     ]
    },
    {
     "name": "stderr",
     "output_type": "stream",
     "text": [
      "qcodes.parameters.parameter - DEBUG - Getting raw value of parameter: MockParabola_x as 40\n"
     ]
    },
    {
     "name": "stderr",
     "output_type": "stream",
     "text": [
      "qcodes.parameters.parameter - DEBUG - Getting raw value of parameter: MockParabola_y as 10\n"
     ]
    },
    {
     "name": "stderr",
     "output_type": "stream",
     "text": [
      "qcodes.parameters.parameter - DEBUG - Getting raw value of parameter: MockParabola_z as 0\n"
     ]
    },
    {
     "name": "stderr",
     "output_type": "stream",
     "text": [
      "qcodes.parameters.parameter - DEBUG - Getting raw value of parameter: MockParabola_y as 10\n"
     ]
    },
    {
     "name": "stderr",
     "output_type": "stream",
     "text": [
      "qcodes.parameters.parameter - DEBUG - Getting raw value of parameter: MockParabola_x as 40\n"
     ]
    },
    {
     "name": "stderr",
     "output_type": "stream",
     "text": [
      "qcodes.parameters.parameter - DEBUG - Getting raw value of parameter: MockParabola_noise as 0\n"
     ]
    },
    {
     "name": "stderr",
     "output_type": "stream",
     "text": [
      "qcodes.parameters.parameter - DEBUG - Setting raw value of parameter: MockParabola_y to 20\n"
     ]
    },
    {
     "name": "stderr",
     "output_type": "stream",
     "text": [
      "qcodes.parameters.parameter - DEBUG - Getting raw value of parameter: MockParabola_x as 40\n"
     ]
    },
    {
     "name": "stderr",
     "output_type": "stream",
     "text": [
      "qcodes.parameters.parameter - DEBUG - Getting raw value of parameter: MockParabola_y as 20\n"
     ]
    },
    {
     "name": "stderr",
     "output_type": "stream",
     "text": [
      "qcodes.parameters.parameter - DEBUG - Getting raw value of parameter: MockParabola_z as 0\n"
     ]
    },
    {
     "name": "stderr",
     "output_type": "stream",
     "text": [
      "qcodes.parameters.parameter - DEBUG - Getting raw value of parameter: MockParabola_y as 20\n"
     ]
    },
    {
     "name": "stderr",
     "output_type": "stream",
     "text": [
      "qcodes.parameters.parameter - DEBUG - Getting raw value of parameter: MockParabola_x as 40\n"
     ]
    },
    {
     "name": "stderr",
     "output_type": "stream",
     "text": [
      "qcodes.parameters.parameter - DEBUG - Getting raw value of parameter: MockParabola_noise as 0\n"
     ]
    },
    {
     "name": "stderr",
     "output_type": "stream",
     "text": [
      "qcodes.parameters.parameter - DEBUG - Setting raw value of parameter: MockParabola_y to 30\n"
     ]
    },
    {
     "name": "stderr",
     "output_type": "stream",
     "text": [
      "qcodes.parameters.parameter - DEBUG - Getting raw value of parameter: MockParabola_x as 40\n"
     ]
    },
    {
     "name": "stderr",
     "output_type": "stream",
     "text": [
      "qcodes.parameters.parameter - DEBUG - Getting raw value of parameter: MockParabola_y as 30\n"
     ]
    },
    {
     "name": "stderr",
     "output_type": "stream",
     "text": [
      "qcodes.parameters.parameter - DEBUG - Getting raw value of parameter: MockParabola_z as 0\n"
     ]
    },
    {
     "name": "stderr",
     "output_type": "stream",
     "text": [
      "qcodes.parameters.parameter - DEBUG - Getting raw value of parameter: MockParabola_y as 30\n"
     ]
    },
    {
     "name": "stderr",
     "output_type": "stream",
     "text": [
      "qcodes.parameters.parameter - DEBUG - Getting raw value of parameter: MockParabola_x as 40\n"
     ]
    },
    {
     "name": "stderr",
     "output_type": "stream",
     "text": [
      "qcodes.parameters.parameter - DEBUG - Getting raw value of parameter: MockParabola_noise as 0\n"
     ]
    },
    {
     "name": "stderr",
     "output_type": "stream",
     "text": [
      "qcodes.parameters.parameter - DEBUG - Setting raw value of parameter: MockParabola_y to 40\n"
     ]
    },
    {
     "name": "stderr",
     "output_type": "stream",
     "text": [
      "qcodes.parameters.parameter - DEBUG - Getting raw value of parameter: MockParabola_x as 40\n"
     ]
    },
    {
     "name": "stderr",
     "output_type": "stream",
     "text": [
      "qcodes.parameters.parameter - DEBUG - Getting raw value of parameter: MockParabola_y as 40\n"
     ]
    },
    {
     "name": "stderr",
     "output_type": "stream",
     "text": [
      "qcodes.parameters.parameter - DEBUG - Getting raw value of parameter: MockParabola_z as 0\n"
     ]
    },
    {
     "name": "stderr",
     "output_type": "stream",
     "text": [
      "qcodes.parameters.parameter - DEBUG - Getting raw value of parameter: MockParabola_y as 40\n"
     ]
    },
    {
     "name": "stderr",
     "output_type": "stream",
     "text": [
      "qcodes.parameters.parameter - DEBUG - Getting raw value of parameter: MockParabola_x as 40\n"
     ]
    },
    {
     "name": "stderr",
     "output_type": "stream",
     "text": [
      "qcodes.parameters.parameter - DEBUG - Getting raw value of parameter: MockParabola_noise as 0\n"
     ]
    },
    {
     "name": "stderr",
     "output_type": "stream",
     "text": [
      "qcodes.parameters.parameter - DEBUG - Setting raw value of parameter: MockParabola_x to 60\n"
     ]
    },
    {
     "name": "stderr",
     "output_type": "stream",
     "text": [
      "qcodes.parameters.parameter - DEBUG - Setting raw value of parameter: MockParabola_y to -100\n"
     ]
    },
    {
     "name": "stderr",
     "output_type": "stream",
     "text": [
      "qcodes.parameters.parameter - DEBUG - Getting raw value of parameter: MockParabola_x as 60\n"
     ]
    },
    {
     "name": "stderr",
     "output_type": "stream",
     "text": [
      "qcodes.parameters.parameter - DEBUG - Getting raw value of parameter: MockParabola_y as -100\n"
     ]
    },
    {
     "name": "stderr",
     "output_type": "stream",
     "text": [
      "qcodes.parameters.parameter - DEBUG - Getting raw value of parameter: MockParabola_z as 0\n"
     ]
    },
    {
     "name": "stderr",
     "output_type": "stream",
     "text": [
      "qcodes.parameters.parameter - DEBUG - Getting raw value of parameter: MockParabola_y as -100\n"
     ]
    },
    {
     "name": "stderr",
     "output_type": "stream",
     "text": [
      "qcodes.parameters.parameter - DEBUG - Getting raw value of parameter: MockParabola_x as 60\n"
     ]
    },
    {
     "name": "stderr",
     "output_type": "stream",
     "text": [
      "qcodes.parameters.parameter - DEBUG - Getting raw value of parameter: MockParabola_noise as 0\n"
     ]
    },
    {
     "name": "stderr",
     "output_type": "stream",
     "text": [
      "qcodes.parameters.parameter - DEBUG - Setting raw value of parameter: MockParabola_y to -90\n"
     ]
    },
    {
     "name": "stderr",
     "output_type": "stream",
     "text": [
      "qcodes.parameters.parameter - DEBUG - Getting raw value of parameter: MockParabola_x as 60\n"
     ]
    },
    {
     "name": "stderr",
     "output_type": "stream",
     "text": [
      "qcodes.parameters.parameter - DEBUG - Getting raw value of parameter: MockParabola_y as -90\n"
     ]
    },
    {
     "name": "stderr",
     "output_type": "stream",
     "text": [
      "qcodes.parameters.parameter - DEBUG - Getting raw value of parameter: MockParabola_z as 0\n"
     ]
    },
    {
     "name": "stderr",
     "output_type": "stream",
     "text": [
      "qcodes.parameters.parameter - DEBUG - Getting raw value of parameter: MockParabola_y as -90\n"
     ]
    },
    {
     "name": "stderr",
     "output_type": "stream",
     "text": [
      "qcodes.parameters.parameter - DEBUG - Getting raw value of parameter: MockParabola_x as 60\n"
     ]
    },
    {
     "name": "stderr",
     "output_type": "stream",
     "text": [
      "qcodes.parameters.parameter - DEBUG - Getting raw value of parameter: MockParabola_noise as 0\n"
     ]
    },
    {
     "name": "stderr",
     "output_type": "stream",
     "text": [
      "qcodes.parameters.parameter - DEBUG - Setting raw value of parameter: MockParabola_y to -80\n"
     ]
    },
    {
     "name": "stderr",
     "output_type": "stream",
     "text": [
      "qcodes.parameters.parameter - DEBUG - Getting raw value of parameter: MockParabola_x as 60\n"
     ]
    },
    {
     "name": "stderr",
     "output_type": "stream",
     "text": [
      "qcodes.parameters.parameter - DEBUG - Getting raw value of parameter: MockParabola_y as -80\n"
     ]
    },
    {
     "name": "stderr",
     "output_type": "stream",
     "text": [
      "qcodes.parameters.parameter - DEBUG - Getting raw value of parameter: MockParabola_z as 0\n"
     ]
    },
    {
     "name": "stderr",
     "output_type": "stream",
     "text": [
      "qcodes.parameters.parameter - DEBUG - Getting raw value of parameter: MockParabola_y as -80\n"
     ]
    },
    {
     "name": "stderr",
     "output_type": "stream",
     "text": [
      "qcodes.parameters.parameter - DEBUG - Getting raw value of parameter: MockParabola_x as 60\n"
     ]
    },
    {
     "name": "stderr",
     "output_type": "stream",
     "text": [
      "qcodes.parameters.parameter - DEBUG - Getting raw value of parameter: MockParabola_noise as 0\n"
     ]
    },
    {
     "name": "stderr",
     "output_type": "stream",
     "text": [
      "qcodes.parameters.parameter - DEBUG - Setting raw value of parameter: MockParabola_y to -70\n"
     ]
    },
    {
     "name": "stderr",
     "output_type": "stream",
     "text": [
      "qcodes.parameters.parameter - DEBUG - Getting raw value of parameter: MockParabola_x as 60\n"
     ]
    },
    {
     "name": "stderr",
     "output_type": "stream",
     "text": [
      "qcodes.parameters.parameter - DEBUG - Getting raw value of parameter: MockParabola_y as -70\n"
     ]
    },
    {
     "name": "stderr",
     "output_type": "stream",
     "text": [
      "qcodes.parameters.parameter - DEBUG - Getting raw value of parameter: MockParabola_z as 0\n"
     ]
    },
    {
     "name": "stderr",
     "output_type": "stream",
     "text": [
      "qcodes.parameters.parameter - DEBUG - Getting raw value of parameter: MockParabola_y as -70\n"
     ]
    },
    {
     "name": "stderr",
     "output_type": "stream",
     "text": [
      "qcodes.parameters.parameter - DEBUG - Getting raw value of parameter: MockParabola_x as 60\n"
     ]
    },
    {
     "name": "stderr",
     "output_type": "stream",
     "text": [
      "qcodes.parameters.parameter - DEBUG - Getting raw value of parameter: MockParabola_noise as 0\n"
     ]
    },
    {
     "name": "stderr",
     "output_type": "stream",
     "text": [
      "qcodes.parameters.parameter - DEBUG - Setting raw value of parameter: MockParabola_y to -60\n"
     ]
    },
    {
     "name": "stderr",
     "output_type": "stream",
     "text": [
      "qcodes.parameters.parameter - DEBUG - Getting raw value of parameter: MockParabola_x as 60\n"
     ]
    },
    {
     "name": "stderr",
     "output_type": "stream",
     "text": [
      "qcodes.parameters.parameter - DEBUG - Getting raw value of parameter: MockParabola_y as -60\n"
     ]
    },
    {
     "name": "stderr",
     "output_type": "stream",
     "text": [
      "qcodes.parameters.parameter - DEBUG - Getting raw value of parameter: MockParabola_z as 0\n"
     ]
    },
    {
     "name": "stderr",
     "output_type": "stream",
     "text": [
      "qcodes.parameters.parameter - DEBUG - Getting raw value of parameter: MockParabola_y as -60\n"
     ]
    },
    {
     "name": "stderr",
     "output_type": "stream",
     "text": [
      "qcodes.parameters.parameter - DEBUG - Getting raw value of parameter: MockParabola_x as 60\n"
     ]
    },
    {
     "name": "stderr",
     "output_type": "stream",
     "text": [
      "qcodes.parameters.parameter - DEBUG - Getting raw value of parameter: MockParabola_noise as 0\n"
     ]
    },
    {
     "name": "stderr",
     "output_type": "stream",
     "text": [
      "qcodes.parameters.parameter - DEBUG - Setting raw value of parameter: MockParabola_y to -50\n"
     ]
    },
    {
     "name": "stderr",
     "output_type": "stream",
     "text": [
      "qcodes.parameters.parameter - DEBUG - Getting raw value of parameter: MockParabola_x as 60\n"
     ]
    },
    {
     "name": "stderr",
     "output_type": "stream",
     "text": [
      "qcodes.parameters.parameter - DEBUG - Getting raw value of parameter: MockParabola_y as -50\n"
     ]
    },
    {
     "name": "stderr",
     "output_type": "stream",
     "text": [
      "qcodes.parameters.parameter - DEBUG - Getting raw value of parameter: MockParabola_z as 0\n"
     ]
    },
    {
     "name": "stderr",
     "output_type": "stream",
     "text": [
      "qcodes.parameters.parameter - DEBUG - Getting raw value of parameter: MockParabola_y as -50\n"
     ]
    },
    {
     "name": "stderr",
     "output_type": "stream",
     "text": [
      "qcodes.parameters.parameter - DEBUG - Getting raw value of parameter: MockParabola_x as 60\n"
     ]
    },
    {
     "name": "stderr",
     "output_type": "stream",
     "text": [
      "qcodes.parameters.parameter - DEBUG - Getting raw value of parameter: MockParabola_noise as 0\n"
     ]
    },
    {
     "name": "stderr",
     "output_type": "stream",
     "text": [
      "qcodes.parameters.parameter - DEBUG - Setting raw value of parameter: MockParabola_y to -40\n"
     ]
    },
    {
     "name": "stderr",
     "output_type": "stream",
     "text": [
      "qcodes.parameters.parameter - DEBUG - Getting raw value of parameter: MockParabola_x as 60\n"
     ]
    },
    {
     "name": "stderr",
     "output_type": "stream",
     "text": [
      "qcodes.parameters.parameter - DEBUG - Getting raw value of parameter: MockParabola_y as -40\n"
     ]
    },
    {
     "name": "stderr",
     "output_type": "stream",
     "text": [
      "qcodes.parameters.parameter - DEBUG - Getting raw value of parameter: MockParabola_z as 0\n"
     ]
    },
    {
     "name": "stderr",
     "output_type": "stream",
     "text": [
      "qcodes.parameters.parameter - DEBUG - Getting raw value of parameter: MockParabola_y as -40\n"
     ]
    },
    {
     "name": "stderr",
     "output_type": "stream",
     "text": [
      "qcodes.parameters.parameter - DEBUG - Getting raw value of parameter: MockParabola_x as 60\n"
     ]
    },
    {
     "name": "stderr",
     "output_type": "stream",
     "text": [
      "qcodes.parameters.parameter - DEBUG - Getting raw value of parameter: MockParabola_noise as 0\n"
     ]
    },
    {
     "name": "stderr",
     "output_type": "stream",
     "text": [
      "qcodes.parameters.parameter - DEBUG - Setting raw value of parameter: MockParabola_y to -30\n"
     ]
    },
    {
     "name": "stderr",
     "output_type": "stream",
     "text": [
      "qcodes.parameters.parameter - DEBUG - Getting raw value of parameter: MockParabola_x as 60\n"
     ]
    },
    {
     "name": "stderr",
     "output_type": "stream",
     "text": [
      "qcodes.parameters.parameter - DEBUG - Getting raw value of parameter: MockParabola_y as -30\n"
     ]
    },
    {
     "name": "stderr",
     "output_type": "stream",
     "text": [
      "qcodes.parameters.parameter - DEBUG - Getting raw value of parameter: MockParabola_z as 0\n"
     ]
    },
    {
     "name": "stderr",
     "output_type": "stream",
     "text": [
      "qcodes.parameters.parameter - DEBUG - Getting raw value of parameter: MockParabola_y as -30\n"
     ]
    },
    {
     "name": "stderr",
     "output_type": "stream",
     "text": [
      "qcodes.parameters.parameter - DEBUG - Getting raw value of parameter: MockParabola_x as 60\n"
     ]
    },
    {
     "name": "stderr",
     "output_type": "stream",
     "text": [
      "qcodes.parameters.parameter - DEBUG - Getting raw value of parameter: MockParabola_noise as 0\n"
     ]
    },
    {
     "name": "stderr",
     "output_type": "stream",
     "text": [
      "qcodes.parameters.parameter - DEBUG - Setting raw value of parameter: MockParabola_y to -20\n"
     ]
    },
    {
     "name": "stderr",
     "output_type": "stream",
     "text": [
      "qcodes.parameters.parameter - DEBUG - Getting raw value of parameter: MockParabola_x as 60\n"
     ]
    },
    {
     "name": "stderr",
     "output_type": "stream",
     "text": [
      "qcodes.parameters.parameter - DEBUG - Getting raw value of parameter: MockParabola_y as -20\n"
     ]
    },
    {
     "name": "stderr",
     "output_type": "stream",
     "text": [
      "qcodes.parameters.parameter - DEBUG - Getting raw value of parameter: MockParabola_z as 0\n"
     ]
    },
    {
     "name": "stderr",
     "output_type": "stream",
     "text": [
      "qcodes.parameters.parameter - DEBUG - Getting raw value of parameter: MockParabola_y as -20\n"
     ]
    },
    {
     "name": "stderr",
     "output_type": "stream",
     "text": [
      "qcodes.parameters.parameter - DEBUG - Getting raw value of parameter: MockParabola_x as 60\n"
     ]
    },
    {
     "name": "stderr",
     "output_type": "stream",
     "text": [
      "qcodes.parameters.parameter - DEBUG - Getting raw value of parameter: MockParabola_noise as 0\n"
     ]
    },
    {
     "name": "stderr",
     "output_type": "stream",
     "text": [
      "qcodes.parameters.parameter - DEBUG - Setting raw value of parameter: MockParabola_y to -10\n"
     ]
    },
    {
     "name": "stderr",
     "output_type": "stream",
     "text": [
      "qcodes.parameters.parameter - DEBUG - Getting raw value of parameter: MockParabola_x as 60\n"
     ]
    },
    {
     "name": "stderr",
     "output_type": "stream",
     "text": [
      "qcodes.parameters.parameter - DEBUG - Getting raw value of parameter: MockParabola_y as -10\n"
     ]
    },
    {
     "name": "stderr",
     "output_type": "stream",
     "text": [
      "qcodes.parameters.parameter - DEBUG - Getting raw value of parameter: MockParabola_z as 0\n"
     ]
    },
    {
     "name": "stderr",
     "output_type": "stream",
     "text": [
      "qcodes.parameters.parameter - DEBUG - Getting raw value of parameter: MockParabola_y as -10\n"
     ]
    },
    {
     "name": "stderr",
     "output_type": "stream",
     "text": [
      "qcodes.parameters.parameter - DEBUG - Getting raw value of parameter: MockParabola_x as 60\n"
     ]
    },
    {
     "name": "stderr",
     "output_type": "stream",
     "text": [
      "qcodes.parameters.parameter - DEBUG - Getting raw value of parameter: MockParabola_noise as 0\n"
     ]
    },
    {
     "name": "stderr",
     "output_type": "stream",
     "text": [
      "qcodes.parameters.parameter - DEBUG - Setting raw value of parameter: MockParabola_y to 0\n"
     ]
    },
    {
     "name": "stderr",
     "output_type": "stream",
     "text": [
      "qcodes.parameters.parameter - DEBUG - Getting raw value of parameter: MockParabola_x as 60\n"
     ]
    },
    {
     "name": "stderr",
     "output_type": "stream",
     "text": [
      "qcodes.parameters.parameter - DEBUG - Getting raw value of parameter: MockParabola_y as 0\n"
     ]
    },
    {
     "name": "stderr",
     "output_type": "stream",
     "text": [
      "qcodes.parameters.parameter - DEBUG - Getting raw value of parameter: MockParabola_z as 0\n"
     ]
    },
    {
     "name": "stderr",
     "output_type": "stream",
     "text": [
      "qcodes.parameters.parameter - DEBUG - Getting raw value of parameter: MockParabola_y as 0\n"
     ]
    },
    {
     "name": "stderr",
     "output_type": "stream",
     "text": [
      "qcodes.parameters.parameter - DEBUG - Getting raw value of parameter: MockParabola_x as 60\n"
     ]
    },
    {
     "name": "stderr",
     "output_type": "stream",
     "text": [
      "qcodes.parameters.parameter - DEBUG - Getting raw value of parameter: MockParabola_noise as 0\n"
     ]
    },
    {
     "name": "stderr",
     "output_type": "stream",
     "text": [
      "qcodes.parameters.parameter - DEBUG - Setting raw value of parameter: MockParabola_y to 10\n"
     ]
    },
    {
     "name": "stderr",
     "output_type": "stream",
     "text": [
      "qcodes.parameters.parameter - DEBUG - Getting raw value of parameter: MockParabola_x as 60\n"
     ]
    },
    {
     "name": "stderr",
     "output_type": "stream",
     "text": [
      "qcodes.parameters.parameter - DEBUG - Getting raw value of parameter: MockParabola_y as 10\n"
     ]
    },
    {
     "name": "stderr",
     "output_type": "stream",
     "text": [
      "qcodes.parameters.parameter - DEBUG - Getting raw value of parameter: MockParabola_z as 0\n"
     ]
    },
    {
     "name": "stderr",
     "output_type": "stream",
     "text": [
      "qcodes.parameters.parameter - DEBUG - Getting raw value of parameter: MockParabola_y as 10\n"
     ]
    },
    {
     "name": "stderr",
     "output_type": "stream",
     "text": [
      "qcodes.parameters.parameter - DEBUG - Getting raw value of parameter: MockParabola_x as 60\n"
     ]
    },
    {
     "name": "stderr",
     "output_type": "stream",
     "text": [
      "qcodes.parameters.parameter - DEBUG - Getting raw value of parameter: MockParabola_noise as 0\n"
     ]
    },
    {
     "name": "stderr",
     "output_type": "stream",
     "text": [
      "qcodes.parameters.parameter - DEBUG - Setting raw value of parameter: MockParabola_y to 20\n"
     ]
    },
    {
     "name": "stderr",
     "output_type": "stream",
     "text": [
      "qcodes.parameters.parameter - DEBUG - Getting raw value of parameter: MockParabola_x as 60\n"
     ]
    },
    {
     "name": "stderr",
     "output_type": "stream",
     "text": [
      "qcodes.parameters.parameter - DEBUG - Getting raw value of parameter: MockParabola_y as 20\n"
     ]
    },
    {
     "name": "stderr",
     "output_type": "stream",
     "text": [
      "qcodes.parameters.parameter - DEBUG - Getting raw value of parameter: MockParabola_z as 0\n"
     ]
    },
    {
     "name": "stderr",
     "output_type": "stream",
     "text": [
      "qcodes.parameters.parameter - DEBUG - Getting raw value of parameter: MockParabola_y as 20\n"
     ]
    },
    {
     "name": "stderr",
     "output_type": "stream",
     "text": [
      "qcodes.parameters.parameter - DEBUG - Getting raw value of parameter: MockParabola_x as 60\n"
     ]
    },
    {
     "name": "stderr",
     "output_type": "stream",
     "text": [
      "qcodes.parameters.parameter - DEBUG - Getting raw value of parameter: MockParabola_noise as 0\n"
     ]
    },
    {
     "name": "stderr",
     "output_type": "stream",
     "text": [
      "qcodes.parameters.parameter - DEBUG - Setting raw value of parameter: MockParabola_y to 30\n"
     ]
    },
    {
     "name": "stderr",
     "output_type": "stream",
     "text": [
      "qcodes.parameters.parameter - DEBUG - Getting raw value of parameter: MockParabola_x as 60\n"
     ]
    },
    {
     "name": "stderr",
     "output_type": "stream",
     "text": [
      "qcodes.parameters.parameter - DEBUG - Getting raw value of parameter: MockParabola_y as 30\n"
     ]
    },
    {
     "name": "stderr",
     "output_type": "stream",
     "text": [
      "qcodes.parameters.parameter - DEBUG - Getting raw value of parameter: MockParabola_z as 0\n"
     ]
    },
    {
     "name": "stderr",
     "output_type": "stream",
     "text": [
      "qcodes.parameters.parameter - DEBUG - Getting raw value of parameter: MockParabola_y as 30\n"
     ]
    },
    {
     "name": "stderr",
     "output_type": "stream",
     "text": [
      "qcodes.parameters.parameter - DEBUG - Getting raw value of parameter: MockParabola_x as 60\n"
     ]
    },
    {
     "name": "stderr",
     "output_type": "stream",
     "text": [
      "qcodes.parameters.parameter - DEBUG - Getting raw value of parameter: MockParabola_noise as 0\n"
     ]
    },
    {
     "name": "stderr",
     "output_type": "stream",
     "text": [
      "qcodes.parameters.parameter - DEBUG - Setting raw value of parameter: MockParabola_y to 40\n"
     ]
    },
    {
     "name": "stderr",
     "output_type": "stream",
     "text": [
      "qcodes.parameters.parameter - DEBUG - Getting raw value of parameter: MockParabola_x as 60\n"
     ]
    },
    {
     "name": "stderr",
     "output_type": "stream",
     "text": [
      "qcodes.parameters.parameter - DEBUG - Getting raw value of parameter: MockParabola_y as 40\n"
     ]
    },
    {
     "name": "stderr",
     "output_type": "stream",
     "text": [
      "qcodes.parameters.parameter - DEBUG - Getting raw value of parameter: MockParabola_z as 0\n"
     ]
    },
    {
     "name": "stderr",
     "output_type": "stream",
     "text": [
      "qcodes.parameters.parameter - DEBUG - Getting raw value of parameter: MockParabola_y as 40\n"
     ]
    },
    {
     "name": "stderr",
     "output_type": "stream",
     "text": [
      "qcodes.parameters.parameter - DEBUG - Getting raw value of parameter: MockParabola_x as 60\n"
     ]
    },
    {
     "name": "stderr",
     "output_type": "stream",
     "text": [
      "qcodes.parameters.parameter - DEBUG - Getting raw value of parameter: MockParabola_noise as 0\n"
     ]
    },
    {
     "name": "stderr",
     "output_type": "stream",
     "text": [
      "qcodes.parameters.parameter - DEBUG - Setting raw value of parameter: MockParabola_x to 80\n"
     ]
    },
    {
     "name": "stderr",
     "output_type": "stream",
     "text": [
      "qcodes.parameters.parameter - DEBUG - Setting raw value of parameter: MockParabola_y to -100\n"
     ]
    },
    {
     "name": "stderr",
     "output_type": "stream",
     "text": [
      "qcodes.parameters.parameter - DEBUG - Getting raw value of parameter: MockParabola_x as 80\n"
     ]
    },
    {
     "name": "stderr",
     "output_type": "stream",
     "text": [
      "qcodes.parameters.parameter - DEBUG - Getting raw value of parameter: MockParabola_y as -100\n"
     ]
    },
    {
     "name": "stderr",
     "output_type": "stream",
     "text": [
      "qcodes.parameters.parameter - DEBUG - Getting raw value of parameter: MockParabola_z as 0\n"
     ]
    },
    {
     "name": "stderr",
     "output_type": "stream",
     "text": [
      "qcodes.parameters.parameter - DEBUG - Getting raw value of parameter: MockParabola_y as -100\n"
     ]
    },
    {
     "name": "stderr",
     "output_type": "stream",
     "text": [
      "qcodes.parameters.parameter - DEBUG - Getting raw value of parameter: MockParabola_x as 80\n"
     ]
    },
    {
     "name": "stderr",
     "output_type": "stream",
     "text": [
      "qcodes.parameters.parameter - DEBUG - Getting raw value of parameter: MockParabola_noise as 0\n"
     ]
    },
    {
     "name": "stderr",
     "output_type": "stream",
     "text": [
      "qcodes.parameters.parameter - DEBUG - Setting raw value of parameter: MockParabola_y to -90\n"
     ]
    },
    {
     "name": "stderr",
     "output_type": "stream",
     "text": [
      "qcodes.parameters.parameter - DEBUG - Getting raw value of parameter: MockParabola_x as 80\n"
     ]
    },
    {
     "name": "stderr",
     "output_type": "stream",
     "text": [
      "qcodes.parameters.parameter - DEBUG - Getting raw value of parameter: MockParabola_y as -90\n"
     ]
    },
    {
     "name": "stderr",
     "output_type": "stream",
     "text": [
      "qcodes.parameters.parameter - DEBUG - Getting raw value of parameter: MockParabola_z as 0\n"
     ]
    },
    {
     "name": "stderr",
     "output_type": "stream",
     "text": [
      "qcodes.parameters.parameter - DEBUG - Getting raw value of parameter: MockParabola_y as -90\n"
     ]
    },
    {
     "name": "stderr",
     "output_type": "stream",
     "text": [
      "qcodes.parameters.parameter - DEBUG - Getting raw value of parameter: MockParabola_x as 80\n"
     ]
    },
    {
     "name": "stderr",
     "output_type": "stream",
     "text": [
      "qcodes.parameters.parameter - DEBUG - Getting raw value of parameter: MockParabola_noise as 0\n"
     ]
    },
    {
     "name": "stderr",
     "output_type": "stream",
     "text": [
      "qcodes.parameters.parameter - DEBUG - Setting raw value of parameter: MockParabola_y to -80\n"
     ]
    },
    {
     "name": "stderr",
     "output_type": "stream",
     "text": [
      "qcodes.parameters.parameter - DEBUG - Getting raw value of parameter: MockParabola_x as 80\n"
     ]
    },
    {
     "name": "stderr",
     "output_type": "stream",
     "text": [
      "qcodes.parameters.parameter - DEBUG - Getting raw value of parameter: MockParabola_y as -80\n"
     ]
    },
    {
     "name": "stderr",
     "output_type": "stream",
     "text": [
      "qcodes.parameters.parameter - DEBUG - Getting raw value of parameter: MockParabola_z as 0\n"
     ]
    },
    {
     "name": "stderr",
     "output_type": "stream",
     "text": [
      "qcodes.parameters.parameter - DEBUG - Getting raw value of parameter: MockParabola_y as -80\n"
     ]
    },
    {
     "name": "stderr",
     "output_type": "stream",
     "text": [
      "qcodes.parameters.parameter - DEBUG - Getting raw value of parameter: MockParabola_x as 80\n"
     ]
    },
    {
     "name": "stderr",
     "output_type": "stream",
     "text": [
      "qcodes.parameters.parameter - DEBUG - Getting raw value of parameter: MockParabola_noise as 0\n"
     ]
    },
    {
     "name": "stderr",
     "output_type": "stream",
     "text": [
      "qcodes.parameters.parameter - DEBUG - Setting raw value of parameter: MockParabola_y to -70\n"
     ]
    },
    {
     "name": "stderr",
     "output_type": "stream",
     "text": [
      "qcodes.parameters.parameter - DEBUG - Getting raw value of parameter: MockParabola_x as 80\n"
     ]
    },
    {
     "name": "stderr",
     "output_type": "stream",
     "text": [
      "qcodes.parameters.parameter - DEBUG - Getting raw value of parameter: MockParabola_y as -70\n"
     ]
    },
    {
     "name": "stderr",
     "output_type": "stream",
     "text": [
      "qcodes.parameters.parameter - DEBUG - Getting raw value of parameter: MockParabola_z as 0\n"
     ]
    },
    {
     "name": "stderr",
     "output_type": "stream",
     "text": [
      "qcodes.parameters.parameter - DEBUG - Getting raw value of parameter: MockParabola_y as -70\n"
     ]
    },
    {
     "name": "stderr",
     "output_type": "stream",
     "text": [
      "qcodes.parameters.parameter - DEBUG - Getting raw value of parameter: MockParabola_x as 80\n"
     ]
    },
    {
     "name": "stderr",
     "output_type": "stream",
     "text": [
      "qcodes.parameters.parameter - DEBUG - Getting raw value of parameter: MockParabola_noise as 0\n"
     ]
    },
    {
     "name": "stderr",
     "output_type": "stream",
     "text": [
      "qcodes.parameters.parameter - DEBUG - Setting raw value of parameter: MockParabola_y to -60\n"
     ]
    },
    {
     "name": "stderr",
     "output_type": "stream",
     "text": [
      "qcodes.parameters.parameter - DEBUG - Getting raw value of parameter: MockParabola_x as 80\n"
     ]
    },
    {
     "name": "stderr",
     "output_type": "stream",
     "text": [
      "qcodes.parameters.parameter - DEBUG - Getting raw value of parameter: MockParabola_y as -60\n"
     ]
    },
    {
     "name": "stderr",
     "output_type": "stream",
     "text": [
      "qcodes.parameters.parameter - DEBUG - Getting raw value of parameter: MockParabola_z as 0\n"
     ]
    },
    {
     "name": "stderr",
     "output_type": "stream",
     "text": [
      "qcodes.parameters.parameter - DEBUG - Getting raw value of parameter: MockParabola_y as -60\n"
     ]
    },
    {
     "name": "stderr",
     "output_type": "stream",
     "text": [
      "qcodes.parameters.parameter - DEBUG - Getting raw value of parameter: MockParabola_x as 80\n"
     ]
    },
    {
     "name": "stderr",
     "output_type": "stream",
     "text": [
      "qcodes.parameters.parameter - DEBUG - Getting raw value of parameter: MockParabola_noise as 0\n"
     ]
    },
    {
     "name": "stderr",
     "output_type": "stream",
     "text": [
      "qcodes.parameters.parameter - DEBUG - Setting raw value of parameter: MockParabola_y to -50\n"
     ]
    },
    {
     "name": "stderr",
     "output_type": "stream",
     "text": [
      "qcodes.parameters.parameter - DEBUG - Getting raw value of parameter: MockParabola_x as 80\n"
     ]
    },
    {
     "name": "stderr",
     "output_type": "stream",
     "text": [
      "qcodes.parameters.parameter - DEBUG - Getting raw value of parameter: MockParabola_y as -50\n"
     ]
    },
    {
     "name": "stderr",
     "output_type": "stream",
     "text": [
      "qcodes.parameters.parameter - DEBUG - Getting raw value of parameter: MockParabola_z as 0\n"
     ]
    },
    {
     "name": "stderr",
     "output_type": "stream",
     "text": [
      "qcodes.parameters.parameter - DEBUG - Getting raw value of parameter: MockParabola_y as -50\n"
     ]
    },
    {
     "name": "stderr",
     "output_type": "stream",
     "text": [
      "qcodes.parameters.parameter - DEBUG - Getting raw value of parameter: MockParabola_x as 80\n"
     ]
    },
    {
     "name": "stderr",
     "output_type": "stream",
     "text": [
      "qcodes.parameters.parameter - DEBUG - Getting raw value of parameter: MockParabola_noise as 0\n"
     ]
    },
    {
     "name": "stderr",
     "output_type": "stream",
     "text": [
      "qcodes.parameters.parameter - DEBUG - Setting raw value of parameter: MockParabola_y to -40\n"
     ]
    },
    {
     "name": "stderr",
     "output_type": "stream",
     "text": [
      "qcodes.parameters.parameter - DEBUG - Getting raw value of parameter: MockParabola_x as 80\n"
     ]
    },
    {
     "name": "stderr",
     "output_type": "stream",
     "text": [
      "qcodes.parameters.parameter - DEBUG - Getting raw value of parameter: MockParabola_y as -40\n"
     ]
    },
    {
     "name": "stderr",
     "output_type": "stream",
     "text": [
      "qcodes.parameters.parameter - DEBUG - Getting raw value of parameter: MockParabola_z as 0\n"
     ]
    },
    {
     "name": "stderr",
     "output_type": "stream",
     "text": [
      "qcodes.parameters.parameter - DEBUG - Getting raw value of parameter: MockParabola_y as -40\n"
     ]
    },
    {
     "name": "stderr",
     "output_type": "stream",
     "text": [
      "qcodes.parameters.parameter - DEBUG - Getting raw value of parameter: MockParabola_x as 80\n"
     ]
    },
    {
     "name": "stderr",
     "output_type": "stream",
     "text": [
      "qcodes.parameters.parameter - DEBUG - Getting raw value of parameter: MockParabola_noise as 0\n"
     ]
    },
    {
     "name": "stderr",
     "output_type": "stream",
     "text": [
      "qcodes.parameters.parameter - DEBUG - Setting raw value of parameter: MockParabola_y to -30\n"
     ]
    },
    {
     "name": "stderr",
     "output_type": "stream",
     "text": [
      "qcodes.parameters.parameter - DEBUG - Getting raw value of parameter: MockParabola_x as 80\n"
     ]
    },
    {
     "name": "stderr",
     "output_type": "stream",
     "text": [
      "qcodes.parameters.parameter - DEBUG - Getting raw value of parameter: MockParabola_y as -30\n"
     ]
    },
    {
     "name": "stderr",
     "output_type": "stream",
     "text": [
      "qcodes.parameters.parameter - DEBUG - Getting raw value of parameter: MockParabola_z as 0\n"
     ]
    },
    {
     "name": "stderr",
     "output_type": "stream",
     "text": [
      "qcodes.parameters.parameter - DEBUG - Getting raw value of parameter: MockParabola_y as -30\n"
     ]
    },
    {
     "name": "stderr",
     "output_type": "stream",
     "text": [
      "qcodes.parameters.parameter - DEBUG - Getting raw value of parameter: MockParabola_x as 80\n"
     ]
    },
    {
     "name": "stderr",
     "output_type": "stream",
     "text": [
      "qcodes.parameters.parameter - DEBUG - Getting raw value of parameter: MockParabola_noise as 0\n"
     ]
    },
    {
     "name": "stderr",
     "output_type": "stream",
     "text": [
      "qcodes.parameters.parameter - DEBUG - Setting raw value of parameter: MockParabola_y to -20\n"
     ]
    },
    {
     "name": "stderr",
     "output_type": "stream",
     "text": [
      "qcodes.parameters.parameter - DEBUG - Getting raw value of parameter: MockParabola_x as 80\n"
     ]
    },
    {
     "name": "stderr",
     "output_type": "stream",
     "text": [
      "qcodes.parameters.parameter - DEBUG - Getting raw value of parameter: MockParabola_y as -20\n"
     ]
    },
    {
     "name": "stderr",
     "output_type": "stream",
     "text": [
      "qcodes.parameters.parameter - DEBUG - Getting raw value of parameter: MockParabola_z as 0\n"
     ]
    },
    {
     "name": "stderr",
     "output_type": "stream",
     "text": [
      "qcodes.parameters.parameter - DEBUG - Getting raw value of parameter: MockParabola_y as -20\n"
     ]
    },
    {
     "name": "stderr",
     "output_type": "stream",
     "text": [
      "qcodes.parameters.parameter - DEBUG - Getting raw value of parameter: MockParabola_x as 80\n"
     ]
    },
    {
     "name": "stderr",
     "output_type": "stream",
     "text": [
      "qcodes.parameters.parameter - DEBUG - Getting raw value of parameter: MockParabola_noise as 0\n"
     ]
    },
    {
     "name": "stderr",
     "output_type": "stream",
     "text": [
      "qcodes.parameters.parameter - DEBUG - Setting raw value of parameter: MockParabola_y to -10\n"
     ]
    },
    {
     "name": "stderr",
     "output_type": "stream",
     "text": [
      "qcodes.parameters.parameter - DEBUG - Getting raw value of parameter: MockParabola_x as 80\n"
     ]
    },
    {
     "name": "stderr",
     "output_type": "stream",
     "text": [
      "qcodes.parameters.parameter - DEBUG - Getting raw value of parameter: MockParabola_y as -10\n"
     ]
    },
    {
     "name": "stderr",
     "output_type": "stream",
     "text": [
      "qcodes.parameters.parameter - DEBUG - Getting raw value of parameter: MockParabola_z as 0\n"
     ]
    },
    {
     "name": "stderr",
     "output_type": "stream",
     "text": [
      "qcodes.parameters.parameter - DEBUG - Getting raw value of parameter: MockParabola_y as -10\n"
     ]
    },
    {
     "name": "stderr",
     "output_type": "stream",
     "text": [
      "qcodes.parameters.parameter - DEBUG - Getting raw value of parameter: MockParabola_x as 80\n"
     ]
    },
    {
     "name": "stderr",
     "output_type": "stream",
     "text": [
      "qcodes.parameters.parameter - DEBUG - Getting raw value of parameter: MockParabola_noise as 0\n"
     ]
    },
    {
     "name": "stderr",
     "output_type": "stream",
     "text": [
      "qcodes.parameters.parameter - DEBUG - Setting raw value of parameter: MockParabola_y to 0\n"
     ]
    },
    {
     "name": "stderr",
     "output_type": "stream",
     "text": [
      "qcodes.parameters.parameter - DEBUG - Getting raw value of parameter: MockParabola_x as 80\n"
     ]
    },
    {
     "name": "stderr",
     "output_type": "stream",
     "text": [
      "qcodes.parameters.parameter - DEBUG - Getting raw value of parameter: MockParabola_y as 0\n"
     ]
    },
    {
     "name": "stderr",
     "output_type": "stream",
     "text": [
      "qcodes.parameters.parameter - DEBUG - Getting raw value of parameter: MockParabola_z as 0\n"
     ]
    },
    {
     "name": "stderr",
     "output_type": "stream",
     "text": [
      "qcodes.parameters.parameter - DEBUG - Getting raw value of parameter: MockParabola_y as 0\n"
     ]
    },
    {
     "name": "stderr",
     "output_type": "stream",
     "text": [
      "qcodes.parameters.parameter - DEBUG - Getting raw value of parameter: MockParabola_x as 80\n"
     ]
    },
    {
     "name": "stderr",
     "output_type": "stream",
     "text": [
      "qcodes.parameters.parameter - DEBUG - Getting raw value of parameter: MockParabola_noise as 0\n"
     ]
    },
    {
     "name": "stderr",
     "output_type": "stream",
     "text": [
      "qcodes.parameters.parameter - DEBUG - Setting raw value of parameter: MockParabola_y to 10\n"
     ]
    },
    {
     "name": "stderr",
     "output_type": "stream",
     "text": [
      "qcodes.parameters.parameter - DEBUG - Getting raw value of parameter: MockParabola_x as 80\n"
     ]
    },
    {
     "name": "stderr",
     "output_type": "stream",
     "text": [
      "qcodes.parameters.parameter - DEBUG - Getting raw value of parameter: MockParabola_y as 10\n"
     ]
    },
    {
     "name": "stderr",
     "output_type": "stream",
     "text": [
      "qcodes.parameters.parameter - DEBUG - Getting raw value of parameter: MockParabola_z as 0\n"
     ]
    },
    {
     "name": "stderr",
     "output_type": "stream",
     "text": [
      "qcodes.parameters.parameter - DEBUG - Getting raw value of parameter: MockParabola_y as 10\n"
     ]
    },
    {
     "name": "stderr",
     "output_type": "stream",
     "text": [
      "qcodes.parameters.parameter - DEBUG - Getting raw value of parameter: MockParabola_x as 80\n"
     ]
    },
    {
     "name": "stderr",
     "output_type": "stream",
     "text": [
      "qcodes.parameters.parameter - DEBUG - Getting raw value of parameter: MockParabola_noise as 0\n"
     ]
    },
    {
     "name": "stderr",
     "output_type": "stream",
     "text": [
      "qcodes.parameters.parameter - DEBUG - Setting raw value of parameter: MockParabola_y to 20\n"
     ]
    },
    {
     "name": "stderr",
     "output_type": "stream",
     "text": [
      "qcodes.parameters.parameter - DEBUG - Getting raw value of parameter: MockParabola_x as 80\n"
     ]
    },
    {
     "name": "stderr",
     "output_type": "stream",
     "text": [
      "qcodes.parameters.parameter - DEBUG - Getting raw value of parameter: MockParabola_y as 20\n"
     ]
    },
    {
     "name": "stderr",
     "output_type": "stream",
     "text": [
      "qcodes.parameters.parameter - DEBUG - Getting raw value of parameter: MockParabola_z as 0\n"
     ]
    },
    {
     "name": "stderr",
     "output_type": "stream",
     "text": [
      "qcodes.parameters.parameter - DEBUG - Getting raw value of parameter: MockParabola_y as 20\n"
     ]
    },
    {
     "name": "stderr",
     "output_type": "stream",
     "text": [
      "qcodes.parameters.parameter - DEBUG - Getting raw value of parameter: MockParabola_x as 80\n"
     ]
    },
    {
     "name": "stderr",
     "output_type": "stream",
     "text": [
      "qcodes.parameters.parameter - DEBUG - Getting raw value of parameter: MockParabola_noise as 0\n"
     ]
    },
    {
     "name": "stderr",
     "output_type": "stream",
     "text": [
      "qcodes.parameters.parameter - DEBUG - Setting raw value of parameter: MockParabola_y to 30\n"
     ]
    },
    {
     "name": "stderr",
     "output_type": "stream",
     "text": [
      "qcodes.parameters.parameter - DEBUG - Getting raw value of parameter: MockParabola_x as 80\n"
     ]
    },
    {
     "name": "stderr",
     "output_type": "stream",
     "text": [
      "qcodes.parameters.parameter - DEBUG - Getting raw value of parameter: MockParabola_y as 30\n"
     ]
    },
    {
     "name": "stderr",
     "output_type": "stream",
     "text": [
      "qcodes.parameters.parameter - DEBUG - Getting raw value of parameter: MockParabola_z as 0\n"
     ]
    },
    {
     "name": "stderr",
     "output_type": "stream",
     "text": [
      "qcodes.parameters.parameter - DEBUG - Getting raw value of parameter: MockParabola_y as 30\n"
     ]
    },
    {
     "name": "stderr",
     "output_type": "stream",
     "text": [
      "qcodes.parameters.parameter - DEBUG - Getting raw value of parameter: MockParabola_x as 80\n"
     ]
    },
    {
     "name": "stderr",
     "output_type": "stream",
     "text": [
      "qcodes.parameters.parameter - DEBUG - Getting raw value of parameter: MockParabola_noise as 0\n"
     ]
    },
    {
     "name": "stderr",
     "output_type": "stream",
     "text": [
      "qcodes.parameters.parameter - DEBUG - Setting raw value of parameter: MockParabola_y to 40\n"
     ]
    },
    {
     "name": "stderr",
     "output_type": "stream",
     "text": [
      "qcodes.parameters.parameter - DEBUG - Getting raw value of parameter: MockParabola_x as 80\n"
     ]
    },
    {
     "name": "stderr",
     "output_type": "stream",
     "text": [
      "qcodes.parameters.parameter - DEBUG - Getting raw value of parameter: MockParabola_y as 40\n"
     ]
    },
    {
     "name": "stderr",
     "output_type": "stream",
     "text": [
      "qcodes.parameters.parameter - DEBUG - Getting raw value of parameter: MockParabola_z as 0\n"
     ]
    },
    {
     "name": "stderr",
     "output_type": "stream",
     "text": [
      "qcodes.parameters.parameter - DEBUG - Getting raw value of parameter: MockParabola_y as 40\n"
     ]
    },
    {
     "name": "stderr",
     "output_type": "stream",
     "text": [
      "qcodes.parameters.parameter - DEBUG - Getting raw value of parameter: MockParabola_x as 80\n"
     ]
    },
    {
     "name": "stderr",
     "output_type": "stream",
     "text": [
      "qcodes.parameters.parameter - DEBUG - Getting raw value of parameter: MockParabola_noise as 0\n"
     ]
    },
    {
     "name": "stderr",
     "output_type": "stream",
     "text": [
      "qcodes.data.data_set - DEBUG - Finalising the DataSet. Writing.\n"
     ]
    },
    {
     "name": "stdout",
     "output_type": "stream",
     "text": [
      "DataSet:\n",
      "   location = 'data/2022-10-31/#009_MockParabola_run_09-17-31'\n",
      "   <Type>   | <array_id>                   | <array.name>    | <array.shape>\n",
      "   Setpoint | MockParabola_x_set           | x               | (10,)\n",
      "   Setpoint | MockParabola_y_set           | y               | (10, 15)\n",
      "   Measured | MockParabola_skewed_parabola | skewed_parabola | (10, 15)\n",
      "Finished at 2022-10-31 09:17:32\n"
     ]
    }
   ],
   "source": [
    "reload(hdf5_format)\n",
    "h5fmt = hdf5_format.HDF5Format()\n",
    "loop = Loop(station.MockParabola.x[-100:100:20]).loop(\n",
    "    station.MockParabola.y[-100:50:10]).each(station.MockParabola.skewed_parabola)\n",
    "data_l = loop.run(name='MockParabola_run', formatter=h5fmt)\n"
   ]
  },
  {
   "cell_type": "code",
   "execution_count": 8,
   "metadata": {
    "execution": {
     "iopub.execute_input": "2022-10-31T09:17:32.710156Z",
     "iopub.status.busy": "2022-10-31T09:17:32.709544Z",
     "iopub.status.idle": "2022-10-31T09:17:32.734660Z",
     "shell.execute_reply": "2022-10-31T09:17:32.733934Z"
    }
   },
   "outputs": [
    {
     "name": "stderr",
     "output_type": "stream",
     "text": [
      "h5py._conv - DEBUG - Creating converter from 3 to 5\n"
     ]
    }
   ],
   "source": [
    "from importlib import reload\n",
    "from qcodes.data import hdf5_format\n",
    "reload(hdf5_format)\n",
    "h5fmt = hdf5_format.HDF5Format()\n",
    "data2 = qc.data.data_set.DataSet(location=data_l.location, formatter=h5fmt)\n",
    "data2.read()"
   ]
  }
 ],
 "metadata": {
  "kernelspec": {
   "display_name": "Python 3 (ipykernel)",
   "language": "python",
   "name": "python3"
  },
  "language_info": {
   "codemirror_mode": {
    "name": "ipython",
    "version": 3
   },
   "file_extension": ".py",
   "mimetype": "text/x-python",
   "name": "python",
   "nbconvert_exporter": "python",
   "pygments_lexer": "ipython3",
   "version": "3.10.8"
  },
  "toc": {
   "base_numbering": 1,
   "nav_menu": {},
   "number_sections": true,
   "sideBar": true,
   "skip_h1_title": false,
   "title_cell": "Table of Contents",
   "title_sidebar": "Contents",
   "toc_cell": false,
   "toc_position": {},
   "toc_section_display": true,
   "toc_window_display": false
  },
  "varInspector": {
   "cols": {
    "lenName": 16,
    "lenType": 16,
    "lenVar": 40
   },
   "kernels_config": {
    "python": {
     "delete_cmd_postfix": "",
     "delete_cmd_prefix": "del ",
     "library": "var_list.py",
     "varRefreshCmd": "print(var_dic_list())"
    },
    "r": {
     "delete_cmd_postfix": ") ",
     "delete_cmd_prefix": "rm(",
     "library": "var_list.r",
     "varRefreshCmd": "cat(var_dic_list()) "
    }
   },
   "types_to_exclude": [
    "module",
    "function",
    "builtin_function_or_method",
    "instance",
    "_Feature"
   ],
   "window_display": false
  },
  "widgets": {
   "application/vnd.jupyter.widget-state+json": {
    "state": {},
    "version_major": 2,
    "version_minor": 0
   }
  }
 },
 "nbformat": 4,
 "nbformat_minor": 4
}
