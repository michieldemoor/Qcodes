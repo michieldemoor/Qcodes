{
 "cells": [
  {
   "cell_type": "markdown",
   "id": "plain-primary",
   "metadata": {},
   "source": [
    "# Qcodes example with DelegateInstrument driver\n",
    "\n",
    "This notebooks explains how to use the `DelegateInstrument` driver.\n",
    "\n",
    "## About\n",
    "The goal of the `DelegateInstrument` driver is to make it easier to combine different parameters together into a new \"virtual\" instrument. Each parameter on a `DelegateInstrument` can point to one or more parameters on other instruments in the station.\n",
    "\n",
    "## Usage\n",
    "The way it's used is mainly by specifying an entry in the station YAML. For instance, let's say you want to use a magnetic field coil. The driver has a method set_field(value, block), that by default is set to block=True, which means the field is ramped in a way that blocks further execution until the desired value is reached. However, let's say you are creating a measurement in which you want the parameter to be set, and while the value is ramping, you want to measure other parameters. This can be done by using `DelegateInstrument` and specifying a custom `setter` for the parameter that gets and sets the magnetic field.\n",
    "\n",
    "By default, each parameter is represented by a `DelegateParameter`. The `DelegateInstrument` also supports passing multiple source parameters to a given parameter. In order to do this, simply specify multiple parameters in the dictionary values  under the `parameters` key.\n",
    "\n",
    "It can also add instrument channels, specified under a separate key `channels`, shown in the second half of the notebook."
   ]
  },
  {
   "cell_type": "code",
   "execution_count": 1,
   "id": "sapphire-quebec",
   "metadata": {
    "execution": {
     "iopub.execute_input": "2022-10-31T09:15:55.429224Z",
     "iopub.status.busy": "2022-10-31T09:15:55.428749Z",
     "iopub.status.idle": "2022-10-31T09:15:55.437449Z",
     "shell.execute_reply": "2022-10-31T09:15:55.436777Z"
    }
   },
   "outputs": [
    {
     "name": "stdout",
     "output_type": "stream",
     "text": [
      "Writing example.yaml\n"
     ]
    }
   ],
   "source": [
    "%%writefile example.yaml\n",
    "\n",
    "instruments:\n",
    "  field_X:\n",
    "    type: qcodes.tests.instrument_mocks.MockField\n",
    "\n",
    "  field:\n",
    "    type: qcodes.instrument.delegate.DelegateInstrument\n",
    "    init:\n",
    "      parameters:\n",
    "        X:\n",
    "          - field_X.field\n",
    "        ramp_rate:\n",
    "          - field_X.ramp_rate\n",
    "        combined:\n",
    "          - field_X.field\n",
    "          - field_X.ramp_rate\n",
    "      set_initial_values_on_load: true\n",
    "      initial_values:\n",
    "        ramp_rate: 1.0\n",
    "      setters:\n",
    "        X:\n",
    "          method: field_X.set_field\n",
    "          block: false"
   ]
  },
  {
   "cell_type": "code",
   "execution_count": 2,
   "id": "younger-newspaper",
   "metadata": {
    "execution": {
     "iopub.execute_input": "2022-10-31T09:15:55.440534Z",
     "iopub.status.busy": "2022-10-31T09:15:55.440089Z",
     "iopub.status.idle": "2022-10-31T09:15:55.736826Z",
     "shell.execute_reply": "2022-10-31T09:15:55.736073Z"
    }
   },
   "outputs": [],
   "source": [
    "import qcodes as qc"
   ]
  },
  {
   "cell_type": "code",
   "execution_count": 3,
   "id": "muslim-briefs",
   "metadata": {
    "execution": {
     "iopub.execute_input": "2022-10-31T09:15:55.741160Z",
     "iopub.status.busy": "2022-10-31T09:15:55.740656Z",
     "iopub.status.idle": "2022-10-31T09:15:55.757715Z",
     "shell.execute_reply": "2022-10-31T09:15:55.757085Z"
    }
   },
   "outputs": [],
   "source": [
    "station = qc.Station(config_file=\"example.yaml\")"
   ]
  },
  {
   "cell_type": "code",
   "execution_count": 4,
   "id": "greatest-antenna",
   "metadata": {
    "execution": {
     "iopub.execute_input": "2022-10-31T09:15:55.761266Z",
     "iopub.status.busy": "2022-10-31T09:15:55.760799Z",
     "iopub.status.idle": "2022-10-31T09:15:55.788649Z",
     "shell.execute_reply": "2022-10-31T09:15:55.787970Z"
    }
   },
   "outputs": [],
   "source": [
    "field_X = station.load_field_X()\n",
    "field = station.load_field(station=station)"
   ]
  },
  {
   "cell_type": "code",
   "execution_count": 5,
   "id": "every-playing",
   "metadata": {
    "execution": {
     "iopub.execute_input": "2022-10-31T09:15:55.792035Z",
     "iopub.status.busy": "2022-10-31T09:15:55.791663Z",
     "iopub.status.idle": "2022-10-31T09:15:55.800969Z",
     "shell.execute_reply": "2022-10-31T09:15:55.800320Z"
    }
   },
   "outputs": [
    {
     "data": {
      "text/plain": [
       "0.0"
      ]
     },
     "execution_count": 5,
     "metadata": {},
     "output_type": "execute_result"
    }
   ],
   "source": [
    "field.X()"
   ]
  },
  {
   "cell_type": "code",
   "execution_count": 6,
   "id": "undefined-worst",
   "metadata": {
    "execution": {
     "iopub.execute_input": "2022-10-31T09:15:55.803645Z",
     "iopub.status.busy": "2022-10-31T09:15:55.803426Z",
     "iopub.status.idle": "2022-10-31T09:15:55.806625Z",
     "shell.execute_reply": "2022-10-31T09:15:55.805966Z"
    }
   },
   "outputs": [],
   "source": [
    "field.X(1.)"
   ]
  },
  {
   "cell_type": "code",
   "execution_count": 7,
   "id": "recreational-suggestion",
   "metadata": {
    "execution": {
     "iopub.execute_input": "2022-10-31T09:15:55.809495Z",
     "iopub.status.busy": "2022-10-31T09:15:55.809138Z",
     "iopub.status.idle": "2022-10-31T09:15:55.813339Z",
     "shell.execute_reply": "2022-10-31T09:15:55.812693Z"
    }
   },
   "outputs": [
    {
     "data": {
      "text/plain": [
       "9.522835413614909e-05"
      ]
     },
     "execution_count": 7,
     "metadata": {},
     "output_type": "execute_result"
    }
   ],
   "source": [
    "field.X()"
   ]
  },
  {
   "cell_type": "code",
   "execution_count": 8,
   "id": "adopted-exchange",
   "metadata": {
    "execution": {
     "iopub.execute_input": "2022-10-31T09:15:55.816809Z",
     "iopub.status.busy": "2022-10-31T09:15:55.816453Z",
     "iopub.status.idle": "2022-10-31T09:15:55.820651Z",
     "shell.execute_reply": "2022-10-31T09:15:55.819983Z"
    }
   },
   "outputs": [
    {
     "data": {
      "text/plain": [
       "0.00021665493647257488"
      ]
     },
     "execution_count": 8,
     "metadata": {},
     "output_type": "execute_result"
    }
   ],
   "source": [
    "field.X()"
   ]
  },
  {
   "cell_type": "code",
   "execution_count": 9,
   "id": "bound-broadcasting",
   "metadata": {
    "execution": {
     "iopub.execute_input": "2022-10-31T09:15:55.824269Z",
     "iopub.status.busy": "2022-10-31T09:15:55.823667Z",
     "iopub.status.idle": "2022-10-31T09:15:55.827945Z",
     "shell.execute_reply": "2022-10-31T09:15:55.827291Z"
    }
   },
   "outputs": [
    {
     "data": {
      "text/plain": [
       "0.00034099817276000977"
      ]
     },
     "execution_count": 9,
     "metadata": {},
     "output_type": "execute_result"
    }
   ],
   "source": [
    "field.X()"
   ]
  },
  {
   "cell_type": "code",
   "execution_count": 10,
   "id": "casual-ghost",
   "metadata": {
    "execution": {
     "iopub.execute_input": "2022-10-31T09:15:55.831369Z",
     "iopub.status.busy": "2022-10-31T09:15:55.831002Z",
     "iopub.status.idle": "2022-10-31T09:15:55.835260Z",
     "shell.execute_reply": "2022-10-31T09:15:55.834598Z"
    }
   },
   "outputs": [
    {
     "data": {
      "text/plain": [
       "0.0004592140515645345"
      ]
     },
     "execution_count": 10,
     "metadata": {},
     "output_type": "execute_result"
    }
   ],
   "source": [
    "field.X()"
   ]
  },
  {
   "cell_type": "markdown",
   "id": "alike-process",
   "metadata": {},
   "source": [
    "As you can see, the field is now ramped in the background with the specified ramp rate. Now, let's try to create a measurement that uses this ability, and ramps the field in the background while measuring:"
   ]
  },
  {
   "cell_type": "code",
   "execution_count": 11,
   "id": "sustained-tiger",
   "metadata": {
    "execution": {
     "iopub.execute_input": "2022-10-31T09:15:55.838700Z",
     "iopub.status.busy": "2022-10-31T09:15:55.838481Z",
     "iopub.status.idle": "2022-10-31T09:15:55.844874Z",
     "shell.execute_reply": "2022-10-31T09:15:55.843927Z"
    }
   },
   "outputs": [],
   "source": [
    "field.ramp_rate(10.)\n",
    "field_X.field(0.0)"
   ]
  },
  {
   "cell_type": "code",
   "execution_count": 12,
   "id": "pharmaceutical-partition",
   "metadata": {
    "execution": {
     "iopub.execute_input": "2022-10-31T09:15:55.847513Z",
     "iopub.status.busy": "2022-10-31T09:15:55.847294Z",
     "iopub.status.idle": "2022-10-31T09:15:55.851370Z",
     "shell.execute_reply": "2022-10-31T09:15:55.850713Z"
    }
   },
   "outputs": [
    {
     "data": {
      "text/plain": [
       "0.0"
      ]
     },
     "execution_count": 12,
     "metadata": {},
     "output_type": "execute_result"
    }
   ],
   "source": [
    "field.X()"
   ]
  },
  {
   "cell_type": "code",
   "execution_count": 13,
   "id": "happy-ordinance",
   "metadata": {
    "execution": {
     "iopub.execute_input": "2022-10-31T09:15:55.854823Z",
     "iopub.status.busy": "2022-10-31T09:15:55.854603Z",
     "iopub.status.idle": "2022-10-31T09:15:57.080834Z",
     "shell.execute_reply": "2022-10-31T09:15:57.080097Z"
    }
   },
   "outputs": [
    {
     "name": "stdout",
     "output_type": "stream",
     "text": [
      "Starting experimental run with id: 60. \n"
     ]
    }
   ],
   "source": [
    "import time\n",
    "meas = qc.Measurement(station=station)\n",
    "meas.register_parameter(field.X)\n",
    "\n",
    "with meas.run() as datasaver:\n",
    "    for B in [0.1, 0.0]:\n",
    "        field.X(B)\n",
    "        while field.X() != B:\n",
    "            datasaver.add_result((field.X, field.X()))\n",
    "            time.sleep(0.01)\n",
    "    datasaver.flush_data_to_database()"
   ]
  },
  {
   "cell_type": "code",
   "execution_count": 14,
   "id": "short-medium",
   "metadata": {
    "execution": {
     "iopub.execute_input": "2022-10-31T09:15:57.084687Z",
     "iopub.status.busy": "2022-10-31T09:15:57.084175Z",
     "iopub.status.idle": "2022-10-31T09:15:57.767848Z",
     "shell.execute_reply": "2022-10-31T09:15:57.767258Z"
    }
   },
   "outputs": [
    {
     "data": {
      "text/plain": [
       "<AxesSubplot: >"
      ]
     },
     "execution_count": 14,
     "metadata": {},
     "output_type": "execute_result"
    },
    {
     "data": {
      "image/png": "[encoded data removed]",
      "text/plain": [
       "<Figure size 640x480 with 1 Axes>"
      ]
     },
     "metadata": {},
     "output_type": "display_data"
    }
   ],
   "source": [
    "datasaver.dataset.to_pandas_dataframe().plot()"
   ]
  },
  {
   "cell_type": "markdown",
   "id": "incomplete-vietnamese",
   "metadata": {},
   "source": [
    "When specifying multiple source parameters on a given parameter, the grouped parameter will automatically return a `namedtuple` that returns both values."
   ]
  },
  {
   "cell_type": "code",
   "execution_count": 15,
   "id": "dangerous-finder",
   "metadata": {
    "execution": {
     "iopub.execute_input": "2022-10-31T09:15:57.771627Z",
     "iopub.status.busy": "2022-10-31T09:15:57.770768Z",
     "iopub.status.idle": "2022-10-31T09:15:57.775942Z",
     "shell.execute_reply": "2022-10-31T09:15:57.775198Z"
    }
   },
   "outputs": [
    {
     "data": {
      "text/plain": [
       "combined(field=0.0, ramp_rate=10.0)"
      ]
     },
     "execution_count": 15,
     "metadata": {},
     "output_type": "execute_result"
    }
   ],
   "source": [
    "field.combined()"
   ]
  },
  {
   "cell_type": "markdown",
   "id": "consolidated-cooper",
   "metadata": {},
   "source": [
    "We can now also create a custom parameter that does a simple calculation based on the current parameters."
   ]
  },
  {
   "cell_type": "code",
   "execution_count": 16,
   "id": "designed-bloom",
   "metadata": {
    "execution": {
     "iopub.execute_input": "2022-10-31T09:15:57.779021Z",
     "iopub.status.busy": "2022-10-31T09:15:57.778570Z",
     "iopub.status.idle": "2022-10-31T09:15:57.782473Z",
     "shell.execute_reply": "2022-10-31T09:15:57.781796Z"
    }
   },
   "outputs": [],
   "source": [
    "import numpy as np\n",
    "\n",
    "def calculate_ramp_time(X, ramp_rate):\n",
    "    \"\"\"Calculate ramp time in seconds\"\"\"\n",
    "    dfield = np.abs(field.target_field - X)\n",
    "    return 60. * dfield/ramp_rate"
   ]
  },
  {
   "cell_type": "code",
   "execution_count": 17,
   "id": "disabled-logic",
   "metadata": {
    "execution": {
     "iopub.execute_input": "2022-10-31T09:15:57.785379Z",
     "iopub.status.busy": "2022-10-31T09:15:57.784842Z",
     "iopub.status.idle": "2022-10-31T09:15:57.788553Z",
     "shell.execute_reply": "2022-10-31T09:15:57.787919Z"
    },
    "scrolled": true
   },
   "outputs": [],
   "source": [
    "field._create_and_add_parameter(\n",
    "    group_name=\"ramp_time\",\n",
    "    station=station,\n",
    "    paths=[\"field_X.field\", \"field_X.ramp_rate\"],\n",
    "    formatter=calculate_ramp_time\n",
    ")"
   ]
  },
  {
   "cell_type": "code",
   "execution_count": 18,
   "id": "adverse-february",
   "metadata": {
    "execution": {
     "iopub.execute_input": "2022-10-31T09:15:57.791522Z",
     "iopub.status.busy": "2022-10-31T09:15:57.790884Z",
     "iopub.status.idle": "2022-10-31T09:15:57.795704Z",
     "shell.execute_reply": "2022-10-31T09:15:57.795027Z"
    }
   },
   "outputs": [
    {
     "data": {
      "text/plain": [
       "6.0"
      ]
     },
     "execution_count": 18,
     "metadata": {},
     "output_type": "execute_result"
    }
   ],
   "source": [
    "field.ramp_rate(1.0)\n",
    "field.target_field = 0.1\n",
    "field.ramp_time()"
   ]
  },
  {
   "cell_type": "code",
   "execution_count": 19,
   "id": "statutory-xerox",
   "metadata": {
    "execution": {
     "iopub.execute_input": "2022-10-31T09:15:57.798515Z",
     "iopub.status.busy": "2022-10-31T09:15:57.798088Z",
     "iopub.status.idle": "2022-10-31T09:15:57.801262Z",
     "shell.execute_reply": "2022-10-31T09:15:57.800630Z"
    }
   },
   "outputs": [],
   "source": [
    "field.X(0.1)"
   ]
  },
  {
   "cell_type": "code",
   "execution_count": 20,
   "id": "varying-auditor",
   "metadata": {
    "execution": {
     "iopub.execute_input": "2022-10-31T09:15:57.804133Z",
     "iopub.status.busy": "2022-10-31T09:15:57.803593Z",
     "iopub.status.idle": "2022-10-31T09:15:57.807861Z",
     "shell.execute_reply": "2022-10-31T09:15:57.807223Z"
    }
   },
   "outputs": [
    {
     "data": {
      "text/plain": [
       "5.994424104690552"
      ]
     },
     "execution_count": 20,
     "metadata": {},
     "output_type": "execute_result"
    }
   ],
   "source": [
    "field.ramp_time()"
   ]
  },
  {
   "cell_type": "code",
   "execution_count": 21,
   "id": "chubby-nickel",
   "metadata": {
    "execution": {
     "iopub.execute_input": "2022-10-31T09:15:57.810757Z",
     "iopub.status.busy": "2022-10-31T09:15:57.810212Z",
     "iopub.status.idle": "2022-10-31T09:15:58.816753Z",
     "shell.execute_reply": "2022-10-31T09:15:58.815903Z"
    }
   },
   "outputs": [
    {
     "data": {
      "text/plain": [
       "4.986512899398805"
      ]
     },
     "execution_count": 21,
     "metadata": {},
     "output_type": "execute_result"
    }
   ],
   "source": [
    "import time\n",
    "time.sleep(1.)\n",
    "field.ramp_time()"
   ]
  },
  {
   "cell_type": "code",
   "execution_count": 22,
   "id": "italian-liberty",
   "metadata": {
    "execution": {
     "iopub.execute_input": "2022-10-31T09:15:58.820680Z",
     "iopub.status.busy": "2022-10-31T09:15:58.819983Z",
     "iopub.status.idle": "2022-10-31T09:15:59.828890Z",
     "shell.execute_reply": "2022-10-31T09:15:59.827392Z"
    }
   },
   "outputs": [
    {
     "data": {
      "text/plain": [
       "3.976461410522462"
      ]
     },
     "execution_count": 22,
     "metadata": {},
     "output_type": "execute_result"
    }
   ],
   "source": [
    "import time\n",
    "time.sleep(1.)\n",
    "field.ramp_time()"
   ]
  },
  {
   "cell_type": "markdown",
   "id": "c1145a2d",
   "metadata": {},
   "source": [
    "# Devices with channels"
   ]
  },
  {
   "cell_type": "markdown",
   "id": "182693f8",
   "metadata": {},
   "source": [
    "The YAML file below specifies the instruments with the channels/parameters we wish to group into a new instrument, here called \"device\". The first example simply adds the channel 'as is' using self.add_submodule, while the readout parameter is added as a DelegateParameter."
   ]
  },
  {
   "cell_type": "code",
   "execution_count": 23,
   "id": "a88d5103",
   "metadata": {
    "execution": {
     "iopub.execute_input": "2022-10-31T09:15:59.832737Z",
     "iopub.status.busy": "2022-10-31T09:15:59.832204Z",
     "iopub.status.idle": "2022-10-31T09:15:59.836937Z",
     "shell.execute_reply": "2022-10-31T09:15:59.836177Z"
    }
   },
   "outputs": [
    {
     "name": "stdout",
     "output_type": "stream",
     "text": [
      "Overwriting example.yaml\n"
     ]
    }
   ],
   "source": [
    "%%writefile example.yaml\n",
    "\n",
    "instruments:\n",
    "  lockin:\n",
    "    type: qcodes.tests.instrument_mocks.MockLockin\n",
    "\n",
    "  dac:\n",
    "    type: qcodes.tests.instrument_mocks.MockDAC   \n",
    "\n",
    "  device:\n",
    "    type: qcodes.instrument.delegate.DelegateInstrument\n",
    "    init:\n",
    "      parameters:\n",
    "        readout: lockin.X\n",
    "      channels:\n",
    "        gate_1: dac.ch01\n",
    "      set_initial_values_on_load: true\n",
    "      initial_values:\n",
    "        readout: 1e-5\n",
    "        gate_1.voltage.post_delay: 0.01"
   ]
  },
  {
   "cell_type": "code",
   "execution_count": 24,
   "id": "91f2a8ab",
   "metadata": {
    "execution": {
     "iopub.execute_input": "2022-10-31T09:15:59.840698Z",
     "iopub.status.busy": "2022-10-31T09:15:59.840256Z",
     "iopub.status.idle": "2022-10-31T09:15:59.853434Z",
     "shell.execute_reply": "2022-10-31T09:15:59.852817Z"
    }
   },
   "outputs": [],
   "source": [
    "station = qc.Station(config_file=\"example.yaml\")"
   ]
  },
  {
   "cell_type": "code",
   "execution_count": 25,
   "id": "45b22762",
   "metadata": {
    "execution": {
     "iopub.execute_input": "2022-10-31T09:15:59.856607Z",
     "iopub.status.busy": "2022-10-31T09:15:59.856144Z",
     "iopub.status.idle": "2022-10-31T09:15:59.893579Z",
     "shell.execute_reply": "2022-10-31T09:15:59.892890Z"
    }
   },
   "outputs": [],
   "source": [
    "lockin = station.load_lockin()\n",
    "dac = station.load_dac()\n",
    "device = station.load_device(station=station)"
   ]
  },
  {
   "cell_type": "code",
   "execution_count": 26,
   "id": "9bfa54fb",
   "metadata": {
    "execution": {
     "iopub.execute_input": "2022-10-31T09:15:59.897266Z",
     "iopub.status.busy": "2022-10-31T09:15:59.896877Z",
     "iopub.status.idle": "2022-10-31T09:15:59.900894Z",
     "shell.execute_reply": "2022-10-31T09:15:59.900218Z"
    }
   },
   "outputs": [
    {
     "name": "stdout",
     "output_type": "stream",
     "text": [
      "<MockDACChannel: dac_ch01 of MockDAC: dac>\n",
      "0.01\n"
     ]
    }
   ],
   "source": [
    "print(device.gate_1)\n",
    "print(device.gate_1.voltage.post_delay)"
   ]
  },
  {
   "cell_type": "code",
   "execution_count": 27,
   "id": "91d57fe0",
   "metadata": {
    "execution": {
     "iopub.execute_input": "2022-10-31T09:15:59.904800Z",
     "iopub.status.busy": "2022-10-31T09:15:59.904177Z",
     "iopub.status.idle": "2022-10-31T09:15:59.919354Z",
     "shell.execute_reply": "2022-10-31T09:15:59.918691Z"
    }
   },
   "outputs": [
    {
     "name": "stdout",
     "output_type": "stream",
     "text": [
      "0.0\n"
     ]
    },
    {
     "data": {
      "text/plain": [
       "-0.6"
      ]
     },
     "execution_count": 27,
     "metadata": {},
     "output_type": "execute_result"
    }
   ],
   "source": [
    "print(device.gate_1.voltage())\n",
    "device.gate_1.voltage(-0.6)\n",
    "device.gate_1.voltage()"
   ]
  },
  {
   "cell_type": "markdown",
   "id": "37e1c2c3",
   "metadata": {},
   "source": [
    "The second example adds a channel using a custom channel class, which takes the initial channel and its name as input and has a parameter current_valid_ranges."
   ]
  },
  {
   "cell_type": "code",
   "execution_count": 28,
   "id": "7e4becd1",
   "metadata": {
    "execution": {
     "iopub.execute_input": "2022-10-31T09:15:59.922907Z",
     "iopub.status.busy": "2022-10-31T09:15:59.922471Z",
     "iopub.status.idle": "2022-10-31T09:15:59.926880Z",
     "shell.execute_reply": "2022-10-31T09:15:59.926196Z"
    }
   },
   "outputs": [
    {
     "name": "stdout",
     "output_type": "stream",
     "text": [
      "Overwriting example.yaml\n"
     ]
    }
   ],
   "source": [
    "%%writefile example.yaml\n",
    "\n",
    "instruments:\n",
    "  lockin:\n",
    "    type: qcodes.tests.instrument_mocks.MockLockin\n",
    "\n",
    "  dac:\n",
    "    type: qcodes.tests.instrument_mocks.MockDAC   \n",
    "\n",
    "  device:\n",
    "    type: qcodes.instrument.delegate.DelegateInstrument\n",
    "    init:\n",
    "      parameters:\n",
    "        readout: lockin.X\n",
    "      channels:\n",
    "        type: qcodes.tests.instrument_mocks.MockCustomChannel\n",
    "        gate_1: \n",
    "          channel: dac.ch01\n",
    "          current_valid_range: [-0.5, 0]\n",
    "      set_initial_values_on_load: true\n",
    "      initial_values:\n",
    "        readout: 1e-5"
   ]
  },
  {
   "cell_type": "code",
   "execution_count": 29,
   "id": "2e3ca8d5",
   "metadata": {
    "execution": {
     "iopub.execute_input": "2022-10-31T09:15:59.930528Z",
     "iopub.status.busy": "2022-10-31T09:15:59.930091Z",
     "iopub.status.idle": "2022-10-31T09:15:59.933408Z",
     "shell.execute_reply": "2022-10-31T09:15:59.932736Z"
    }
   },
   "outputs": [],
   "source": [
    "lockin.close()\n",
    "dac.close()"
   ]
  },
  {
   "cell_type": "code",
   "execution_count": 30,
   "id": "2f2d2b2b",
   "metadata": {
    "execution": {
     "iopub.execute_input": "2022-10-31T09:15:59.936400Z",
     "iopub.status.busy": "2022-10-31T09:15:59.936026Z",
     "iopub.status.idle": "2022-10-31T09:15:59.975872Z",
     "shell.execute_reply": "2022-10-31T09:15:59.975192Z"
    }
   },
   "outputs": [],
   "source": [
    "station = qc.Station(config_file=\"example.yaml\")\n",
    "lockin = station.load_lockin()\n",
    "dac = station.load_dac()"
   ]
  },
  {
   "cell_type": "code",
   "execution_count": 31,
   "id": "9cb653b0",
   "metadata": {
    "execution": {
     "iopub.execute_input": "2022-10-31T09:15:59.979209Z",
     "iopub.status.busy": "2022-10-31T09:15:59.978975Z",
     "iopub.status.idle": "2022-10-31T09:15:59.993061Z",
     "shell.execute_reply": "2022-10-31T09:15:59.992440Z"
    }
   },
   "outputs": [],
   "source": [
    "device = station.load_device(station=station)"
   ]
  },
  {
   "cell_type": "code",
   "execution_count": 32,
   "id": "433d9646",
   "metadata": {
    "execution": {
     "iopub.execute_input": "2022-10-31T09:15:59.996072Z",
     "iopub.status.busy": "2022-10-31T09:15:59.995844Z",
     "iopub.status.idle": "2022-10-31T09:16:00.000224Z",
     "shell.execute_reply": "2022-10-31T09:15:59.999544Z"
    }
   },
   "outputs": [
    {
     "data": {
      "text/plain": [
       "<MockCustomChannel: dac_gate_1 of MockDAC: dac>"
      ]
     },
     "execution_count": 32,
     "metadata": {},
     "output_type": "execute_result"
    }
   ],
   "source": [
    "device.gate_1"
   ]
  },
  {
   "cell_type": "code",
   "execution_count": 33,
   "id": "3d2b8faa",
   "metadata": {
    "execution": {
     "iopub.execute_input": "2022-10-31T09:16:00.003718Z",
     "iopub.status.busy": "2022-10-31T09:16:00.003494Z",
     "iopub.status.idle": "2022-10-31T09:16:00.006596Z",
     "shell.execute_reply": "2022-10-31T09:16:00.005915Z"
    }
   },
   "outputs": [],
   "source": [
    "device.gate_1.voltage(-0.3)"
   ]
  },
  {
   "cell_type": "code",
   "execution_count": 34,
   "id": "49def342",
   "metadata": {
    "execution": {
     "iopub.execute_input": "2022-10-31T09:16:00.009437Z",
     "iopub.status.busy": "2022-10-31T09:16:00.009213Z",
     "iopub.status.idle": "2022-10-31T09:16:00.013468Z",
     "shell.execute_reply": "2022-10-31T09:16:00.012804Z"
    }
   },
   "outputs": [
    {
     "data": {
      "text/plain": [
       "-0.3"
      ]
     },
     "execution_count": 34,
     "metadata": {},
     "output_type": "execute_result"
    }
   ],
   "source": [
    "device.gate_1.voltage()"
   ]
  },
  {
   "cell_type": "markdown",
   "id": "7b122128",
   "metadata": {},
   "source": [
    "The MockCustomChannel has a parameter `current_valid_range`."
   ]
  },
  {
   "cell_type": "code",
   "execution_count": 35,
   "id": "d32a06fd",
   "metadata": {
    "execution": {
     "iopub.execute_input": "2022-10-31T09:16:00.017711Z",
     "iopub.status.busy": "2022-10-31T09:16:00.017476Z",
     "iopub.status.idle": "2022-10-31T09:16:00.022926Z",
     "shell.execute_reply": "2022-10-31T09:16:00.022380Z"
    }
   },
   "outputs": [
    {
     "data": {
      "text/plain": [
       "[-0.5, 0]"
      ]
     },
     "execution_count": 35,
     "metadata": {},
     "output_type": "execute_result"
    }
   ],
   "source": [
    "device.gate_1.current_valid_range()"
   ]
  }
 ],
 "metadata": {
  "kernelspec": {
   "display_name": "Python 3 (ipykernel)",
   "language": "python",
   "name": "python3"
  },
  "language_info": {
   "codemirror_mode": {
    "name": "ipython",
    "version": 3
   },
   "file_extension": ".py",
   "mimetype": "text/x-python",
   "name": "python",
   "nbconvert_exporter": "python",
   "pygments_lexer": "ipython3",
   "version": "3.10.8"
  }
 },
 "nbformat": 4,
 "nbformat_minor": 5
}
